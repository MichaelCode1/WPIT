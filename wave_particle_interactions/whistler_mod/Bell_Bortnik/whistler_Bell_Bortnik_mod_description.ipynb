{
 "cells": [
  {
   "cell_type": "markdown",
   "id": "c9beceea",
   "metadata": {},
   "source": [
    "### whistler_Bell_Bortnik_mod module description"
   ]
  },
  {
   "cell_type": "markdown",
   "id": "77390191",
   "metadata": {},
   "source": [
    "We present the analytical theoretical description of the equations used in 'whistler_Bell_Bortnik_mod' module\n",
    " <a class=\"anchor\" id=\"top-bullet\"></a>\n",
    "### Table of Contents\n",
    " <a class=\"anchor\" id=\"top-bullet\"></a>\n",
    "### Table of Contents\n",
    "\n",
    "* [whistler_Bell_Bortnik_mod.Bell_params](#Bell_params-bullet)\n",
    "* [whistler_Bell_Bortnik_mod.z_rk_bort](#z_rk_bort-bullet)\n",
    "* [whistler_Bell_Bortnik_mod.p_par_rk_bort](#p_par_rk_bort-bullet)\n",
    "* [whistler_Bell_Bortnik_mod.p_per_rk_bort](#p_per_rk_bort-bullet)\n",
    "* [whistler_Bell_Bortnik_mod.eta_rk_bort](#eta_rk_bort-bullet)\n",
    "* [whistler_Bell_Bortnik_mod.lamda_rk_bort](#lamda_rk_bort-bullet)\n",
    "* [whistler_Bell_Bortnik_mod.alpha_rk_bort](#alpha_rk_bort-bullet)\n",
    "* [whistler_Bell_Bortnik_mod.alpha_eq_rk_bort](#alpha_eq_rk_bort-bullet)\n",
    "\n"
   ]
  },
  {
   "cell_type": "markdown",
   "id": "7e90ce7d",
   "metadata": {},
   "source": [
    "### whistler_Bell_Bortnik_mod.Bell_params <a class=\"anchor\" id=\"Bell_params-bullet\"></a>\n",
    "\n",
    "The needed paramaters for the intereaction of an electron with a whsitler-mode wave according to Bell[1984] are:\n",
    "$$\\beta = \\frac {k_x p_{\\perp}}{m_e \\gamma \\omega_H}$$\n",
    "$$ k_z= k \\cos \\theta = (\\mu \\omega / c) \\cos \\theta $$\n",
    "$$ k_x=k \\sin \\theta$$\n",
    "$$ \\omega_{\\tau m}^2 = (-1)^{m-1} \\omega_{\\tau 0}^2 [ J_{m-1}(\\beta) - \\alpha_1 J_{m+1}(\\beta) + \\gamma \\alpha_2 J_m (\\beta)]$$\n",
    "$$ \\omega_{\\tau 0}^2 = \\frac{\\omega_1 k_z p_{\\perp}}{\\gamma m_e}$$\n",
    "$$ \\omega_1 = \\frac{e}{2 m_e}(B_x^w+B_y^w)$$\n",
    "$$ \\omega_2 = \\frac{e}{2 m_e}(B_x^w-B_y^w)$$\n",
    "$$\\alpha_1=\\frac{\\omega_2}{\\omega_1}$$\n",
    "$$\\alpha_2 = \\frac{e E_z^w}{\\omega_1 p_{\\perp}}$$\n",
    "$$ R_1= \\frac {E_x^w+E_y^w}{B_x^w+B_y^w}$$\n",
    "$$ R_2= \\frac {E_x^w-E_y^w}{B_x^w-B_y^w}$$\n",
    "where $\\mu$ is the refractive index and $J_i$ are Bessel functions\n",
    "of the first kind, order $i$.\n",
    "\n",
    "**Inputs**:\n",
    "\n",
    "**m_res_arg**: resonance order number \n",
    "\n",
    "**ppar_arg**: parallel to the geomagnetic field momentum\n",
    "\n",
    "**pper_arg**: perpendicular to the geomagnetic field momentum\n",
    "\n",
    "**Bxw_arg**: x component of the wave magnetic field in T\n",
    "\n",
    "**Byw_arg**: y component of the wave magnetic field in T\n",
    "\n",
    "**Exw_arg**: x component of the wave electric field in V/m\n",
    "\n",
    "**Eyw_arg**: y component of the wave electric field in V/m\n",
    "\n",
    "**Ezw_arg**: z component of the wave electric field in V/m\n",
    "\n",
    "**kz_arg**: z component of the wave number \n",
    "\n",
    "**kx_arg**: x component of the wave number\n",
    "\n",
    "**wce_arg**: gyrofrequency in rad/s \n",
    "\n",
    "\n",
    "**Outputs**:\n",
    "\n",
    "**gamma_arg**: Lorentz factor\n",
    "\n",
    "**w1_arg**: $\\omega_1$ Bell parameter\n",
    "\n",
    "**w2_arg**: $\\omega_2$ Bell parameter\n",
    "\n",
    "**wtau_sq_arg**: $\\omega_{\\tau m}^2$ Bell parameter\n",
    "\n",
    "**R1_arg**: $R_1$ Bell parameter\n",
    "\n",
    "**R2_arg**: $R_2$ Bell parameter\n",
    "\n",
    "**beta_arg**: $\\beta$ Bell parameter\n"
   ]
  },
  {
   "cell_type": "markdown",
   "id": "ac6cbb4a",
   "metadata": {},
   "source": [
    "[Return to top](#top-bullet) "
   ]
  },
  {
   "cell_type": "markdown",
   "id": "15adb706",
   "metadata": {},
   "source": [
    "### whistler_Bell_Bortnik_mod.z_rk_bort<a class=\"anchor\" id=\"z_rk_bort-bullet\"></a>\n",
    "\n",
    "$$\\frac{dz}{dt}=u_z=\\frac{p_z}{\\gamma m_e}$$\n",
    "\n",
    "**Inputs**:\n",
    "\n",
    "**gamma_arg**: Lorentz factor\n",
    "\n",
    "**ppar_arg**: parallel to the geomagnetic field momentum\n",
    "\n",
    "\n",
    "**Outputs**:\n",
    "\n",
    "\n",
    "\n",
    "**krk**: $\\large\\frac{dz}{dt}$ \n",
    "\n",
    "\n"
   ]
  },
  {
   "cell_type": "markdown",
   "id": "10857469",
   "metadata": {},
   "source": [
    "[Return to top](#top-bullet) "
   ]
  },
  {
   "cell_type": "markdown",
   "id": "c06869c7",
   "metadata": {},
   "source": [
    "### whistler_Bell_Bortnik_mod.p_par_rk_bort<a class=\"anchor\" id=\"p_par_rk_bort-bullet\"></a>\n",
    "\n",
    "$$ \\frac{dp_z}{dt}=\\omega_{\\tau m}^2 m_e k_z^{-1} \\sin \\eta - \\frac{1}{\\gamma m_e}\\frac{p_{\\perp}^2}{2\\omega_H}\\frac{\\partial \\omega_H}{\\partial z}$$\n",
    "\n",
    "**Inputs**:\n",
    "\n",
    "**pper_arg**: perpendicular to the geomagnetic field momentum\n",
    "\n",
    "**eta_arg**: wave-particle  phase in rad\n",
    "\n",
    "**wtau_sq_arg**: $\\omega_{\\tau m}^2$ Bell parameter\n",
    "\n",
    "**kz_arg**: z component of the wave number \n",
    "\n",
    "**gamma_arg**: Lorentz factor\n",
    "\n",
    "**wce_arg**: gyrofrequency in rad/s \n",
    "\n",
    "**dwds_arg**: derivative of gyrofrequency with respect to the distance along the magnetic field line $\\large\\frac{\\partial_{\\omega_{ce}}}{\\partial z}$\n",
    "\n",
    "\n",
    "**Outputs**:\n",
    "\n",
    "\n",
    "\n",
    "**lrk**: $\\large\\frac{dp_{\\parallel}}{dt}$ "
   ]
  },
  {
   "cell_type": "markdown",
   "id": "a2b3f0a7",
   "metadata": {},
   "source": [
    "[Return to top](#top-bullet) "
   ]
  },
  {
   "cell_type": "markdown",
   "id": "638d2d2b",
   "metadata": {},
   "source": [
    "### whistler_Bell_Bortnik_mod.p_per_rk_bort<a class=\"anchor\" id=\"p_per_rk_bort-bullet\"></a>\n",
    "\n",
    "$$\\frac{dp_{\\perp}}{dt}=- \\Bigg[ \\omega_1\\Bigg( \\frac{p_z}{\\gamma}+m_e R_1\\Bigg) J_{m-1}(\\beta)-\\omega_2 \\Bigg( \\frac{p_z}{\\gamma}-m_e R_2\\Bigg) J_{m+1}(\\beta) \\Bigg] \\sin \\eta + \\frac{1}{\\gamma m_e}\\frac{p_{\\perp} p_z}{2\\omega_H}\\frac{\\partial \\omega_H}{\\partial z} $$\n",
    "\n",
    "**Inputs**:\n",
    "\n",
    "**pper_arg**: perpendicular to the geomagnetic field momentum\n",
    "\n",
    "**ppar_arg**: parallel to the geomagnetic field momentum\n",
    "\n",
    "**eta_arg**: wave-particle phase in rad\n",
    "\n",
    "**w1_arg**: $\\omega_1$ Bell parameter\n",
    "\n",
    "**w2_arg**: $\\omega_2$ Bell parameter\n",
    "\n",
    "**beta_arg**: $\\beta$ Bell parameter\n",
    "\n",
    "**gamma_arg**: Lorentz factor\n",
    "\n",
    "**R1_arg**: $R_1$ Bell parameter\n",
    "\n",
    "**R2_arg**: $R_2$ Bell parameter\n",
    "\n",
    "**m_res_arg**: resonance order number \n",
    "\n",
    "**wce_arg**: gyrofrequency in rad/s \n",
    "\n",
    "**dwds_arg**: derivative of gyrofrequency with respect to the distance along the magnetic field line $\\large\\frac{\\partial_{\\omega_{ce}}}{\\partial z}$\n",
    "\n",
    "\n",
    "**Outputs**:\n",
    "\n",
    "\n",
    "\n",
    "**mrk**: $\\large\\frac{dp_{\\perp}}{dt}$ "
   ]
  },
  {
   "cell_type": "markdown",
   "id": "f10bef2e",
   "metadata": {},
   "source": [
    "[Return to top](#top-bullet) "
   ]
  },
  {
   "cell_type": "markdown",
   "id": "d92e5ef8",
   "metadata": {},
   "source": [
    "### whistler_Bell_Bortnik_mod.eta_rk_bort<a class=\"anchor\" id=\"eta_rk_bort-bullet\"></a>\n",
    "\n",
    "\n",
    "$$ \\frac{d\\eta}{dt}=\\frac{m\\omega_H}{\\gamma}-\\omega-k_z\\frac{p_z}{\\gamma m_e}$$\n",
    "\n",
    "\n",
    "**Inputs**:\n",
    "\n",
    "**ppar_arg**: parallel to the geomagnetic field momentum\n",
    "\n",
    "**m_res_arg**: resonance order number \n",
    "\n",
    "**wce_arg**: gyrofrequency in rad/s\n",
    "\n",
    "**wwave_arg**: wave angular frequenct in rad/s\n",
    "\n",
    "**gamma_arg**: Lorentz factor\n",
    "\n",
    "**kz_arg**: z component of the wave number \n",
    "\n",
    "\n",
    "**Outputs**:\n",
    "\n",
    "**mrk**: $\\large\\frac{d\\eta}{dt}$ "
   ]
  },
  {
   "cell_type": "markdown",
   "id": "436ba03e",
   "metadata": {},
   "source": [
    "[Return to top](#top-bullet) "
   ]
  },
  {
   "cell_type": "markdown",
   "id": "edbe7b0a",
   "metadata": {},
   "source": [
    "### whistler_Bell_Bortnik_mod.lamda_rk_bort<a class=\"anchor\" id=\"lamda_rk_bort-bullet\"></a>\n",
    "\n",
    "\n",
    "$$ \\frac{\\partial \\lambda}{\\partial t}=\\frac{\\partial \\lambda}{\\partial z}\\frac{\\partial z}{\\partial t} = \n",
    "\\frac{1}{L R_e (1+ 3 \\sin^2 \\lambda)^{1/2} \\cos \\lambda} \\frac{p_z}{\\gamma m_e} $$\n",
    "\n",
    "\n",
    "**Inputs**:\n",
    "\n",
    "**ppar_arg**: parallel to the geomagnetic field momentum\n",
    "\n",
    "**gamma_arg**: Lorentz factor\n",
    "\n",
    "**L_arg**: L shell\n",
    "\n",
    "\n",
    "**Outputs**:\n",
    "\n",
    "**ork**: $\\large\\frac{d\\lambda}{dt}$ "
   ]
  },
  {
   "cell_type": "markdown",
   "id": "8dd14dcd",
   "metadata": {},
   "source": [
    "[Return to top](#top-bullet) "
   ]
  },
  {
   "cell_type": "markdown",
   "id": "2a016e7f",
   "metadata": {},
   "source": [
    "### whistler_Bell_Bortnik_mod.alpha_rk_bort<a class=\"anchor\" id=\"alpha_rk_bort-bullet\"></a>\n",
    "\n",
    "\n",
    "$$\\frac{d\\alpha}{dt}=-\\frac{m_e \\omega_{\\tau m }^2}{k_z p_{\\perp}} \\Bigg( 1+\\frac{\\cos^2 \\alpha}{ m \\frac{\\omega_H}{\\omega}-1} \\Bigg) \\sin \\eta + \\frac{1}{\\gamma m_e} \\frac{p_{\\perp}}{2 \\omega_H} \\frac{\\partial \\omega_H}{\\partial z}$$\n",
    "\n",
    "\n",
    "**Inputs**:\n",
    "\n",
    "**pper_arg**: perpendicular to the geomagnetic field momentum\n",
    "\n",
    "**eta_arg**: wave-particle phase in rad\n",
    "\n",
    "**alpha_arg**: local pitch angle in rad\n",
    "\n",
    "**wtau_sq_arg**: $\\omega_{\\tau m}^2$ Bell parameter\n",
    "\n",
    "**kz_arg**: z component of the wave number \n",
    "\n",
    "**m_res_arg**: resonance order number \n",
    "\n",
    "**wce_arg**: gyrofrequency in rad/s\n",
    "\n",
    "**wwave_arg**: wave angular frequenct in rad/s\n",
    "\n",
    "**gamma_arg**: Lorentz factor\n",
    "\n",
    "**dwds_arg**: derivative of gyrofrequency with respect to the distance along the magnetic field line $\\large\\frac{\\partial_{\\omega_{ce}}}{\\partial z}$\n",
    "\n",
    "\n",
    "**Outputs**:\n",
    "\n",
    "**prk**: $\\large\\frac{d\\alpha}{dt}$ "
   ]
  },
  {
   "cell_type": "markdown",
   "id": "f7ade923",
   "metadata": {},
   "source": [
    "[Return to top](#top-bullet) "
   ]
  },
  {
   "cell_type": "markdown",
   "id": "1f36554d",
   "metadata": {},
   "source": [
    "### whistler_Bell_Bortnik_mod.alpha_eq_rk_bort<a class=\"anchor\" id=\"alpha_eq_rk_bort-bullet\"></a>\n",
    "\n",
    "\n",
    "\n",
    "$$\\frac{d\\alpha_{eq}}{dt}=-\\frac{1}{p^2}\\frac{\\tan\\alpha_{eq}}{\\tan\\alpha} \\Bigg[ \\Bigg( \\omega_1\\Bigg( \\frac{p_z}{\\gamma}+m_e R_1\\Bigg) J_{m-1}(\\beta)-\\omega_2 \\Bigg( \\frac{p_z}{\\gamma}-m_e R_2\\Bigg) J_{m+1}(\\beta) \\Bigg)  p_\\parallel+ \\omega_{\\tau m}^2 m_e k_z^{-1} p_\\perp \\Bigg] \\sin \\eta $$\n",
    "\n",
    "**Inputs**:\n",
    "\n",
    "**ppar_arg**: parallel to the geomagnetic field momentum\n",
    "\n",
    "**pper_arg**: perpendicular to the geomagnetic field momentum\n",
    "\n",
    "**alpha_arg**: local pitch angle in rad\n",
    "\n",
    "**aeq_arg**: local pitch angle in rad\n",
    "\n",
    "**eta_arg**: wave-particle phase in rad\n",
    "\n",
    "**w1_arg**: $\\omega_1$ Bell parameter\n",
    "\n",
    "**R1_arg**: $R_1$ Bell parameter\n",
    "\n",
    "**w2_arg**: $\\omega_2$ Bell parameter\n",
    "\n",
    "**R2_arg**: $R_2$ Bell parameter\n",
    "\n",
    "**gamma_arg**: Lorentz factor\n",
    "\n",
    "**beta_arg**: $\\beta$ Bell parameter\n",
    "\n",
    "**wtau_sq_arg**: $\\omega_{\\tau m}^2$ Bell parameter\n",
    "\n",
    "**kz_arg**: z component of the wave number \n",
    "\n",
    "**m_res_arg**: resonance order number \n",
    "\n",
    "\n",
    "**Outputs**:\n",
    "\n",
    "**tmp**: $\\large\\frac{d\\alpha_{eq}}{dt}$ "
   ]
  },
  {
   "cell_type": "markdown",
   "id": "eedea674",
   "metadata": {},
   "source": [
    "[Return to top](#top-bullet) "
   ]
  },
  {
   "cell_type": "markdown",
   "id": "4af765bd",
   "metadata": {},
   "source": [
    "[Return to top](#top-bullet) "
   ]
  },
  {
   "cell_type": "code",
   "execution_count": null,
   "id": "4f641331",
   "metadata": {},
   "outputs": [],
   "source": []
  },
  {
   "cell_type": "code",
   "execution_count": null,
   "id": "53c728d8",
   "metadata": {},
   "outputs": [],
   "source": []
  }
 ],
 "metadata": {
  "kernelspec": {
   "display_name": "Python 3 (ipykernel)",
   "language": "python",
   "name": "python3"
  },
  "language_info": {
   "codemirror_mode": {
    "name": "ipython",
    "version": 3
   },
   "file_extension": ".py",
   "mimetype": "text/x-python",
   "name": "python",
   "nbconvert_exporter": "python",
   "pygments_lexer": "ipython3",
   "version": "3.6.9"
  }
 },
 "nbformat": 4,
 "nbformat_minor": 5
}
