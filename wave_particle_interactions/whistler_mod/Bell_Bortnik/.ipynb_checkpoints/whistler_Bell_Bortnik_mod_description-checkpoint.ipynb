{
 "cells": [
  {
   "cell_type": "markdown",
   "id": "af2d3fbc",
   "metadata": {},
   "source": [
    "### whistler_Bell_Bortnik_mod module description"
   ]
  },
  {
   "cell_type": "markdown",
   "id": "23ae2702",
   "metadata": {},
   "source": [
    "We present the analytical theoretical description of the equations used in 'whistler_Bell_Bortnik_mod' module"
   ]
  },
  {
   "cell_type": "markdown",
   "id": "5152aecf",
   "metadata": {},
   "source": [
    "### whistler_Bell_Bortnik_mod.Bell_params\n",
    "\n",
    "The needed paramaters for the intereaction of an electron with a whsitler-mode wave according to Bell[1984] are:\n",
    "$$\\beta = \\frac {k_x p_{\\perp}}{m_e \\gamma \\omega_H}$$\n",
    "$$ k_z= k \\cos \\theta = (\\mu \\omega / c) \\cos \\theta $$\n",
    "$$ k_x=k \\sin \\theta$$\n",
    "$$ \\omega_{\\tau m}^2 = (-1)^{m-1} \\omega_{\\tau 0}^2 [ J_{m-1}(\\beta) - \\alpha_1 J_{m+1}(\\beta) + \\gamma \\alpha_2 J_m (\\beta)]$$\n",
    "$$ \\omega_{\\tau 0}^2 = \\frac{\\omega_1 k_z p_{\\perp}}{\\gamma m_e}$$\n",
    "$$ \\omega_1 = \\frac{e}{2 m_e}(B_x^w+B_y^w)$$\n",
    "$$ \\omega_2 = \\frac{e}{2 m_e}(B_x^w-B_y^w)$$\n",
    "$$\\alpha_1=\\frac{\\omega_2}{\\omega_1}$$\n",
    "$$\\alpha_2 = \\frac{e E_z^w}{\\omega_1 p_{\\perp}}$$\n",
    "$$ R_1= \\frac {E_x^w+E_y^w}{B_x^w+B_y^w}$$\n",
    "$$ R_2= \\frac {E_x^w-E_y^w}{B_x^w-B_y^w}$$\n",
    "where $\\mu$ is the refractive index and $J_i$ are Bessel functions\n",
    "of the first kind, order $i$.\n",
    "\n"
   ]
  },
  {
   "cell_type": "code",
   "execution_count": null,
   "id": "5a85010f",
   "metadata": {},
   "outputs": [],
   "source": []
  }
 ],
 "metadata": {
  "kernelspec": {
   "display_name": "Python 3 (ipykernel)",
   "language": "python",
   "name": "python3"
  },
  "language_info": {
   "codemirror_mode": {
    "name": "ipython",
    "version": 3
   },
   "file_extension": ".py",
   "mimetype": "text/x-python",
   "name": "python",
   "nbconvert_exporter": "python",
   "pygments_lexer": "ipython3",
   "version": "3.6.9"
  }
 },
 "nbformat": 4,
 "nbformat_minor": 5
}
