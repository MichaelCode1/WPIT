{
 "cells": [
  {
   "cell_type": "markdown",
   "id": "4d493289",
   "metadata": {},
   "source": [
    "## Latitudinal dependence of nonlinear interaction between electromagnetic ion cyclotron wave and terrestrial ring current ions\n",
    "Su, Zhu, Xiao, Zheng, Zhang, Liu, Shen, Wang, Wang (2014)\n",
    "\n"
   ]
  },
  {
   "cell_type": "code",
   "execution_count": 1,
   "id": "9a2a60aa",
   "metadata": {},
   "outputs": [
    {
     "name": "stdout",
     "output_type": "stream",
     "text": [
      "/home/tourgaidis/Επιφάνεια εργασίας/WPIT_GIT/WPIT/wave_particle_interactions/EMIC_ion_mod\n"
     ]
    }
   ],
   "source": [
    "import numpy as np\n",
    "import os\n",
    "import sys\n",
    "import inspect\n",
    "import matplotlib.pyplot as plt\n",
    "\n",
    "\n",
    "current_dir =  os.path.abspath(os.path.dirname('__file__'))\n",
    "\n",
    "fpath_envi = os.path.abspath(current_dir + \"../../../environment\")\n",
    "fpath_wave = os.path.abspath(current_dir + \"../../../wave_properties\")\n",
    "fpath_wpi = os.path.abspath(current_dir + \"../../../wave_particle_interactions/EMIC_ion_mod\")\n",
    "\n",
    "sys.path.append(fpath_envi)\n",
    "sys.path.append(fpath_wave)\n",
    "sys.path.append(fpath_wpi)\n",
    "\n",
    "print(fpath_wpi)\n",
    "import  const"
   ]
  },
  {
   "cell_type": "markdown",
   "id": "cc5b6b96",
   "metadata": {},
   "source": [
    "### 1. Define simulation parameters\n",
    "\n",
    "Here we define all the initial parameters of the simulation in respect with the particle and the wave"
   ]
  },
  {
   "cell_type": "code",
   "execution_count": 2,
   "id": "8556cac4",
   "metadata": {},
   "outputs": [],
   "source": [
    "#import WPIT routines\n",
    "from environment_mod import Bmag_dipole\n",
    "from environment_mod import aeq2alpha\n",
    "from environment_mod import cyclotron"
   ]
  },
  {
   "cell_type": "code",
   "execution_count": 3,
   "id": "18f6b915",
   "metadata": {},
   "outputs": [],
   "source": [
    "### Simulation parameters\n",
    "L_shell=4\n",
    "lamdaeq=np.deg2rad(0)\n",
    "Beq =Bmag_dipole(L_shell,lamdaeq)\n",
    "m_res=1\n",
    "\n",
    "wce_eq=cyclotron(Beq,const.qe,const.me)[0]\n",
    "wcHe_eq=cyclotron(Beq,const.qe,const.mHe)[0]\n",
    "wcH_eq=cyclotron(Beq,const.qe,const.mH)[0]\n",
    "wcO_eq=cyclotron(Beq,const.qe,const.mO)[0]\n",
    "wpe_eq=15*wce_eq\n",
    "w_wave=0.96*wcHe_eq\n",
    "\n",
    "ne_eq=(const.me*const.epsilon0*wpe_eq*wpe_eq)/(const.qe*const.qe)\n",
    "nH_eq=0.77*ne_eq\n",
    "nHe_eq=0.2*ne_eq\n",
    "nO_eq=0.03*ne_eq\n",
    "\n",
    "Byw0_simin=3*10**(-9)  #3nT\n",
    "\n",
    "aeq0_deg=80   #initial equatorial pitch angle\n",
    "aeq0=np.deg2rad(aeq0_deg) #convert pitch angle to rad\n",
    "\n",
    "\n",
    "Ekev0=50 #initial energy keV\n",
    "lamda0_deg=3.5 # starting electron latitude\n",
    "lamda0=np.deg2rad(lamda0_deg) #convert latitude to rad\n",
    "theta0_deg=10**-5  # wave normal angle\n",
    "theta0=np.deg2rad(theta0_deg) #convert wave normal angle to rad\n",
    "\n",
    "eta0_deg=np.linspace(-180,180,48) #initial phases of electrons\n",
    "eta0=np.deg2rad(eta0_deg) #convert initial phases to rad\n",
    "\n",
    "Tgyro=(2*np.pi)/wcH_eq\n",
    "t=5\n",
    "h=Tgyro/30\n",
    "Nsteps=int(t/h)\n",
    "\n",
    "\n"
   ]
  },
  {
   "cell_type": "markdown",
   "id": "8aeff34f",
   "metadata": {},
   "source": [
    "### 2. Find initial electron's local pitch angle "
   ]
  },
  {
   "cell_type": "code",
   "execution_count": 4,
   "id": "6f0af1e3",
   "metadata": {},
   "outputs": [
    {
     "name": "stdout",
     "output_type": "stream",
     "text": [
      "α: 83.26325707860018\n"
     ]
    }
   ],
   "source": [
    "#import WPIT routines\n",
    "from environment_mod import Bmag_dipole\n",
    "from environment_mod import aeq2alpha\n",
    "\n",
    "alpha0=aeq2alpha(L_shell,lamda0,aeq0)\n",
    "\n",
    "print('\\u03B1:',np.rad2deg(alpha0))\n"
   ]
  },
  {
   "cell_type": "markdown",
   "id": "cf77342f",
   "metadata": {},
   "source": [
    "### 3. Find initial momentum, velocity and lorentz factor"
   ]
  },
  {
   "cell_type": "code",
   "execution_count": 5,
   "id": "3ca0f47e",
   "metadata": {},
   "outputs": [
    {
     "name": "stdout",
     "output_type": "stream",
     "text": [
      "upar0: 14513342.600106489 m/s\n",
      "uper0: 122866163.73152001 m/s\n",
      "ppar0: 1.4514351105960912e-23 Ns\n",
      "pper0: 1.2287470147839527e-22 Ns\n",
      "gamma0: 1.0978454831319626\n"
     ]
    }
   ],
   "source": [
    "from environment_mod import momentums\n",
    "\n",
    "upar0,uper0,ppar0,pper0,gamma0=momentums(Ekev0,alpha0)\n",
    "\n",
    "print('upar0:',upar0,'m/s')\n",
    "print('uper0:',uper0,'m/s')\n",
    "print('ppar0:',ppar0,'Ns')\n",
    "print('pper0:',pper0,'Ns')\n",
    "print('gamma0:',gamma0)"
   ]
  },
  {
   "cell_type": "markdown",
   "id": "f029a385",
   "metadata": {},
   "source": [
    "### 5. Calculate all the initial parameters"
   ]
  },
  {
   "cell_type": "code",
   "execution_count": 16,
   "id": "e5bdcfd8",
   "metadata": {},
   "outputs": [],
   "source": [
    "from waveproperties_mod import stix_parameters\n",
    "from waveproperties_mod import ref_index\n",
    "from waveproperties_mod import resonant_velocity\n",
    "from waveproperties_mod import whislter_amplitudes_bell\n",
    "from environment_mod import omega_plasma\n",
    "from environment_mod import dwc_ds, dB_ds\n",
    "from EMIC_ion_mod import wpi_params, detadt\n",
    "from EMIC_ion_mod import nonlinear_S, nonlinear_H,nonlinear_theta,nonlinear_C0,nonlinear_C1p,nonlinear_C1m\n",
    "\n",
    "\n",
    "B0 =Bmag_dipole(L_shell,lamda0)\n",
    "wce_0=cyclotron(B0,const.qe,const.me)[0]\n",
    "wcHe_0=cyclotron(B0,const.qe,const.mHe)[0]\n",
    "wcH_0=cyclotron(B0,const.qe,const.mH)[0]\n",
    "wcO_0=cyclotron(B0,const.qe,const.mO)[0]\n",
    "\n",
    "S0,D0,P0,R0,L0=stix_parameters(w_wave, ne_eq, nH_eq, nHe_eq, nO_eq, B0)\n",
    "eta_sq_plus0,eta_sq_minus0=ref_index(theta0,S0,P0,R0,L0)\n",
    "\n",
    "mu0=np.sqrt(eta_sq_minus0)\n",
    "\n",
    "#find wave number mu=w*k/c\n",
    "kappa0=(w_wave*mu0)/const.c_light\n",
    "kappaz0=kappa0*np.cos(theta0)\n",
    "kappax0=kappa0*np.sin(theta0)\n",
    "\n",
    "v_para_res0, v_per_res0, v_tot_res0, E_res0,gamma_res0=resonant_velocity(m_res,w_wave,kappaz0,wce_0,alpha0)\n",
    "dwceds0=dwc_ds(wce_0,lamda0,L_shell)\n",
    "dBdz0=dB_ds(B0,lamda0,L_shell)\n",
    "\n",
    "Bxw0, Byw0, Bzw0, Exw0, Eyw0, Ezw0=whislter_amplitudes_bell(mu0,P0,D0,S0,Byw0_simin,theta0)\n",
    "\n",
    "beta0,BwR0,BwL0,EwR0,EwL0,pwR0,pwL0,wR0,wL0=wpi_params(pper0,kappax0,const.qi,const.mH,B0,Exw0,Eyw0,Bxw0,Byw0,gamma0)\n",
    "\n",
    "beta0_sim=0\n",
    "\n",
    "wpe_0=omega_plasma(ne_eq,const.qe,const.me)[0]\n",
    "wpHe_0=omega_plasma(nHe_eq,const.qe,const.mHe)[0]\n",
    "wpH_0=omega_plasma(nH_eq,const.qe,const.mH)[0]\n",
    "wpO_0=omega_plasma(nO_eq,const.qe,const.mO)[0]\n",
    "\n",
    "C0_0=nonlinear_C0(ppar0,kappaz0,m_res,gamma0,const.qi,const.mH,wcH_0,Ezw0)\n",
    "C1p_0=nonlinear_C1p(pper0,ppar0,kappaz0,m_res,const.qi,const.mH,gamma0,wR0,EwR0,wcH_0)\n",
    "C1m_0=nonlinear_C1m(pper0,ppar0,kappaz0,m_res,const.qi,const.mH,gamma0,wL0,EwL0,wcH_0)\n",
    "thet_0,wtrsq_0=nonlinear_theta(C0_0,C1p_0,C1m_0,m_res,beta0)\n",
    "dkpar_dt0=0\n",
    "H_0=nonlinear_H(pper0,ppar0,kappaz0,gamma0,m_res,const.mH,wcH_0,dkpar_dt0,dwceds0,0)\n",
    "S_0=nonlinear_S(H_0,wtrsq_0)\n",
    "\n",
    "deta_dt0=detadt(-ppar0,m_res,wcH_0,gamma0,kappaz0,const.mH,w_wave)\n"
   ]
  },
  {
   "cell_type": "markdown",
   "id": "b9213c45",
   "metadata": {},
   "source": [
    "### 4. Allocate outputs"
   ]
  },
  {
   "cell_type": "code",
   "execution_count": 17,
   "id": "75b132e1",
   "metadata": {},
   "outputs": [],
   "source": [
    "pperrk_su=np.zeros((len(eta0),Nsteps+1))\n",
    "pparrk_su=np.zeros((len(eta0),Nsteps+1))\n",
    "etark_su=np.zeros((len(eta0),Nsteps+1))\n",
    "nurk_su=np.zeros((len(eta0),Nsteps+1))\n",
    "lamdark_su=np.zeros((len(eta0),Nsteps+1))\n",
    "timerk_su=np.zeros((len(eta0),Nsteps+1))\n",
    "uperrk_su=np.zeros((len(eta0),Nsteps+1))\n",
    "uparrk_su=np.zeros((len(eta0),Nsteps+1))\n",
    "zetark_su=np.zeros((len(eta0),Nsteps+1))\n",
    "alphark_su=np.zeros((len(eta0),Nsteps+1))\n",
    "alpha2rk_su=np.zeros((len(eta0),Nsteps+1))\n",
    "aeqrk_su=np.zeros((len(eta0),Nsteps+1))\n",
    "aeq2rk_su=np.zeros((len(eta0),Nsteps+1))\n",
    "aeq3rk_su=np.zeros((len(eta0),Nsteps+1))\n",
    "Exw_out_su=np.zeros((len(eta0),Nsteps+1))\n",
    "Eyw_out_su=np.zeros((len(eta0),Nsteps+1))\n",
    "Ezw_out_su=np.zeros((len(eta0),Nsteps+1))\n",
    "Bxw_out_su=np.zeros((len(eta0),Nsteps+1))\n",
    "Byw_out_su=np.zeros((len(eta0),Nsteps+1))\n",
    "Bzw_out_su=np.zeros((len(eta0),Nsteps+1))\n",
    "Bw_out_su=np.zeros((len(eta0),Nsteps+1))\n",
    "Ew_out_su=np.zeros((len(eta0),Nsteps+1))\n",
    "vresz_out_su=np.zeros((len(eta0),Nsteps+1))\n",
    "Eres_out_su=np.zeros((len(eta0),Nsteps+1))\n",
    "gammares_out_su=np.zeros((len(eta0),Nsteps+1))\n",
    "mu_adiabatic_out_su=np.zeros((len(eta0),Nsteps+1))\n",
    "mu_out_su=np.zeros((len(eta0),Nsteps+1))\n",
    "deta_dt_out_su=np.zeros((len(eta0),Nsteps+1))\n",
    "B_earth_out_su=np.zeros((len(eta0),Nsteps+1))\n",
    "S_stix_out_su=np.zeros((len(eta0),Nsteps+1))\n",
    "D_stix_out_su=np.zeros((len(eta0),Nsteps+1))\n",
    "P_stix_out_su=np.zeros((len(eta0),Nsteps+1))\n",
    "R_stix_out_su=np.zeros((len(eta0),Nsteps+1))\n",
    "L_stix_out_su=np.zeros((len(eta0),Nsteps+1))\n",
    "kappa_out_su=np.zeros((len(eta0),Nsteps+1))\n",
    "kx_out=np.zeros((len(eta0),Nsteps+1))\n",
    "kz_out=np.zeros((len(eta0),Nsteps+1))\n",
    "wh_out_su=np.zeros((len(eta0),Nsteps+1))\n",
    "dwce_ds_out_su=np.zeros((len(eta0),Nsteps+1))\n",
    "gamma_out_su=np.zeros((len(eta0),Nsteps+1))\n",
    "gamma2_out_su=np.zeros((len(eta0),Nsteps+1))\n",
    "\n",
    "C0_out=np.zeros((len(eta0),Nsteps+1))\n",
    "C1p_out=np.zeros((len(eta0),Nsteps+1))\n",
    "C1m_out=np.zeros((len(eta0),Nsteps+1))\n",
    "thet_out=np.zeros((len(eta0),Nsteps+1))\n",
    "wtrsq_out=np.zeros((len(eta0),Nsteps+1))\n",
    "dkpar_dtout=np.zeros((len(eta0),Nsteps+1))\n",
    "H_out=np.zeros((len(eta0),Nsteps+1))\n",
    "S_out=np.zeros((len(eta0),Nsteps+1))\n",
    "detadt_out=np.zeros((len(eta0),Nsteps+1))\n",
    "\n",
    "\n",
    "Phi_out_su=np.zeros((len(eta0),Nsteps+1))\n",
    "E_kin_su=np.zeros((len(eta0),Nsteps+1))\n",
    "E_kin_out=np.zeros((len(eta0),Nsteps+1))\n",
    "u_par_out_su=np.zeros((len(eta0),Nsteps+1))\n",
    "u_per_out_su=np.zeros((len(eta0),Nsteps+1))"
   ]
  },
  {
   "cell_type": "markdown",
   "id": "c8ed879d",
   "metadata": {},
   "source": [
    "### 5. Import WPIT routines\n"
   ]
  },
  {
   "cell_type": "code",
   "execution_count": 18,
   "id": "866747df",
   "metadata": {},
   "outputs": [],
   "source": [
    "\n",
    "from EMIC_ion_mod import dzdt\n",
    "from EMIC_ion_mod import dppardt\n",
    "from EMIC_ion_mod import dpperdt\n",
    "from EMIC_ion_mod import detadt\n",
    "from EMIC_ion_mod import dlamdadt\n",
    "from EMIC_ion_mod import dalphadt\n",
    "from EMIC_ion_mod import daeqdt\n",
    "from EMIC_ion_mod import dgammadt\n",
    "from EMIC_ion_mod import dEkdt\n"
   ]
  },
  {
   "cell_type": "code",
   "execution_count": 22,
   "id": "1b44c512",
   "metadata": {},
   "outputs": [],
   "source": [
    "for k in range(0,len(eta0)):\n",
    "\n",
    "    pperrk_su[k,0]=pper0\n",
    "    pparrk_su[k,0]=-ppar0\n",
    "    etark_su[k,0]=eta0[k]\n",
    "    nurk_su[k,0]=deta_dt0\n",
    "    detadt_out[k,0]=deta_dt0\n",
    "    lamdark_su[k,0]=lamda0\n",
    "    timerk_su[k,0]=0\n",
    "    uperrk_su[k,0]=uper0\n",
    "    uparrk_su[k,0]=-upar0\n",
    "    zetark_su[k,0]=0\n",
    "    alphark_su[k,0]=alpha0\n",
    "    alpha2rk_su[k,0]=alpha0\n",
    "    aeqrk_su[k,0]=aeq0\n",
    "    aeq2rk_su[k,0]=aeq0\n",
    "    aeq3rk_su[k,0]=aeq0\n",
    "    Exw_out_su[k,0]=Exw0\n",
    "    Eyw_out_su[k,0]=Eyw0\n",
    "    Ezw_out_su[k,0]=Ezw0\n",
    "    Bxw_out_su[k,0]=Bxw0\n",
    "    Byw_out_su[k,0]=Byw0\n",
    "    Bzw_out_su[k,0]=Bzw0\n",
    "#     Bw_out_su[k,0]=0\n",
    "#     Ew_out_su[k,0]=0\n",
    "    vresz_out_su[k,0]=v_para_res0\n",
    "    Eres_out_su[k,0]=E_res0\n",
    "    gammares_out_su[k,0]=gamma_res0\n",
    "    mu_out_su[k,0]=mu0\n",
    "    S_stix_out_su[k,0]=S0\n",
    "    D_stix_out_su[k,0]=D0\n",
    "    P_stix_out_su[k,0]=P0\n",
    "    R_stix_out_su[k,0]=R0\n",
    "    L_stix_out_su[k,0]=L0\n",
    "    kappa_out_su[k,0]=kappaz0\n",
    "    kx_out[k,0]=kappax0\n",
    "    kz_out[k,0]=kappaz0\n",
    "#     wh_out_su[k,0]=wce0_sim\n",
    "#     dwce_ds_out_su[k,0]=dwceds0_sim\n",
    "    gamma_out_su[k,0]=gamma0\n",
    "    gamma2_out_su[k,0]=gamma0\n",
    "#     Phi_out[k,0]=\n",
    "    E_kin_su[k,0]=Ekev0*1.602176487E-16\n",
    "    E_kin_out[k,0]=Ekev0*1.602176487E-16\n",
    "    u_par_out_su[k,0]=-upar0\n",
    "    u_per_out_su[k,0]=uper0\n",
    "    \n",
    "    C0_out[k,0]=C0_0\n",
    "    C1p_out[k,0]=C1p_0\n",
    "    C1m_out[k,0]=C1m_0\n",
    "    thet_out[k,0]=thet_0\n",
    "    wtrsq_out[k,0]=wtrsq_0\n",
    "    dkpar_dtout[k,0]=dkpar_dt0\n",
    "    H_out[k,0]=H_0\n",
    "    S_out[k,0]=S_0\n",
    "\n",
    "    i=0"
   ]
  },
  {
   "cell_type": "code",
   "execution_count": null,
   "id": "deeed2de",
   "metadata": {},
   "outputs": [],
   "source": []
  }
 ],
 "metadata": {
  "kernelspec": {
   "display_name": "Python 3 (ipykernel)",
   "language": "python",
   "name": "python3"
  },
  "language_info": {
   "codemirror_mode": {
    "name": "ipython",
    "version": 3
   },
   "file_extension": ".py",
   "mimetype": "text/x-python",
   "name": "python",
   "nbconvert_exporter": "python",
   "pygments_lexer": "ipython3",
   "version": "3.6.9"
  }
 },
 "nbformat": 4,
 "nbformat_minor": 5
}
