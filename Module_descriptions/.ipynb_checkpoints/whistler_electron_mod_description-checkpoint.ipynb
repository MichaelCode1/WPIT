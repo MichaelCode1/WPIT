{
 "cells": [
  {
   "cell_type": "markdown",
   "id": "e94f50b0",
   "metadata": {},
   "source": [
    "### whistler_electron_mod module description"
   ]
  },
  {
   "cell_type": "code",
   "execution_count": 7,
   "id": "ba140445",
   "metadata": {},
   "outputs": [],
   "source": [
    "import os\n",
    "import sys\n",
    "current_dir =  os.path.abspath(os.path.dirname('__file__'))\n",
    "fpath = os.path.abspath(current_dir + \"/..\")\n",
    "fpath_wpi = os.path.abspath(current_dir + \"/../wave_particle_interactions\")\n",
    "sys.path.append(fpath)\n",
    "sys.path.append(fpath_wpi)\n",
    "\n",
    "import environment_mod as env\n",
    "import waveproperties_mod as wave\n",
    "import whistler_electron_mod \n"
   ]
  },
  {
   "cell_type": "markdown",
   "id": "be8fd662",
   "metadata": {},
   "source": [
    "We present the analytical theoretical description of the equations used in 'whistler_Bell_Bortnik_mod' module\n",
    " <a class=\"anchor\" id=\"top-bullet\"></a>\n",
    "### Table of Contents\n",
    " <a class=\"anchor\" id=\"top-bullet\"></a>\n",
    "### Table of Contents\n",
    "\n",
    "* [whistler_electron_mod.wpi_params](#wpi_params-bullet)\n",
    "* [whistler_electron_mod.dzdt](#dzdt-bullet)\n",
    "* [whistler_electron_mod.dppardt](#dppardt-bullet)\n",
    "* [whistler_electron_mod.dpperdt](#dpperdt-bullet)\n",
    "* [whistler_electron_mod.detadt](#detadt-bullet)\n",
    "* [whistler_electron_mod.dlamdadt](#dlamdadt-bullet)\n",
    "* [whistler_electron_mod.dalphadt](#dalphadt-bullet)\n",
    "* [whistler_electron_mod.daeqdt](#daeqdt-bullet)\n",
    "* [whistler_electron_mod.dgammadt](#dgammadt-bullet)\n",
    "* [whistler_electron_mod.nonlinear_S](#nonlinear_S-bullet)\n",
    "* [whistler_electron_mod.nonlinear_H](#nonlinear_H-bullet)\n",
    "* [whistler_electron_mod.nonlinear_theta](#nonlinear_theta-bullet)\n",
    "* [whistler_electron_mod.nonlinear_C0](#nonlinear_C0-bullet)\n",
    "* [whistler_electron_mod.nonlinear_C1p](#nonlinear_C1p-bullet)\n",
    "* [whistler_electron_mod.nonlinear_C1m](#nonlinear_C1m-bullet)\n",
    "\n"
   ]
  },
  {
   "cell_type": "markdown",
   "id": "31fd2fc7",
   "metadata": {},
   "source": [
    "### whistler_electron_mod.wpi_params <a class=\"anchor\" id=\"wpi_params-bullet\"></a>\n",
    "\n",
    "The needed paramaters for the intereaction of an electron with a whsitler-mode wave according to Bell[1984] are:\n",
    "$$\\beta = \\frac {k_x p_{\\perp}}{m_e \\gamma \\omega_H}$$\n",
    "$$ k_z= k \\cos \\theta = (\\mu \\omega / c) \\cos \\theta $$\n",
    "$$ k_x=k \\sin \\theta$$\n",
    "$$ \\omega_{\\tau m}^2 = (-1)^{m-1} \\omega_{\\tau 0}^2 [ J_{m-1}(\\beta) - \\alpha_1 J_{m+1}(\\beta) + \\gamma \\alpha_2 J_m (\\beta)]$$\n",
    "$$ \\omega_{\\tau 0}^2 = \\frac{\\omega_1 k_z p_{\\perp}}{\\gamma m_e}$$\n",
    "$$ \\omega_1 = \\frac{e}{2 m_e}(B_x^w+B_y^w)$$\n",
    "$$ \\omega_2 = \\frac{e}{2 m_e}(B_x^w-B_y^w)$$\n",
    "$$\\alpha_1=\\frac{\\omega_2}{\\omega_1}$$\n",
    "$$\\alpha_2 = \\frac{e E_z^w}{\\omega_1 p_{\\perp}}$$\n",
    "$$ R_1= \\frac {E_x^w+E_y^w}{B_x^w+B_y^w}$$\n",
    "$$ R_2= \\frac {E_x^w-E_y^w}{B_x^w-B_y^w}$$\n",
    "where $\\mu$ is the refractive index and $J_i$ are Bessel functions\n",
    "of the first kind, order $i$.\n",
    "\n",
    "**Inputs**:\n",
    "\n",
    "**m_res_arg**: resonance order number \n",
    "\n",
    "**ppar_arg**: parallel to the geomagnetic field momentum\n",
    "\n",
    "**pper_arg**: perpendicular to the geomagnetic field momentum\n",
    "\n",
    "**Bxw_arg**: x component of the wave magnetic field in T\n",
    "\n",
    "**Byw_arg**: y component of the wave magnetic field in T\n",
    "\n",
    "**Exw_arg**: x component of the wave electric field in V/m\n",
    "\n",
    "**Eyw_arg**: y component of the wave electric field in V/m\n",
    "\n",
    "**Ezw_arg**: z component of the wave electric field in V/m\n",
    "\n",
    "**kz_arg**: z component of the wave number \n",
    "\n",
    "**kx_arg**: x component of the wave number\n",
    "\n",
    "**wce_arg**: gyrofrequency in rad/s \n",
    "\n",
    "\n",
    "**Outputs**:\n",
    "\n",
    "**gamma_arg**: Lorentz factor\n",
    "\n",
    "**w1_arg**: $\\omega_1$ Bell parameter\n",
    "\n",
    "**w2_arg**: $\\omega_2$ Bell parameter\n",
    "\n",
    "**wtau_sq_arg**: $\\omega_{\\tau m}^2$ Bell parameter\n",
    "\n",
    "**R1_arg**: $R_1$ Bell parameter\n",
    "\n",
    "**R2_arg**: $R_2$ Bell parameter\n",
    "\n",
    "**beta_arg**: $\\beta$ Bell parameter\n"
   ]
  },
  {
   "cell_type": "markdown",
   "id": "26b83b92",
   "metadata": {},
   "source": [
    "[Return to top](#top-bullet) "
   ]
  },
  {
   "cell_type": "markdown",
   "id": "0be4518b",
   "metadata": {},
   "source": [
    "### whistler_electron_mod.dzdt<a class=\"anchor\" id=\"dzdt-bullet\"></a>\n",
    "\n",
    "$$\\frac{dz}{dt}=u_z=\\frac{p_z}{\\gamma m_e}$$\n",
    "\n",
    "**Inputs**:\n",
    "\n",
    "**gamma_arg**: Lorentz factor\n",
    "\n",
    "**ppar_arg**: parallel to the geomagnetic field momentum\n",
    "\n",
    "\n",
    "**Outputs**:\n",
    "\n",
    "\n",
    "\n",
    "**krk**: $\\large\\frac{dz}{dt}$ \n",
    "\n",
    "\n"
   ]
  },
  {
   "cell_type": "markdown",
   "id": "1eb079f5",
   "metadata": {},
   "source": [
    "[Return to top](#top-bullet) "
   ]
  },
  {
   "cell_type": "markdown",
   "id": "4c17805d",
   "metadata": {},
   "source": [
    "### whistler_electron_mod.dppardt<a class=\"anchor\" id=\"dppardt-bullet\"></a>\n",
    "\n",
    "$$ \\frac{dp_z}{dt}=\\omega_{\\tau m}^2 m_e k_z^{-1} \\sin \\eta - \\frac{1}{\\gamma m_e}\\frac{p_{\\perp}^2}{2\\omega_H}\\frac{\\partial \\omega_H}{\\partial z}$$\n",
    "\n",
    "**Inputs**:\n",
    "\n",
    "**pper_arg**: perpendicular to the geomagnetic field momentum\n",
    "\n",
    "**eta_arg**: wave-particle  phase in rad\n",
    "\n",
    "**wtau_sq_arg**: $\\omega_{\\tau m}^2$ Bell parameter\n",
    "\n",
    "**kz_arg**: z component of the wave number \n",
    "\n",
    "**gamma_arg**: Lorentz factor\n",
    "\n",
    "**wce_arg**: gyrofrequency in rad/s \n",
    "\n",
    "**dwds_arg**: derivative of gyrofrequency with respect to the distance along the magnetic field line $\\large\\frac{\\partial_{\\omega_{ce}}}{\\partial z}$\n",
    "\n",
    "\n",
    "**Outputs**:\n",
    "\n",
    "\n",
    "\n",
    "**lrk**: $\\large\\frac{dp_{\\parallel}}{dt}$ "
   ]
  },
  {
   "cell_type": "markdown",
   "id": "b4af76bc",
   "metadata": {},
   "source": [
    "[Return to top](#top-bullet) "
   ]
  },
  {
   "cell_type": "markdown",
   "id": "96c13481",
   "metadata": {},
   "source": [
    "### whistler_electron_mod.dpperdt<a class=\"anchor\" id=\"dpperdt-bullet\"></a>\n",
    "\n",
    "$$\\frac{dp_{\\perp}}{dt}=-(-1)^{m-1} \\Bigg[ \\omega_1\\Bigg( \\frac{p_z}{\\gamma}+m_e R_1\\Bigg) J_{m-1}(\\beta)-\\omega_2 \\Bigg( \\frac{p_z}{\\gamma}-m_e R_2\\Bigg) J_{m+1}(\\beta) \\Bigg] \\sin \\eta + \\frac{1}{\\gamma m_e}\\frac{p_{\\perp} p_z}{2\\omega_H}\\frac{\\partial \\omega_H}{\\partial z} $$\n",
    "\n",
    "**Inputs**:\n",
    "\n",
    "**pper_arg**: perpendicular to the geomagnetic field momentum\n",
    "\n",
    "**ppar_arg**: parallel to the geomagnetic field momentum\n",
    "\n",
    "**eta_arg**: wave-particle phase in rad\n",
    "\n",
    "**w1_arg**: $\\omega_1$ Bell parameter\n",
    "\n",
    "**w2_arg**: $\\omega_2$ Bell parameter\n",
    "\n",
    "**beta_arg**: $\\beta$ Bell parameter\n",
    "\n",
    "**gamma_arg**: Lorentz factor\n",
    "\n",
    "**R1_arg**: $R_1$ Bell parameter\n",
    "\n",
    "**R2_arg**: $R_2$ Bell parameter\n",
    "\n",
    "**m_res_arg**: resonance order number \n",
    "\n",
    "**wce_arg**: gyrofrequency in rad/s \n",
    "\n",
    "**dwds_arg**: derivative of gyrofrequency with respect to the distance along the magnetic field line $\\large\\frac{\\partial_{\\omega_{ce}}}{\\partial z}$\n",
    "\n",
    "\n",
    "**Outputs**:\n",
    "\n",
    "\n",
    "\n",
    "**mrk**: $\\large\\frac{dp_{\\perp}}{dt}$ "
   ]
  },
  {
   "cell_type": "markdown",
   "id": "9cfea1fa",
   "metadata": {},
   "source": [
    "[Return to top](#top-bullet) "
   ]
  },
  {
   "cell_type": "markdown",
   "id": "bb7a9098",
   "metadata": {},
   "source": [
    "### whistler_electron_mod.detadt<a class=\"anchor\" id=\"detadt-bullet\"></a>\n",
    "\n",
    "\n",
    "$$ \\frac{d\\eta}{dt}=\\frac{m\\omega_H}{\\gamma}-\\omega-k_z\\frac{p_z}{\\gamma m_e}$$\n",
    "\n",
    "\n",
    "**Inputs**:\n",
    "\n",
    "**ppar_arg**: parallel to the geomagnetic field momentum\n",
    "\n",
    "**m_res_arg**: resonance order number \n",
    "\n",
    "**wce_arg**: gyrofrequency in rad/s\n",
    "\n",
    "**wwave_arg**: wave angular frequenct in rad/s\n",
    "\n",
    "**gamma_arg**: Lorentz factor\n",
    "\n",
    "**kz_arg**: z component of the wave number \n",
    "\n",
    "\n",
    "**Outputs**:\n",
    "\n",
    "**mrk**: $\\large\\frac{d\\eta}{dt}$ "
   ]
  },
  {
   "cell_type": "markdown",
   "id": "1daced36",
   "metadata": {},
   "source": [
    "[Return to top](#top-bullet) "
   ]
  },
  {
   "cell_type": "markdown",
   "id": "020c8169",
   "metadata": {},
   "source": [
    "### whistler_electron_mod.dlamdadt<a class=\"anchor\" id=\"dlamdadt-bullet\"></a>\n",
    "\n",
    "\n",
    "$$ \\frac{\\partial \\lambda}{\\partial t}=\\frac{\\partial \\lambda}{\\partial z}\\frac{\\partial z}{\\partial t} = \n",
    "\\frac{1}{L R_e (1+ 3 \\sin^2 \\lambda)^{1/2} \\cos \\lambda} \\frac{p_z}{\\gamma m_e} $$\n",
    "\n",
    "\n",
    "**Inputs**:\n",
    "\n",
    "**ppar_arg**: parallel to the geomagnetic field momentum\n",
    "\n",
    "**gamma_arg**: Lorentz factor\n",
    "\n",
    "**L_arg**: L shell\n",
    "\n",
    "\n",
    "**Outputs**:\n",
    "\n",
    "**ork**: $\\large\\frac{d\\lambda}{dt}$ "
   ]
  },
  {
   "cell_type": "markdown",
   "id": "9fa720a7",
   "metadata": {},
   "source": [
    "[Return to top](#top-bullet) "
   ]
  },
  {
   "cell_type": "markdown",
   "id": "33479193",
   "metadata": {},
   "source": [
    "### whistler_electron_mod.dalphadt<a class=\"anchor\" id=\"dalphadt-bullet\"></a>\n",
    "\n",
    "\n",
    "$$\\frac{d\\alpha}{dt}=-\\frac{1}{p^2} \\Bigg\\{ (-1)^{m-1} \\Big[\\omega_1\\Bigg( \\frac{p_z}{\\gamma}+m_e R_1\\Bigg) J_{m-1}(\\beta)-\\omega_2 \\Bigg( \\frac{p_z}{\\gamma}-m_e R_2\\Bigg) J_{m+1}(\\beta)  \\Big] p_\\parallel + \\omega_{\\tau m}^2 m_e k_z^{-1} p_\\perp \\Bigg\\}\\sin\\eta +\\frac{1}{m_e\\gamma}\\frac{p_\\parallel p^2}{2 \\omega_H}\\frac{\\partial \\omega_H}{\\partial z}$$\n",
    "\n",
    "\n",
    "**Inputs**:\n",
    "\n",
    "**pper_arg**: perpendicular to the geomagnetic field momentum\n",
    "\n",
    "**eta_arg**: wave-particle phase in rad\n",
    "\n",
    "**alpha_arg**: local pitch angle in rad\n",
    "\n",
    "**wtau_sq_arg**: $\\omega_{\\tau m}^2$ Bell parameter\n",
    "\n",
    "**kz_arg**: z component of the wave number \n",
    "\n",
    "**m_res_arg**: resonance order number \n",
    "\n",
    "**wce_arg**: gyrofrequency in rad/s\n",
    "\n",
    "**wwave_arg**: wave angular frequenct in rad/s\n",
    "\n",
    "**gamma_arg**: Lorentz factor\n",
    "\n",
    "**dwds_arg**: derivative of gyrofrequency with respect to the distance along the magnetic field line $\\large\\frac{\\partial_{\\omega_{ce}}}{\\partial z}$\n",
    "\n",
    "\n",
    "**Outputs**:\n",
    "\n",
    "**prk**: $\\large\\frac{d\\alpha}{dt}$ "
   ]
  },
  {
   "cell_type": "markdown",
   "id": "e2df3267",
   "metadata": {},
   "source": [
    "[Return to top](#top-bullet) "
   ]
  },
  {
   "cell_type": "markdown",
   "id": "2a760598",
   "metadata": {},
   "source": [
    "### whistler_electron_mod.daeqdt<a class=\"anchor\" id=\"daeqdt-bullet\"></a>\n",
    "\n",
    "\n",
    "\n",
    "$$\\frac{d\\alpha_{eq}}{dt}=-\\frac{1}{p^2}\\frac{\\tan\\alpha_{eq}}{\\tan\\alpha} \\Bigg\\{ (-1)^{m-1} \\Big[ \\omega_1\\Big( \\frac{p_z}{\\gamma}+m_e R_1\\Big) J_{m-1}(\\beta)-\\omega_2 \\Big( \\frac{p_z}{\\gamma}-m_e R_2\\Big) J_{m+1}(\\beta) \\Big] p_\\parallel+ \\omega_{\\tau m}^2 m_e k_z^{-1} p_\\perp \\Bigg\\}sin \\eta $$\n",
    "\n",
    "**Inputs**:\n",
    "\n",
    "**ppar_arg**: parallel to the geomagnetic field momentum\n",
    "\n",
    "**pper_arg**: perpendicular to the geomagnetic field momentum\n",
    "\n",
    "**alpha_arg**: local pitch angle in rad\n",
    "\n",
    "**aeq_arg**: local pitch angle in rad\n",
    "\n",
    "**eta_arg**: wave-particle phase in rad\n",
    "\n",
    "**w1_arg**: $\\omega_1$ Bell parameter\n",
    "\n",
    "**R1_arg**: $R_1$ Bell parameter\n",
    "\n",
    "**w2_arg**: $\\omega_2$ Bell parameter\n",
    "\n",
    "**R2_arg**: $R_2$ Bell parameter\n",
    "\n",
    "**gamma_arg**: Lorentz factor\n",
    "\n",
    "**beta_arg**: $\\beta$ Bell parameter\n",
    "\n",
    "**wtau_sq_arg**: $\\omega_{\\tau m}^2$ Bell parameter\n",
    "\n",
    "**kz_arg**: z component of the wave number \n",
    "\n",
    "**m_res_arg**: resonance order number \n",
    "\n",
    "\n",
    "**Outputs**:\n",
    "\n",
    "**tmp**: $\\large\\frac{d\\alpha_{eq}}{dt}$ "
   ]
  },
  {
   "cell_type": "markdown",
   "id": "ed07f142",
   "metadata": {},
   "source": [
    "[Return to top](#top-bullet) "
   ]
  },
  {
   "cell_type": "markdown",
   "id": "ba700bd5",
   "metadata": {},
   "source": [
    "### whistler_electron_mod.dgammadt<a class=\"anchor\" id=\"dgammadt-bullet\"></a>\n",
    "\n",
    "$$\\frac{d\\gamma}{dt}=(-1)^{m-1}\\frac{e}{\\gamma m_e^2 c^2}\\Big[ E_z^w p_\\parallel J_{m}(\\beta) -p_\\perp E_L J_{m+1}(\\beta)-p_\\perp E_R J_{m-1}(\\beta)\\Big] \\sin\\eta $$\n",
    "\n",
    "**Inputs**:\n",
    "\n",
    "**pper_arg**: perpendicular to the geomagnetic field momentum\n",
    "\n",
    "**ppar_arg**: parallel to the geomagnetic field momentum\n",
    "\n",
    "**eta_arg**: wave-particle phase in rad\n",
    "\n",
    "**m_res_arg**: resonance order number \n",
    "\n",
    "**Exw_arg**: x component of the wave electric field in V/m\n",
    "\n",
    "**Eyw_arg**: y component of the wave electric field in V/m\n",
    "\n",
    "**Ezw_arg**: z component of the wave electric field in V/m\n",
    "\n",
    "**beta_arg**: $\\beta$ Bell parameter\n",
    "\n",
    "**gamma_arg**: Lorentz factor\n",
    "\n",
    "\n",
    "**Outputs**:\n",
    "\n",
    "**tmp**: $\\large\\frac{d\\gamma}{dt}$ "
   ]
  },
  {
   "cell_type": "markdown",
   "id": "7aa16a83",
   "metadata": {},
   "source": [
    "[Return to top](#top-bullet) "
   ]
  },
  {
   "cell_type": "markdown",
   "id": "10666e69",
   "metadata": {},
   "source": [
    "### whistler_electron_mod.dEkdt<a class=\"anchor\" id=\"dEkdt-bullet\"></a>\n",
    "\n",
    "$$\\frac{dE_k}{dt}=(-1)^{m-1}\\frac{e}{\\gamma m_e}\\Big[ E_z^w p_\\parallel J_{m}(\\beta) -p_\\perp E_L J_{m+1}(\\beta)-p_\\perp E_R J_{m-1}(\\beta)\\Big] \\sin\\eta $$\n",
    "**Inputs**:\n",
    "\n",
    "**pper_arg**: perpendicular to the geomagnetic field momentum\n",
    "\n",
    "**ppar_arg**: parallel to the geomagnetic field momentum\n",
    "\n",
    "**eta_arg**: wave-particle phase in rad\n",
    "\n",
    "**m_res_arg**: resonance order number \n",
    "\n",
    "**Exw_arg**: x component of the wave electric field in V/m\n",
    "\n",
    "**Eyw_arg**: y component of the wave electric field in V/m\n",
    "\n",
    "**Ezw_arg**: z component of the wave electric field in V/m\n",
    "\n",
    "**beta_arg**: $\\beta$ Bell parameter\n",
    "\n",
    "**gamma_arg**: Lorentz factor\n",
    "\n",
    "\n",
    "**Outputs**:\n",
    "\n",
    "**tmp**: $\\large\\frac{dE_k}{dt}$ "
   ]
  },
  {
   "cell_type": "markdown",
   "id": "bdb2d860",
   "metadata": {},
   "source": [
    "[Return to top](#top-bullet) "
   ]
  },
  {
   "cell_type": "markdown",
   "id": "fba04bbc",
   "metadata": {},
   "source": [
    "### Nonlinear effects\n",
    "\n",
    "We follow the procedure of Su et al.(2014) in order to derive similar relations for the case of whistler waves.\n",
    "$$\\nu=\\frac{d\\eta}{dt}$$\n",
    "$$\\frac{d^2\\eta}{dt}=\\frac{d\\nu}{dt}=\\omega_{tr}^2\\Big[ sign(\\theta)\\sin\\eta+S \\Big]$$\n",
    "\n",
    "$$S=H/\\omega_t^2$$\n",
    "\n",
    "$$H=\\frac{m}{\\gamma}\\frac{d\\Omega}{dt}+\\frac{p_\\parallel}{\\gamma m_e}-\\frac{d\\omega}{dt}-\\frac{k_\\parallel p_\\perp^2}{2\\gamma^2m_e^2\\Omega}\\frac{\\partial\\Omega}{\\partial z}$$\n",
    "\n",
    "$$\\theta=C_0J_m(\\beta)+C_{+1}J_{m+1}(\\beta)+C_{-1}J_{m-1}(\\beta)$$\n",
    "$$\\omega_t^2=|\\theta|$$\n",
    "\n",
    "$$C_0=-(-1)^{m-1}\\Bigg[\\frac{q_ep_\\parallel}{\\gamma^3 m_e^2 c^2}\\Bigg(m\\Omega-\\frac{k_\\parallel p_\\parallel}{m_e }\\Bigg)+\\frac{k_\\parallel q_e}{ \\gamma m_e}\\Bigg]E_z^w$$\n",
    "\n",
    "$$C_{+1}=(-1)^{m-1}\\Bigg[\\frac{q_e p_\\perp E_L}{\\gamma^3m_e^2c^2}\\Bigg(m\\Omega-\\frac{k_\\parallel p_\\parallel}{m_e }\\Bigg)+\\frac{p_\\perp k_\\parallel \\omega_2}{m\\gamma^2}\\Bigg]$$\n",
    "\n",
    "$$C_{-1}=(-1)^{m-1}\\Bigg[\\frac{q_e p_\\perp E_R}{\\gamma^3m_e^2c^2}\\Bigg(m\\Omega-\\frac{k_\\parallel p_\\parallel}{m_e }\\Bigg)-\\frac{p_\\perp k_\\parallel \\omega_1}{m\\gamma^2}\\Bigg]$$"
   ]
  },
  {
   "cell_type": "markdown",
   "id": "8adc0968",
   "metadata": {},
   "source": [
    "### whistler_electron_mod.nonlinear_S<a class=\"anchor\" id=\"nonlinear_S-bullet\"></a>\n",
    "$$S=H/\\omega_t^2$$\n",
    "\n",
    "**Inputs**:\n",
    "\n",
    "**H**: non linear parameter H\n",
    "\n",
    "**wtsq**: trapping frequency squared\n",
    "\n",
    "\n",
    "\n",
    "**Outputs**:\n",
    "\n",
    "**tmp**: non linear parameter S"
   ]
  },
  {
   "cell_type": "markdown",
   "id": "5225dc2d",
   "metadata": {},
   "source": [
    "[Return to top](#top-bullet) "
   ]
  },
  {
   "cell_type": "markdown",
   "id": "2d286743",
   "metadata": {},
   "source": [
    "### whistler_electron_mod.nonlinear_H<a class=\"anchor\" id=\"nonlinear_H-bullet\"></a>\n",
    "$$H=\\frac{m}{\\gamma}\\frac{d\\Omega}{dt}+\\frac{p_\\parallel}{\\gamma m_e}-\\frac{d\\omega}{dt}-\\frac{k_\\parallel p_\\perp^2}{2\\gamma^2m_e^2\\Omega}\\frac{\\partial\\Omega}{\\partial z}$$\n",
    "\n",
    "**Inputs**:\n",
    "\n",
    "**pper**: perpendicular to the geomagnetic field momentum\n",
    "\n",
    "**ppar**:parallel to the geomagnetic field momentum\n",
    "\n",
    "**kpar**: parallel to the geomagnetic field wave number\n",
    "\n",
    "**gamma**: Lorentz factor\n",
    "\n",
    "**m_res**:resonance order number \n",
    "\n",
    "**wce**: electron gyrofrequency\n",
    "\n",
    "**dkpar_dt**: time derivative of the parallel compoment of the wave number\n",
    "\n",
    "**dwcdz**: spatial derivative of the gyrofrequency along the field line\n",
    "\n",
    "**dwdt**:time derivative of the wave frequency\n",
    "\n",
    "**Outputs**:\n",
    "\n",
    "**tmp**: non linear parameter H"
   ]
  },
  {
   "cell_type": "markdown",
   "id": "16bceee7",
   "metadata": {},
   "source": [
    "[Return to top](#top-bullet) "
   ]
  },
  {
   "cell_type": "markdown",
   "id": "9add5c28",
   "metadata": {},
   "source": [
    "### whistler_electron_mod.nonlinear_theta<a class=\"anchor\" id=\"nonlinear_theta-bullet\"></a>\n",
    "\n",
    "$$\\theta=C_0J_m(\\beta)+C_{+1}J_{m+1}(\\beta)+C_{-1}J_{m-1}(\\beta)$$\n",
    "\n",
    "**Inputs**:\n",
    "\n",
    "**C0**: $C_{0}$\n",
    "\n",
    "**Cp1**: $C_{+1}$\n",
    "\n",
    "**Cm1**: $C_{-1}$\n",
    "\n",
    "**m_res**:resonance order number \n",
    "\n",
    "**beta**: Bell $\\beta$ parameter\n",
    "\n",
    "**Outputs**:\n",
    "\n",
    "**tmp**: non linear parameter $\\theta$"
   ]
  },
  {
   "cell_type": "markdown",
   "id": "8a49be4f",
   "metadata": {},
   "source": [
    "[Return to top](#top-bullet) "
   ]
  },
  {
   "cell_type": "markdown",
   "id": "07b594a8",
   "metadata": {},
   "source": [
    "### whistler_electron_mod.nonlinear_C0<a class=\"anchor\" id=\"nonlinear_C0-bullet\"></a>\n",
    "\n",
    "$$C_0=-(-1)^{m-1}\\Bigg[\\frac{q_ep_\\parallel}{\\gamma^3 m_e^2 c^2}\\Bigg(m\\Omega-\\frac{k_\\parallel p_\\parallel}{m_e }\\Bigg)+\\frac{k_\\parallel q_e}{ \\gamma m_e}\\Bigg]E_z^w$$\n",
    "\n",
    "\n",
    "**Inputs**:\n",
    "\n",
    "**ppar**:\n",
    "\n",
    "**m_res**:\n",
    "\n",
    "**wce**:\n",
    "\n",
    "**kz**:\n",
    "\n",
    "**gamma**:\n",
    "\n",
    "**Ezw**:\n",
    "\n",
    "**Outputs**:\n",
    "\n",
    "**tmp**: non linear parameter $C_0$"
   ]
  },
  {
   "cell_type": "markdown",
   "id": "6e5acdbd",
   "metadata": {},
   "source": [
    "[Return to top](#top-bullet) "
   ]
  },
  {
   "cell_type": "markdown",
   "id": "1e857274",
   "metadata": {},
   "source": [
    "### whistler_electron_mod.nonlinear_C1p<a class=\"anchor\" id=\"nonlinear_C1p-bullet\"></a>\n",
    "\n",
    "$$C_{+1}=(-1)^{m-1}\\Bigg[\\frac{q_e p_\\perp E_L}{\\gamma^3m_e^2c^2}\\Bigg(m\\Omega-\\frac{k_\\parallel p_\\parallel}{m_e }\\Bigg)+\\frac{p_\\perp k_\\parallel \\omega_2}{m\\gamma^2}\\Bigg]$$\n",
    "\n",
    "\n",
    "**Inputs**:\n",
    "\n",
    "**pper_arg**:\n",
    "\n",
    "**ppar_arg**:\n",
    "\n",
    "**w2_arg**:\n",
    "\n",
    "**Exw_arg**:\n",
    "\n",
    "**Eyw_arg**:\n",
    "\n",
    "**m_res_arg**:\n",
    "\n",
    "**wce_arg**:\n",
    "\n",
    "**kz_arg**:\n",
    "\n",
    "**gamma_arg**:\n",
    "\n",
    "**Outputs**:\n",
    "\n",
    "**tmp**: non linear parameter $C_{+1}$"
   ]
  },
  {
   "cell_type": "markdown",
   "id": "541aa8ac",
   "metadata": {},
   "source": [
    "[Return to top](#top-bullet) "
   ]
  },
  {
   "cell_type": "markdown",
   "id": "1a8ef66f",
   "metadata": {},
   "source": [
    "### whistler_electron_mod.nonlinear_C1m<a class=\"anchor\" id=\"nonlinear_C1m-bullet\"></a>\n",
    "\n",
    "$$C_{-1}=(-1)^{m-1}\\Bigg[\\frac{q_e p_\\perp E_R}{\\gamma^3m_e^2c^2}\\Bigg(m\\Omega-\\frac{k_\\parallel p_\\parallel}{m_e }\\Bigg)-\\frac{p_\\perp k_\\parallel \\omega_1}{m\\gamma^2}\\Bigg]$$\n",
    "\n",
    "\n",
    "**Inputs**:\n",
    "\n",
    "**pper_arg**:\n",
    "\n",
    "**ppar_arg**:\n",
    "\n",
    "**w2_arg**:\n",
    "\n",
    "**Exw_arg**:\n",
    "\n",
    "**Eyw_arg**:\n",
    "\n",
    "**m_res_arg**:\n",
    "\n",
    "**wce_arg**:\n",
    "\n",
    "**kz_arg**:\n",
    "\n",
    "**gamma_arg**:\n",
    "\n",
    "**Outputs**:\n",
    "\n",
    "**tmp**: non linear parameter $C_{-1}$"
   ]
  },
  {
   "cell_type": "markdown",
   "id": "f7687492",
   "metadata": {},
   "source": [
    "[Return to top](#top-bullet) "
   ]
  },
  {
   "cell_type": "markdown",
   "id": "39098954",
   "metadata": {},
   "source": [
    "[Return to top](#top-bullet) "
   ]
  },
  {
   "cell_type": "code",
   "execution_count": null,
   "id": "29b18951",
   "metadata": {},
   "outputs": [],
   "source": []
  },
  {
   "cell_type": "code",
   "execution_count": null,
   "id": "07b9b616",
   "metadata": {},
   "outputs": [],
   "source": []
  }
 ],
 "metadata": {
  "kernelspec": {
   "display_name": "Python 3 (ipykernel)",
   "language": "python",
   "name": "python3"
  },
  "language_info": {
   "codemirror_mode": {
    "name": "ipython",
    "version": 3
   },
   "file_extension": ".py",
   "mimetype": "text/x-python",
   "name": "python",
   "nbconvert_exporter": "python",
   "pygments_lexer": "ipython3",
   "version": "3.6.9"
  }
 },
 "nbformat": 4,
 "nbformat_minor": 5
}
