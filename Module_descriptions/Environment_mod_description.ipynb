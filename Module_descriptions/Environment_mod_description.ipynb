{
 "cells": [
  {
   "cell_type": "markdown",
   "id": "0be64dcf",
   "metadata": {},
   "source": [
    "## Analytic description of WPIT.Environment_mod routines with examples"
   ]
  },
  {
   "cell_type": "code",
   "execution_count": 1,
   "id": "a5218709",
   "metadata": {},
   "outputs": [
    {
     "name": "stdout",
     "output_type": "stream",
     "text": [
      "/home/tourgaidis/Επιφάνεια εργασίας/WPIT_GIT/WPIT\n"
     ]
    }
   ],
   "source": [
    "import numpy as np\n",
    "import os\n",
    "import sys\n",
    "import inspect\n",
    "import matplotlib.pyplot as plt\n",
    "plt.rc('font', family='serif')\n",
    "from matplotlib.pyplot import cm\n",
    "\n",
    "#Define WPIT package location\n",
    "current_dir =  os.path.abspath(os.path.dirname('__file__'))\n",
    "fpath = os.path.abspath(current_dir + \"/..\")\n",
    "sys.path.append(fpath)\n",
    "\n",
    "import WPIT.Environment_mod as env\n",
    "print(fpath)"
   ]
  },
  {
   "cell_type": "markdown",
   "id": "6f99dc49",
   "metadata": {},
   "source": [
    " <a class=\"anchor\" id=\"top-bullet\"></a>\n",
    "### Table of Contents\n",
    "\n",
    "* [environment_mod.Bmag_dipole](#Bmag_dipole-bullet)\n",
    "* [environment_mod.dwc_ds](#dwc_ds-bullet)\n",
    "* [environment_mod.dB_ds](#dB_ds-bullet)\n",
    "* [environment_mod.Lshell](#Lshell-bullet)\n",
    "* [environment_mod.density_equ_carpenter_anderson](#carpender_anderson-bullet)\n",
    "* [environment_mod.density_FL_denton](#densities_denton-bullet)\n",
    "* [environment_mod.density_ozhogin](#densities_ozhogin-bullet)\n",
    "* [environment_mod.density_equ_sheeley](#densities_palsmasphere_sheeley-bullet)\n",
    "* [environment_mod.omega_cyclotron](#omega_cyclotron-bullet)\n",
    "* [environment_mod.omega_plasma](#omega_plasma-bullet)\n",
    "* [environment_mod.omega_upper_hybrid](#omega_upper_hybrid-bullet)\n",
    "* [environment_mod.omega_lower_hybrid](#omega_lower_hybrid-bullet)\n",
    "* [environment_mod.aeq2alpha](#aeq2alpha-bullet)\n",
    "* [environment_mod.alpha2aeq](#alpha2aeq-bullet)\n",
    "* [environment_mod.T_bounce](#bounce_period-bullet)\n",
    "* [environment_mod.T_drift](#drift_period-bullet)\n",
    "* [environment_mod.R_Larmor](#larmor-bullet)\n",
    "* [environment_mod.mu_adiabatic](#mu_adiabatic-bullet)\n",
    "* [environment_mod.initial_velocity](#momentums-bullet)\n",
    "* [environment_mod.loss_cone](#loss_cone-bullet)\n",
    "* [environment_mod.loss_cone_v2](#loss_cone_v2-bullet)\n",
    "* [environment_mod.debye_length](#debye_length-bullet)\n",
    "* [environment_mod.const](#const-bullet)\n"
   ]
  },
  {
   "cell_type": "markdown",
   "id": "6ce94185",
   "metadata": {},
   "source": [
    "# 1. environment_mod.Bmag_dipole  <a class=\"anchor\" id=\"Bmag_dipole-bullet\"></a>\n",
    "\n",
    "**Routine to calculate the geomagnetic dipole field strength**\n",
    "\n",
    "***\n",
    "\n",
    "**<font color='blue'>Description</font>**\n",
    "\n",
    "\n",
    "For a centered dipole Earth’s magnetic field model, the components of the magnetic field are given as [Parks,1991]:\n",
    "\n",
    "\n",
    "$$B_r=-2B_0 \\frac{R_e^3}{r^3}sin \\lambda  $$\n",
    "$$ B_{\\lambda}=B_0\\frac{R_e^3}{r^3}cos \\lambda  $$\n",
    "$$B_{\\theta}=0$$\n",
    "and:\n",
    "$$B=\\sqrt{B_r^2+B_{\\lambda}^2}=B_{0,eq}\\frac{R_e^3}{r^3} \\sqrt{1+3sin^2\\lambda}$$\n",
    "where $r$ and $\\lambda$ are the geocentric radial distance and latitude respectively, $R_e$ is the\n",
    "Earth’s radius, and $B_{0,eq}$ is the value of the geomagnetic field at\n",
    "the Earth’s surface equator, taken as $3.12 × 10^{−5} T$. \n",
    "\n",
    "The radius of a field line in a centered dipole field is given as\n",
    "$$r=R_e L\\cos^2 \\lambda$$\n",
    "subsituting r in the expression for the dipole magnetic field strength, we get:\n",
    "$$ B=B_{0,eq}\\frac{R_e^3}{(R_e L\\cos^2 \\lambda)^3} \\sqrt{1+3sin^2\\lambda}=B_{0,eq} \\frac{1}{L^3} \\frac{\\sqrt{1+3sin^2\\lambda}}{\\cos^6 \\lambda}$$\n",
    "\n",
    "*** \n",
    "**<font color='red'>Inputs</font>**\n",
    "\n",
    "**L_arg**: L shell\n",
    "\n",
    "**lamda_arg**: magnetic latitude in rad\n",
    "\n",
    "***\n",
    "\n",
    "**<font color='green'>Outputs</font>**\n",
    "\n",
    "**Bmag**: Geomagnetic field in T\n",
    "\n",
    "***\n",
    "\n",
    "**Reference**\n",
    "\n",
    " Parks G K 1991 Physics of Space Plasmas. An Introduction 1st edn (Redwood City, CA: Addison Wesley), p. 54\n",
    "\n",
    "***\n",
    "\n",
    "[Return to top](#top-bullet) \n",
    "\n"
   ]
  },
  {
   "cell_type": "markdown",
   "id": "04c0ac1a",
   "metadata": {},
   "source": [
    "#### Example"
   ]
  },
  {
   "cell_type": "code",
   "execution_count": 2,
   "id": "2c684f12",
   "metadata": {},
   "outputs": [
    {
     "data": {
      "image/png": "[encoded data removed]",
      "text/plain": [
       "<Figure size 576x432 with 1 Axes>"
      ]
     },
     "metadata": {
      "needs_background": "light"
     },
     "output_type": "display_data"
    }
   ],
   "source": [
    "#Latitude range of interest\n",
    "lats_deg = np.arange(-80,80,0.1)\n",
    "#Covert from deg to rad\n",
    "lats_rad = np.deg2rad(lats_deg)\n",
    "#Lshell of interest\n",
    "L_shell=4\n",
    "\n",
    "#call environment_mod.Bmag_dipole routine\n",
    "Bmag=env.Bmag_dipole(L_shell,lats_rad)\n",
    "\n",
    "###Plot Output##############################################\n",
    "fig, ax = plt.subplots(figsize=(8,6))\n",
    "s=5\n",
    "fonts=16\n",
    "ax.set_title('Strength of the magnetic field along the L=4 field line',fontsize=fonts)\n",
    "\n",
    "ax.plot(lats_deg,Bmag,c='orange',linewidth=s,label='dipole')\n",
    "ax.grid(alpha=.3)\n",
    "ax.set_xlim(-90,90)\n",
    "ax.set_xlabel('Latitude (deg)',fontsize=fonts)\n",
    "ax.set_ylabel(r'B (T)',fontsize=fonts)\n",
    "ax.legend()\n",
    "\n",
    "\n",
    "plt.show()\n",
    "############################################################"
   ]
  },
  {
   "cell_type": "markdown",
   "id": "4002eb4c",
   "metadata": {},
   "source": [
    "[Return to top](#top-bullet) "
   ]
  },
  {
   "cell_type": "markdown",
   "id": "fe64d9ad",
   "metadata": {},
   "source": [
    "## 2. environment_mod.dwc_ds <a class=\"anchor\" id=\"dwc_ds-bullet\"></a>\n",
    "\n",
    "\n",
    "**Routine to calculate the gradient of gyrofrequency with respect to the distance along the magnetic field line**\n",
    "\n",
    "***\n",
    "\n",
    "**<font color='blue'>Description</font>**\n",
    "\n",
    "The \n",
    "$$ds=L R_e (1+ 3 \\sin^2 \\lambda)^{1/2} \\cos \\lambda d \\lambda $$ [e.g. Tao et al.2012].\n",
    "\n",
    "$$\\frac{d\\lambda}{ds}=\\frac{1}{L R_e (1+ 3 \\sin^2 \\lambda)^{1/2} \\cos \\lambda}$$\n",
    "The gyrofrecuency is defined as:\n",
    "$$ \\omega_{c} = \\frac {q_e B}{m_e} = \\frac {q_e B_0}{m_e} \\frac{1}{L^3} \\frac{\\sqrt{1+3\\sin^2 \\lambda}}{\\cos^6 \\lambda}= \\xi \\frac{\\sqrt{1+3\\sin^2 \\lambda}}{\\cos^6 \\lambda}  $$\n",
    "\n",
    "with\n",
    "\n",
    "$$\\xi=\\frac {q_e B_0}{m_e} \\frac{1}{L^3}$$\n",
    "\n",
    "The derivative of gyrofrequency along the field line is:\n",
    "\n",
    "$$\\frac{\\partial \\omega_H}{\\partial s}= \\frac{\\partial \\omega_H}{\\partial \\lambda} \\frac{\\partial \\lambda}{\\partial s}  $$\n",
    "\n",
    "Where\n",
    "$$ \\frac{\\partial \\omega_H}{\\partial \\lambda}= \\xi \\frac{\\partial}{\\partial \\lambda} \\frac{\\sqrt{1+3\\sin^2 \\lambda}}{\\cos^6 \\lambda} = \\xi \\frac{\\cos^6 \\lambda \\frac{\\partial}{\\partial \\lambda} \\sqrt{1+3\\sin^2 \\lambda}-\\sqrt{1+3\\sin^2 \\lambda}\\frac{\\partial}{\\partial \\lambda}\\cos^6 \\lambda  }{\\cos^{12} \\lambda}=$$\n",
    "$$=\\xi \\Big[ \\frac{\\frac{1}{2\\sqrt{1+3\\sin^2 \\lambda}}\\frac{\\partial}{\\partial \\lambda}(1+3\\sin^2\\lambda)}{\\cos^6 \\lambda} - \\frac{\\sqrt{1+3\\sin^2 \\lambda }6 \\cos^5 \\lambda \\frac{\\partial}{\\partial \\lambda} \\cos \\lambda}{\\cos^{12} \\lambda} \\Big] =$$\n",
    "$$=\\xi \\Big[ \\frac{6 \\sin \\lambda \\cos \\lambda}{2 \\cos^6 \\lambda \\sqrt{1+3\\sin^2 \\lambda} } - \\frac{\\sqrt{1+3\\sin^2 \\lambda} 6 \\cos^5 \\lambda (-\\sin \\lambda)}{\\cos^{12} \\lambda} \\Big] =$$\n",
    "$$=\\xi \\Big[ \\frac{3 \\sin \\lambda \\cos \\lambda}{\\cos^6 \\lambda \\sqrt{1+3\\sin^2 \\lambda}} + \\frac{6 \\sin \\lambda \\sqrt{1+3\\sin^2 \\lambda}}{\\cos^6 \\lambda \\cos\\lambda} \\Big] = $$\n",
    "$$=3 \\xi \\frac{\\sqrt{1+3\\sin^2 \\lambda}}{\\cos^6 \\lambda} \\Big[ \\frac{\\sin \\lambda \\cos \\lambda}{\\sqrt{1+3\\sin^2 \\lambda}^2}+ \\frac{2\\sin\\lambda}{\\cos\\lambda} \\Big] = $$\n",
    "$$=3 \\omega_H \\sin \\lambda \\cos\\lambda \\Big[ \\frac{1}{\\sqrt{1+3\\sin^2 \\lambda}^2} + \\frac{2}{\\cos^2 \\lambda} \\Big] $$\n",
    "Thus:\n",
    "$$\\frac{\\partial \\omega_H}{\\partial s}=  \\frac{\\partial \\omega_H}{\\partial \\lambda} \\frac{\\partial \\lambda}{\\partial s}  =\\frac{1}{R_e L \\cos \\lambda \\sqrt{1+3\\sin^2 \\lambda}} 3 \\omega_H \\sin \\lambda \\cos \\lambda \\Bigg[ \\frac{1}{\\sqrt{1+3\\sin^2 \\lambda}^2} + \\frac{2}{\\cos^2 \\lambda} \\Bigg] =$$\n",
    "$$\\frac{\\partial \\omega_H}{\\partial s}=\\frac{3 \\omega_H}{R_e L} \\frac{\\sin \\lambda}{\\sqrt{1+3\\sin^2 \\lambda}} \\Bigg[ \\frac{1}{\\sqrt{1+3\\sin^2 \\lambda}^2} + \\frac{2}{\\cos^2 \\lambda} \\Bigg] $$\n",
    "\n",
    "***\n",
    "\n",
    "**<font color='red'>Inputs</font>**\n",
    "\n",
    "**wc_arg**: gyrofrequency in rad/s\n",
    "\n",
    "**lamda_arg**: magnetic latitude in rad\n",
    "\n",
    "**L_arg**: L shell\n",
    "\n",
    "***\n",
    "\n",
    "**<font color='green'>Outputs</font>**\n",
    "\n",
    "**dwce_ds_arg**:  gradient of gyrofrequency along the field line\n",
    "\n",
    "***\n",
    "\n",
    "**Reference**\n",
    "\n",
    "***\n",
    "\n",
    "Tao, X., et al. \"Effects of amplitude modulation on nonlinear interactions between electrons and chorus waves.\" Geophysical Research Letters 39.6 (2012).\n",
    "\n",
    "***\n",
    "\n",
    "[Return to top](#top-bullet) \n",
    "\n",
    "\n"
   ]
  },
  {
   "cell_type": "markdown",
   "id": "facc5e2c",
   "metadata": {},
   "source": [
    "#### Example"
   ]
  },
  {
   "cell_type": "code",
   "execution_count": 3,
   "id": "3285ec83",
   "metadata": {},
   "outputs": [
    {
     "data": {
      "image/png": "[encoded data removed]",
      "text/plain": [
       "<Figure size 576x432 with 1 Axes>"
      ]
     },
     "metadata": {
      "needs_background": "light"
     },
     "output_type": "display_data"
    }
   ],
   "source": [
    "#Latitude range of interest\n",
    "lats_deg = np.arange(-60,60,0.1)\n",
    "#Covert from deg to rad\n",
    "lats_rad = np.deg2rad(lats_deg)\n",
    "#Lshell of interest\n",
    "L_shell=4\n",
    "\n",
    "#call environment_mod.Bmag_dipole routine\n",
    "Bmag=env.Bmag_dipole(L_shell,lats_rad)\n",
    "#call environment_mod.omega_cyclotron routine\n",
    "wce=env.omega_cyclotron(Bmag,env.const.qe,env.const.me)\n",
    "#call environment_mod.dwc_ds routine\n",
    "dwceds=env.dwc_ds(wce,lats_rad,L_shell)\n",
    "\n",
    "###Plot Output##############################################\n",
    "fig, ax = plt.subplots(figsize=(8,6))\n",
    "s=5\n",
    "fonts=15\n",
    "ax.set_title('Gradient of gyrofrequency along the L=4 field line',fontsize=fonts)\n",
    "ax.plot(lats_deg,dwceds,label='dwceds',linewidth=s)\n",
    "ax.grid(alpha=.3)\n",
    "ax.set_xlim(-90,90)\n",
    "ax.set_xlabel('Latitude (deg)',fontsize=fonts)\n",
    "ax.set_ylabel(r'dw/ds',fontsize=fonts)\n",
    "# ax.legend()\n",
    "\n",
    "\n",
    "\n",
    "plt.show()\n",
    "############################################################"
   ]
  },
  {
   "cell_type": "markdown",
   "id": "7be24927",
   "metadata": {},
   "source": [
    "[Return to top](#top-bullet) "
   ]
  },
  {
   "cell_type": "markdown",
   "id": "f3e823da",
   "metadata": {},
   "source": [
    "## 3. environment_mod.dB_ds <a class=\"anchor\" id=\"dB_ds-bullet\"></a>\n",
    "\n",
    "**Routine to calculate the gradient of magnetic field strength with respect to the distance along the magnetic field line**\n",
    "\n",
    "***\n",
    "\n",
    "**<font color='blue'>Description</font>**\n",
    "\n",
    "Similarly with the calculation of $\\frac{\\partial \\omega_c}{\\partial s}$:\n",
    "\n",
    "$$\\frac{\\partial B}{\\partial s}=\\frac{3 B}{R_e L} \\frac{\\sin \\lambda}{\\sqrt{1+3\\sin^2 \\lambda}} \\Bigg[ \\frac{1}{\\sqrt{1+3\\sin^2 \\lambda}^2} + \\frac{2}{\\cos^2 \\lambda} \\Bigg] $$\n",
    "\n",
    "***\n",
    "\n",
    "**<font color='red'>Inputs</font>**\n",
    "\n",
    "B_arg: magnetic field in T\n",
    "\n",
    "lamda_arg: magnetic latitude in rad\n",
    "\n",
    "L_arg: L shell\n",
    "\n",
    "***\n",
    "\n",
    "**<font color='green'>Outputs</font>**\n",
    "\n",
    "\n",
    "dB_ds_arg:  gradient of magnetic field along the field line\n",
    "\n",
    "***\n",
    "\n",
    "**Reference**\n",
    "\n",
    "e.g. Tao, X., et al. \"Effects of amplitude modulation on nonlinear interactions between electrons and chorus waves.\" Geophysical Research Letters 39.6 (2012).\n",
    "\n",
    "***\n",
    "\n",
    "[Return to top](#top-bullet) \n"
   ]
  },
  {
   "cell_type": "markdown",
   "id": "990f4b3f",
   "metadata": {},
   "source": [
    "#### Example"
   ]
  },
  {
   "cell_type": "code",
   "execution_count": 4,
   "id": "8b790d66",
   "metadata": {},
   "outputs": [
    {
     "data": {
      "image/png": "[encoded data removed]",
      "text/plain": [
       "<Figure size 576x432 with 1 Axes>"
      ]
     },
     "metadata": {
      "needs_background": "light"
     },
     "output_type": "display_data"
    }
   ],
   "source": [
    "#Latitude range of interest\n",
    "lats_deg = np.arange(-60,60,0.1)\n",
    "#Covert from deg to rad\n",
    "lats_rad = np.deg2rad(lats_deg)\n",
    "#Lshell of interest\n",
    "L_shell=[2,3,4,5]\n",
    "\n",
    "\n",
    "#call environment_mod.Bmag_dipole routine\n",
    "Bmag_L2=env.Bmag_dipole(L_shell[0],lats_rad)\n",
    "Bmag_L3=env.Bmag_dipole(L_shell[1],lats_rad)\n",
    "Bmag_L4=env.Bmag_dipole(L_shell[2],lats_rad)\n",
    "Bmag_L5=env.Bmag_dipole(L_shell[3],lats_rad)\n",
    "#call environment_mod.dB_ds routine\n",
    "dBds_L2=env.dB_ds(Bmag_L2,lats_rad,L_shell[0])\n",
    "dBds_L3=env.dB_ds(Bmag_L3,lats_rad,L_shell[0])\n",
    "dBds_L4=env.dB_ds(Bmag_L4,lats_rad,L_shell[0])\n",
    "dBds_L5=env.dB_ds(Bmag_L5,lats_rad,L_shell[0])\n",
    "                \n",
    "\n",
    "###Plot Output##############################################\n",
    "fig, ax = plt.subplots(figsize=(8,6))\n",
    "s=2\n",
    "fonts=15\n",
    "\n",
    "ax.plot(lats_deg,dBds_L2,linewidth=s,label='L2')\n",
    "ax.plot(lats_deg,dBds_L3,linewidth=s,label='L3')\n",
    "ax.plot(lats_deg,dBds_L4,linewidth=s,label='L4')\n",
    "ax.plot(lats_deg,dBds_L5,linewidth=s,label='L5')\n",
    "\n",
    "ax.grid(alpha=.3)\n",
    "ax.set_xlim(-90,90)\n",
    "ax.set_title('Gradient of the magnetic field \\n along the field line',fontsize=fonts)\n",
    "ax.set_xlabel('Latitude (deg)',fontsize=fonts)\n",
    "ax.set_ylabel(r'dB/ds',fontsize=fonts)\n",
    "ax.legend()\n",
    "\n",
    "plt.show()\n",
    "#############################################################"
   ]
  },
  {
   "cell_type": "markdown",
   "id": "96298de7",
   "metadata": {},
   "source": [
    "[Return to top](#top-bullet) "
   ]
  },
  {
   "cell_type": "markdown",
   "id": "02ab0ff0",
   "metadata": {},
   "source": [
    "## 4. environment_mod.Lshell <a class=\"anchor\" id=\"Lshell-bullet\"></a>\n",
    "\n",
    "**Calculate the Lshell given the latitude and the geocentric distance**\n",
    "\n",
    "***\n",
    "\n",
    "**<font color='blue'>Description</font>**\n",
    "\n",
    "For a dipole field model\n",
    "\n",
    "$$ L=\\frac{r}{R_e \\cos^2\\lambda}$$\n",
    "\n",
    "***\n",
    "\n",
    "**<font color='red'>Inputs</font>**\n",
    "\n",
    "**r_arg**: geocentric distance in km\n",
    "\n",
    "**lat_arg**: magnetic latitude in rad\n",
    "\n",
    "***\n",
    "\n",
    "**<font color='green'>Outputs</font>**\n",
    "\n",
    "**L_tmp**:  L shell\n",
    "\n",
    "***\n",
    "\n",
    "**Reference**\n",
    "\n",
    "e.g. Tao, X., et al. \"Effects of amplitude modulation on nonlinear interactions between electrons and chorus waves.\" Geophysical Research Letters 39.6 (2012).\n",
    "\n",
    "***\n",
    "\n",
    "[Return to top](#top-bullet) "
   ]
  },
  {
   "cell_type": "markdown",
   "id": "cfde999a",
   "metadata": {},
   "source": [
    "### Example"
   ]
  },
  {
   "cell_type": "code",
   "execution_count": 5,
   "id": "ac498f4c",
   "metadata": {},
   "outputs": [
    {
     "name": "stdout",
     "output_type": "stream",
     "text": [
      "geocentric distance: 10000.0 km\n",
      "magnetic latitude: 10.0 deg\n",
      "current L shell: 1.6166024720475014\n"
     ]
    }
   ],
   "source": [
    "# Geocentric distance in m\n",
    "rgeo=10000e3\n",
    "#Latitude of interest in rad\n",
    "lat_mag=np.deg2rad(10)\n",
    "\n",
    "#call environment_mod.magLshell routine\n",
    "Lsh= env.Lshell(rgeo,lat_mag)\n",
    "\n",
    "print('geocentric distance:', rgeo/1000, 'km')\n",
    "print('magnetic latitude:', np.rad2deg(lat_mag), 'deg')\n",
    "print('current L shell:', Lsh)"
   ]
  },
  {
   "cell_type": "markdown",
   "id": "d22c6415",
   "metadata": {},
   "source": [
    "[Return to top](#top-bullet) "
   ]
  },
  {
   "cell_type": "markdown",
   "id": "d09aba8b",
   "metadata": {},
   "source": [
    "## 5. environment_mod.density_equ_carpenter_anderson <a class=\"anchor\" id=\"carpender_anderson-bullet\"></a>\n",
    "\n",
    "**Calculate the equatorial electron density according to Carpender and Anderson [1992] model**\n",
    "\n",
    "***\n",
    "\n",
    "**<font color='blue'>Description</font>**\n",
    "\n",
    "a. Plasmapause inner limit $L_{ppi}$:\n",
    "$$L_{ppi}=5.6-0.46Kp_{max}$$\n",
    "\n",
    "where $Kp_{max}$ is the maximum Kp value in the preceding 24 hours.\n",
    "\n",
    "b. The saturated plasmasphere segment for $2.25 \\leq L \\leq L_{ppi} $:\n",
    "\n",
    "$$ log_{ne}=(-0.3145L+3.9043)+[0.15(cos\\frac{2\\pi(d+9)}{365}-0.5 cos\\frac{4\\pi(d+9)}{365})+0.00127 \\bar{R} -0.0635] e^{-\\frac{L-2}{1.5}}$$\n",
    "\n",
    "where $d$ is the day number, $t$ is the magnetic local time and $\\bar{R}$ is the 13 month average sunspot number. \n",
    "\n",
    "c. The plasmapause segment for $L_{ppi} \\leq L \\leq L_{ppo}$:\n",
    "\n",
    "\\begin{equation}\n",
    "  ne=\\begin{cases}\n",
    "    n_e(L_{ppi}) 10 ^{-\\frac{L-L_{ppi}}{0.1}}& 00\\leq t < 06 MLT \\\\\n",
    "    n_e(L_{ppi}) 10 ^{-\\frac{L-L_{ppi}}{0.1+0.011(t-6)}}& 06\\leq t \\leq 15 MLT\n",
    "  \\end{cases}\n",
    "\\end{equation}\n",
    "\n",
    "\n",
    "d. The extended plasma trough for $2.25 \\leq L \\leq 8$:\n",
    "\\begin{equation}\n",
    "  ne=\\begin{cases}\n",
    "   (5800+300t)L^{-4.5}+(1-e^{-\\frac{L-2}{10}})& 00\\leq t < 06 MLT \\\\\n",
    "    (-800+1400t)L^{-4.5}+(1-e^{-\\frac{L-2}{10}})& 06\\leq t \\leq 15 MLT\n",
    "  \\end{cases}\n",
    "\\end{equation}\n",
    "\n",
    "e. The plasmapuse outer limit $L_{ppo}$, determined by solving simultaneously for the plasmapause segment and the extended plasma trough.\n",
    "\n",
    "f. The plasma trough segment for $L_{ppo} \\leq L \\leq 8$:\n",
    "$$ne=ne(L_{ppo})(\\frac{L}{L_{ppo}})^{-4.5}+(1-e^{-\\frac{L-2}{10}})$$\n",
    "\n",
    "\n",
    "***\n",
    "\n",
    "**<font color='red'>Inputs</font>**\n",
    "\n",
    "**Lsh**: L shell\n",
    "\n",
    "**Kpmax**: the maximum Kp value in the preceding 24 hours\n",
    "\n",
    "**day**: the day number\n",
    "\n",
    "**mlt**: the magnetic local time\n",
    "\n",
    "**Rb**: the 13-month average sunspot number\n",
    "\n",
    "***\n",
    "\n",
    "**<font color='green'>Outputs</font>**\n",
    "\n",
    "\n",
    "**ne_eq**: equatorial electron density in cm^-3\n",
    "\n",
    "***\n",
    "\n",
    "**Reference**\n",
    "\n",
    "[Carpenter, D. L., and R. R. Anderson. \"An ISEE/whistler model of equatorial electron density in the magnetosphere.\" Journal of Geophysical Research: Space Physics 97.A2 (1992): 1097-1108.]\n",
    "\n",
    "***\n",
    "\n",
    "[Return to top](#top-bullet) "
   ]
  },
  {
   "cell_type": "markdown",
   "id": "00f099e7",
   "metadata": {},
   "source": [
    "### Example"
   ]
  },
  {
   "cell_type": "code",
   "execution_count": 6,
   "id": "22d5ef9b",
   "metadata": {},
   "outputs": [
    {
     "data": {
      "image/png": "[encoded data removed]",
      "text/plain": [
       "<Figure size 648x504 with 1 Axes>"
      ]
     },
     "metadata": {
      "needs_background": "light"
     },
     "output_type": "display_data"
    }
   ],
   "source": [
    "# L shells of interest\n",
    "Lshell=np.arange(2.2,8,0.05)\n",
    "# Kp value in the preceding 24 hours\n",
    "Kpmax1=1\n",
    "Kpmax2=4\n",
    "# day number (here January the first)\n",
    "day=0\n",
    "#magnetic local time (02.00)\n",
    "mlt=2\n",
    "#13 month average sunspot number\n",
    "Rsun=90\n",
    "\n",
    "#initialize an empty array\n",
    "ne_final_min=[]\n",
    "ne_final_max=[]\n",
    "\n",
    "for i in range(0,len(Lshell)):\n",
    "    # call environment_mod.carpender_anderson routine\n",
    "    ne_min=env.density_equ_carpenter_anderson(Lshell[i],Kpmax1,day,mlt,Rsun)\n",
    "    ne_max=env.density_equ_carpenter_anderson(Lshell[i],Kpmax2,day,mlt,Rsun)\n",
    "    ne_final_min.append(ne_min)\n",
    "    ne_final_max.append(ne_max)\n",
    "\n",
    "###Plot##############################################\n",
    "fig, ax = plt.subplots(figsize=(9,7))\n",
    "s=3\n",
    "ax.set_title('Equatorial Electron density',fontsize=16)\n",
    "ax.set_xlabel(\"L\",fontsize=16)\n",
    "ax.set_ylabel(\"Density (cm-3)\",fontsize=16)\n",
    "\n",
    "ax.plot(Lshell,ne_final_min,color=\"tab:green\",linewidth=s,label='Kp=1')\n",
    "ax.plot(Lshell,ne_final_max,color=\"tab:blue\",linewidth=s,label='Kp=4')\n",
    "ax.yaxis.get_ticklocs(minor=True)\n",
    "ax.minorticks_on()\n",
    "ax.legend()\n",
    "ax.set_yscale('log')\n",
    "ax.grid(alpha=.3)\n",
    "ax.set_ylim([10**(0), 10**4])\n",
    "ax.set_xlim([2,7.2])\n",
    "ax.grid(True, which=\"both\",alpha=.8)\n",
    "plt.show()\n",
    "###########################################################"
   ]
  },
  {
   "cell_type": "markdown",
   "id": "7c20c9bb",
   "metadata": {},
   "source": [
    "[Return to top](#top-bullet) "
   ]
  },
  {
   "cell_type": "markdown",
   "id": "0e50708f",
   "metadata": {},
   "source": [
    "## 6. environment.density_FL_denton <a class=\"anchor\" id=\"densities_denton-bullet\"></a>\n",
    "\n",
    "**Routine to calculate the electron density along a magnetic field line after [Denton et al., 2002]**\n",
    "\n",
    "***\n",
    "\n",
    "**<font color='blue'>Description</font>**\n",
    "\n",
    "$$n_e=n_{eq}\\cos^{-4}\\lambda$$\n",
    "\n",
    "***\n",
    "\n",
    "**<font color='red'>Inputs</font>**\n",
    "\n",
    "**ne0_arg**: equatorial electron number density\n",
    "\n",
    "**lamda_arg**: geomagnetic latitude in rad\n",
    "\n",
    "***\n",
    "\n",
    "**<font color='green'>Outputs</font>**\n",
    "\n",
    "**n_e_tmp**: electron number density\n",
    "\n",
    "***\n",
    "\n",
    "**Reference**\n",
    "\n",
    "Denton, R. E., J. Goldstein, and J. D. Menietti (2002), Field line depen-\n",
    "dence of magnetospheric electron density, Geophys. Res. Lett., 29(24),\n",
    "2205, doi:10.1029/2002GL015963.\n",
    "\n",
    "***\n",
    "\n",
    "[Return to top](#top-bullet) "
   ]
  },
  {
   "cell_type": "markdown",
   "id": "56d8d4fa",
   "metadata": {},
   "source": [
    "### Example"
   ]
  },
  {
   "cell_type": "code",
   "execution_count": 7,
   "id": "ed9c5936",
   "metadata": {},
   "outputs": [
    {
     "data": {
      "image/png": "[encoded data removed]",
      "text/plain": [
       "<Figure size 504x576 with 1 Axes>"
      ]
     },
     "metadata": {
      "needs_background": "light"
     },
     "output_type": "display_data"
    }
   ],
   "source": [
    "# latitudes of interest\n",
    "lats_deg = np.arange(-60,60,0.1)\n",
    "# cobert to rad from deg\n",
    "lats_rad = np.deg2rad(lats_deg)\n",
    "# L_shell of interest\n",
    "L_shell=4\n",
    "# Carpender-Anderson model parameters\n",
    "Kpmax=1\n",
    "day=0\n",
    "mlt=2\n",
    "Rsun=90\n",
    "#call environment_mod.carpender_anderson\n",
    "ne_eq_L4=env.density_equ_carpenter_anderson(L_shell,Kpmax,day,mlt,Rsun)\n",
    "#initialise an empty array\n",
    "ne_L4=[]\n",
    "\n",
    "for i in range(0,len(lats_rad)):\n",
    "    #call environment_mod.densities_denton\n",
    "    netmp=env.density_FL_denton(ne_eq_L4,lats_rad[i])\n",
    "    ne_L4.append(netmp)\n",
    "    \n",
    "###Plot Output##############################################\n",
    "fig, ax = plt.subplots(figsize=(7,8))\n",
    "s=5\n",
    "ax.set_title('Electron density along L=4',fontsize=16)\n",
    "ax.set_xlabel(\"latitude (deg)\",fontsize=16)\n",
    "ax.set_ylabel(\"Density (cm-3)\",fontsize=16)\n",
    "\n",
    "ax.plot(lats_deg,ne_L4,color=\"tab:red\")\n",
    "\n",
    "ax.yaxis.get_ticklocs(minor=True)\n",
    "ax.minorticks_on()\n",
    "\n",
    "# ax.set_yscale('log')\n",
    "ax.grid(alpha=.3)\n",
    "# ax.set_ylim([10**(-1), 10**6])\n",
    "# ax.set_xlim([2,7])\n",
    "ax.grid(True, which=\"both\",alpha=.8)\n",
    "plt.show()\n",
    "###########################################################    "
   ]
  },
  {
   "cell_type": "markdown",
   "id": "38ceeb92",
   "metadata": {},
   "source": [
    "[Return to top](#top-bullet) "
   ]
  },
  {
   "cell_type": "markdown",
   "id": "54fbc614",
   "metadata": {},
   "source": [
    "## 7. environment.density_ozhogin  <a class=\"anchor\" id=\"densities_ozhogin-bullet\"></a>\n",
    "\n",
    "**Routine to calculate the electron density along a magnetic field line after [Ozhogin et al., 2012]**\n",
    "\n",
    "***\n",
    "\n",
    "**<font color='blue'>Description</font>**\n",
    "\n",
    "$$n_{eq}(L)=10^{4.4693-0.1903*L}$$\n",
    "\n",
    "$$n_e(L,\\lambda)=n_{eq}(L) \\cos^{-0.75} \\Big(\\frac{\\pi}{2}\\frac{\\lambda}{\\lambda_{inv}}\\Big)$$\n",
    "\n",
    "$$\\lambda_{inv}=arccos\\sqrt{\\frac{1}{L}}$$\n",
    "\n",
    "***\n",
    "\n",
    "**<font color='red'>Inputs</font>**\n",
    "\n",
    "**L_arg**: Lshell\n",
    "\n",
    "**lamda_arg**: geomagnetic latitude in rad\n",
    "\n",
    "\n",
    "***\n",
    "\n",
    "**<font color='green'>Outputs</font>**\n",
    "\n",
    "**neqtmp**: equatorial electron number density\n",
    "\n",
    "**n_lamtmp**: electron number density at latitude\n",
    "\n",
    "***\n",
    "\n",
    "**Reference**\n",
    "\n",
    "Ozhogin, P., et al. \"Field‐aligned distribution of the plasmaspheric electron density: An empirical model derived from the IMAGE RPI measurements.\" Journal of Geophysical Research: Space Physics 117.A6 (2012).\n",
    "\n",
    "***\n",
    "[Return to top](#top-bullet) "
   ]
  },
  {
   "cell_type": "code",
   "execution_count": 8,
   "id": "1616069e",
   "metadata": {},
   "outputs": [
    {
     "data": {
      "image/png": "[encoded data removed]",
      "text/plain": [
       "<Figure size 504x576 with 1 Axes>"
      ]
     },
     "metadata": {
      "needs_background": "light"
     },
     "output_type": "display_data"
    }
   ],
   "source": [
    "# latitudes of interest\n",
    "lats_deg = np.arange(-60,60,0.1)\n",
    "# cobert to rad from deg\n",
    "lats_rad = np.deg2rad(lats_deg)\n",
    "# L_shell of interest\n",
    "L_shell=4\n",
    "\n",
    "#initialise empty arrays\n",
    "ne_L4_ozh=[]\n",
    "ne_eq_L4_ozh=[]\n",
    "\n",
    "for i in range(0,len(lats_rad)):\n",
    "    #call environment_mod.densities_ozhogin\n",
    "    netmp=env.density_ozhogin(L_shell,lats_rad[i])\n",
    "    ne_L4_ozh.append(netmp[1])\n",
    "    ne_eq_L4_ozh.append(netmp[0])\n",
    "    \n",
    "###Plot Output##############################################\n",
    "fig, ax = plt.subplots(figsize=(7,8))\n",
    "s=5\n",
    "ax.set_title('Electron density along L=4',fontsize=16)\n",
    "ax.set_xlabel(\"latitude (deg)\",fontsize=16)\n",
    "ax.set_ylabel(\"Density (cm-3)\",fontsize=16)\n",
    "\n",
    "ax.plot(lats_deg,ne_L4_ozh,color=\"tab:red\")\n",
    "\n",
    "ax.yaxis.get_ticklocs(minor=True)\n",
    "ax.minorticks_on()\n",
    "\n",
    "# ax.set_yscale('log')\n",
    "ax.grid(alpha=.3)\n",
    "# ax.set_ylim([10**(-1), 10**6])\n",
    "# ax.set_xlim([2,7])\n",
    "ax.grid(True, which=\"both\",alpha=.8)\n",
    "plt.show()\n",
    "#############################################################    \n",
    "\n"
   ]
  },
  {
   "cell_type": "markdown",
   "id": "568c6977",
   "metadata": {},
   "source": [
    "[Return to top](#top-bullet) "
   ]
  },
  {
   "cell_type": "markdown",
   "id": "a66ecd5a",
   "metadata": {},
   "source": [
    "## 8. environment.density_equ_sheeley  <a class=\"anchor\" id=\"densities_palsmasphere_sheeley-bullet\"></a>\n",
    "\n",
    "**Routine to calculate the equatorial electron density along a magnetic field line after [Sheeley et al., 2012]**\n",
    "\n",
    "***\n",
    "\n",
    "**<font color='blue'>Description</font>**\n",
    "\n",
    "$$n_{eq}(L)=1390(3/L)^{4.8} \\pm 440(3/L)^{3.6}$$\n",
    "\n",
    "for $3\\leq L\\leq7$\n",
    "\n",
    "\n",
    "***\n",
    "\n",
    "**<font color='red'>Inputs</font>**\n",
    "\n",
    "**L_arg**: Lshell\n",
    "\n",
    "\n",
    "***\n",
    "\n",
    "**<font color='green'>Outputs</font>**\n",
    "\n",
    "**ne_mean**: equatorial electron number density in cm^-3\n",
    "**ne_min**: lower limit\n",
    "**ne_max**: upper limit\n",
    "\n",
    "***\n",
    "\n",
    "**Reference**\n",
    "\n",
    "Sheeley, B. W., Moldwin, M. B., Rassoul, H. K., and Anderson, R. R. (2001), An empirical plasmasphere and trough density model: CRRES observations, J. Geophys. Res., 106( A11), 25631– 25641, doi:10.1029/2000JA000286. \n",
    "\n",
    "***\n",
    "\n",
    "[Return to top](#top-bullet) "
   ]
  },
  {
   "cell_type": "markdown",
   "id": "d3bf9621",
   "metadata": {},
   "source": [
    "### Example"
   ]
  },
  {
   "cell_type": "code",
   "execution_count": 9,
   "id": "7bcaa74c",
   "metadata": {},
   "outputs": [
    {
     "data": {
      "image/png": "[encoded data removed]",
      "text/plain": [
       "<Figure size 504x576 with 1 Axes>"
      ]
     },
     "metadata": {
      "needs_background": "light"
     },
     "output_type": "display_data"
    }
   ],
   "source": [
    "#L range of interest\n",
    "L_range=np.arange(3,7,0.1)\n",
    "\n",
    "#Call environment_mod.densities_palsmasphere_sheeley routine\n",
    "ne_mean,ne_min,ne_max=env.density_equ_sheeley(L_range)\n",
    "\n",
    "###Plot Output##############################################\n",
    "fig, ax = plt.subplots(figsize=(7,8))\n",
    "s=5\n",
    "ax.set_title('Equatorial electron density ',fontsize=16)\n",
    "ax.set_xlabel(\"L \",fontsize=16)\n",
    "ax.set_ylabel(\"Density (cm-3)\",fontsize=16)\n",
    "\n",
    "ax.plot(L_range,ne_mean,color=\"tab:red\")\n",
    "ax.plot(L_range,ne_min,color=\"tab:blue\")\n",
    "ax.plot(L_range,ne_max,color=\"tab:green\")\n",
    "\n",
    "ax.yaxis.get_ticklocs(minor=True)\n",
    "ax.minorticks_on()\n",
    "\n",
    "ax.set_yscale('log')\n",
    "ax.grid(alpha=.3)\n",
    "\n",
    "ax.grid(True, which=\"both\",alpha=.8)\n",
    "plt.show()\n",
    "#############################################################    "
   ]
  },
  {
   "cell_type": "markdown",
   "id": "90bda8a7",
   "metadata": {},
   "source": [
    "## 9. environment_mod.omega_cyclotron <a class=\"anchor\" id=\"omega_cyclotron-bullet\"></a>\n",
    "\n",
    "**Routine to calculate the gyrofrequency of a particle**\n",
    "\n",
    "***\n",
    "\n",
    "**<font color='blue'>Description</font>**\n",
    "\n",
    "$$\\Omega_{s}=\\frac{q_s B}{m_s}$$\n",
    "\n",
    "***\n",
    "\n",
    "**<font color='red'>Inputs</font>**\n",
    "\n",
    "\n",
    "**B_arg**: Geomagnetic field strength in T\n",
    "\n",
    "**q_arg**: particle charge in Cb\n",
    "\n",
    "**m_arg**: particle mass in kg\n",
    "\n",
    "***\n",
    "\n",
    "**<font color='green'>Outputs</font>**\n",
    "\n",
    "**omega_tmp**: particle gyrofrequency in rad/s\n",
    "\n",
    "***\n",
    "\n",
    "[Return to top](#top-bullet) "
   ]
  },
  {
   "cell_type": "markdown",
   "id": "dee0b21b",
   "metadata": {},
   "source": [
    "## 10. environment_mod.omega_plasma <a class=\"anchor\" id=\"omega_plasma-bullet\"></a>\n",
    "\n",
    "**Routine to calculate the plasma frequency**\n",
    "\n",
    "***\n",
    "\n",
    "**<font color='blue'>Description</font>**\n",
    "\n",
    "$$\\omega_{ps}=\\frac{N_{s}q_{s}^2}{\\epsilon_{0}m_{s}}$$\n",
    "\n",
    "***\n",
    "\n",
    "**<font color='red'>Inputs</font>**\n",
    "\n",
    "**n_arg**: particle number density in $m^{-3}$\n",
    "\n",
    "**q_arg**: particle charge in Cb\n",
    "\n",
    "**m_arg**: particle mass in kg\n",
    "\n",
    "***\n",
    "\n",
    "**<font color='green'>Outputs</font>**\n",
    "\n",
    "\n",
    "**omegap_tmp**: plasma frequency in rad/s\n",
    "\n",
    "***\n",
    "\n",
    "**Reference**\n",
    "\n",
    " Parks G K 1991 Physics of Space Plasmas. An Introduction 1st edn (Redwood City, CA: Addison Wesley), p. 87\n",
    " \n",
    "[Return to top](#top-bullet) "
   ]
  },
  {
   "cell_type": "markdown",
   "id": "b062df3e",
   "metadata": {},
   "source": [
    "## 11. environment_mod.omega_uh <a class=\"anchor\" id=\"omega_upper_hybrid-bullet\"></a>\n",
    "\n",
    "**Routine to calculate the upper hybrid resonance frequency**\n",
    "\n",
    "***\n",
    "\n",
    "**<font color='blue'>Description</font>**\n",
    "\n",
    "$$\\omega_{uh}=\\sqrt{w_{pe}^2+w_{ce}^2}$$\n",
    "\n",
    "***\n",
    "\n",
    "**<font color='red'>Inputs</font>**\n",
    "\n",
    "**wce_arg**: electron gyrofrequency \n",
    "\n",
    "**wpe_arg**: electron plasma frequency \n",
    "\n",
    "\n",
    "***\n",
    "\n",
    "**<font color='green'>Outputs</font>**\n",
    "\n",
    "**tmp**: upper hybrid resonance frequency\n",
    "\n",
    "\n",
    "***\n",
    "\n",
    "**Reference**\n",
    "\n",
    " Parks G K 1991 Physics of Space Plasmas. An Introduction 1st edn (Redwood City, CA: Addison Wesley), p. 377\n",
    " \n",
    "[Return to top](#top-bullet) "
   ]
  },
  {
   "cell_type": "markdown",
   "id": "76a96d61",
   "metadata": {},
   "source": [
    "## 12. environment_mod.omega_lower_hybrid <a class=\"anchor\" id=\"omega_lower_hybrid-bullet\"></a>\n",
    "\n",
    "**Routine to calculate the lower hybrid resonance frequency**\n",
    "\n",
    "***\n",
    "\n",
    "**<font color='blue'>Description</font>**\n",
    "\n",
    "$$\\frac{1}{\\omega_{lh}^2}=\\frac{1}{\\omega_{ce}\\omega_{ci}}+\\frac{1}{\\omega_{pi}^2}$$\n",
    "\n",
    "***\n",
    "\n",
    "**<font color='red'>Inputs</font>**\n",
    "\n",
    "**wce_arg**: electron gyrofrequency \n",
    "\n",
    "**wpe_arg**: electron plasma frequency \n",
    "\n",
    "**wci_arg**: ion gyrofrequency \n",
    "\n",
    "**wpi_arg**: ion plasma frequency \n",
    "\n",
    "***\n",
    "\n",
    "**<font color='green'>Outputs</font>**\n",
    "\n",
    "\n",
    "**wlh_tmp**: lower hybrid resonance frequency\n",
    "\n",
    "\n",
    "***\n",
    "\n",
    "**Reference**\n",
    "\n",
    " Parks G K 1991 Physics of Space Plasmas. An Introduction 1st edn (Redwood City, CA: Addison Wesley), p. 379\n",
    "\n",
    "[Return to top](#top-bullet) "
   ]
  },
  {
   "cell_type": "markdown",
   "id": "7ae6b51c",
   "metadata": {},
   "source": [
    "### Example"
   ]
  },
  {
   "cell_type": "code",
   "execution_count": 10,
   "id": "285b6947",
   "metadata": {},
   "outputs": [
    {
     "data": {
      "image/png": "[encoded data removed]",
      "text/plain": [
       "<Figure size 576x432 with 1 Axes>"
      ]
     },
     "metadata": {
      "needs_background": "light"
     },
     "output_type": "display_data"
    }
   ],
   "source": [
    "#Latitude range of interest\n",
    "lats_deg = np.arange(-60,60,0.1)\n",
    "#Convert from deg to rad\n",
    "lats_rad = np.deg2rad(lats_deg)\n",
    "#L shell of ineterst\n",
    "L_shell=4\n",
    "\n",
    "#Call environment_mod.Bmag_dipole\n",
    "Bmag=env.Bmag_dipole(L_shell,lats_rad)\n",
    "\n",
    "#Call environment_mod.omega_cyclotron\n",
    "wce=env.omega_cyclotron(Bmag,env.const.qe,env.const.me)\n",
    "wcH=env.omega_cyclotron(Bmag,env.const.qi,env.const.mH)\n",
    "\n",
    "#Define equatorial electron density(environment_mod.carpender_anderson)\n",
    "ne0=ne_eq_L4\n",
    "#Calculate electron density along the field line (environment_mod.densities_denton)\n",
    "ne=env.density_FL_denton(ne0,lats_rad)\n",
    "\n",
    "#Call environment_mod.omega_plasma\n",
    "wpe=env.omega_plasma(ne,env.const.qe,env.const.me)\n",
    "wpH=env.omega_plasma(ne,env.const.qi,env.const.mH)\n",
    "\n",
    "#Call environment_mod.omega_lh\n",
    "wlhr=env.omega_lhr(wce,wpe,wcH,wpH)\n",
    "#Call environment_mod.omega_uh\n",
    "wuhr=env.omega_uhr(wce,wpe)\n",
    "\n",
    "\n",
    "\n",
    "\n",
    "###plot###############################\n",
    "fig, ax = plt.subplots(figsize=(8,6))\n",
    "s=2\n",
    "fonts=16\n",
    "ax.plot(lats_deg,wce,label='wce',linewidth=s)\n",
    "ax.plot(lats_deg,wcH,label='wcH',linewidth=s)\n",
    "ax.plot(lats_deg,wpe,label='wpe',linewidth=s)\n",
    "ax.plot(lats_deg,wpH,label='wpH',linewidth=s)\n",
    "ax.plot(lats_deg,wuhr,label='wuhr',linewidth=s)\n",
    "ax.plot(lats_deg,wlhr,label='wlhr',linewidth=s)\n",
    "\n",
    "ax.set_title('Frequencies',fontsize=fonts)\n",
    "ax.set_yscale('log')\n",
    "ax.grid(alpha=.3)\n",
    "ax.set_xlim(-90,90)\n",
    "ax.set_xlabel('Latitude (deg)',fontsize=fonts)\n",
    "ax.set_ylabel(r'Frequency (rad/s)',fontsize=fonts)\n",
    "ax.legend()\n",
    "# ax.set_ylim(0,5)\n",
    "\n",
    "plt.show()\n",
    "\n"
   ]
  },
  {
   "cell_type": "markdown",
   "id": "1f7f5b47",
   "metadata": {},
   "source": [
    "[Return to top](#top-bullet) "
   ]
  },
  {
   "cell_type": "markdown",
   "id": "f3cb3d45",
   "metadata": {},
   "source": [
    "### Example"
   ]
  },
  {
   "cell_type": "markdown",
   "id": "75abd119",
   "metadata": {},
   "source": [
    "## 13. environment_mod.aeq2alpha <a class=\"anchor\" id=\"aeq2alpha-bullet\"></a>\n",
    "\n",
    "**Routine to translate equatorial pitch angle to local pitch angle**\n",
    "\n",
    "***\n",
    "\n",
    "**<font color='blue'>Description</font>**\n",
    "\n",
    "The first adaibatic invariant\n",
    "\n",
    "$$M=\\frac{p_{\\perp}^2}{2m_{s0}B} \\propto \\frac{\\sin^2 \\alpha}{B} $$\n",
    "\n",
    "where $p_{\\perp}$ is the perpendicular component of the electron momentum, $m_{s0}$ is\n",
    "the particle rest mass, $B_0$ is the magnetic field intensity, and $\\alpha$ is the local electron pitch angle\n",
    "defined as $\\alpha=\\tan^{-1}(u_{\\perp}/u_z)$. The velocity components parallel ($u_\\parallel$) and perpendicular ($u_{\\perp}$) to the magnetic field can be specified using as:\n",
    "\n",
    "$$u_\\parallel(\\lambda)=u\\cos \\alpha (\\lambda)$$\n",
    "$$u_{\\perp}(\\lambda)=u\\sin \\alpha (\\lambda)$$\n",
    "\n",
    "From the conservation of the fisrt adiabatic inveriant\n",
    "\n",
    "$$ \\sin^2 \\alpha (\\lambda) = \\frac{B(\\lambda)}{B_{eq}} \\sin^2 \\alpha_{eq} $$\n",
    "\n",
    "***\n",
    "\n",
    "**<font color='red'>Inputs</font>**\n",
    "\n",
    "**L_arg**: L shell\n",
    "\n",
    "**lambda_arg**: magnetic latitude in rad\n",
    "\n",
    "**aeq_arg**: equatorial pitch angle in rad\n",
    "\n",
    "***\n",
    "\n",
    "**<font color='green'>Outputs</font>**\n",
    "\n",
    "**alpha0**: local pitch angle in rad\n",
    "\n",
    "***\n",
    "\n",
    "[Return to top](#top-bullet) "
   ]
  },
  {
   "cell_type": "markdown",
   "id": "93f813c6",
   "metadata": {},
   "source": [
    "### Example"
   ]
  },
  {
   "cell_type": "code",
   "execution_count": 11,
   "id": "5dec0142",
   "metadata": {},
   "outputs": [
    {
     "name": "stdout",
     "output_type": "stream",
     "text": [
      "latitude: 10 deg\n",
      "L_shell: 4\n",
      "equatorial pitch angle: 30 deg\n",
      "local pitch angle: 32.34093633311206 deg\n"
     ]
    }
   ],
   "source": [
    "#Lattitude of interest\n",
    "lat_deg = 10\n",
    "#convert to rad\n",
    "lat_rad = np.deg2rad(lat_deg)\n",
    "#L of interest\n",
    "L_shell=4\n",
    "#Equatorial pitch angle\n",
    "aeq_deg=30\n",
    "#convert to rad\n",
    "aeq_rad=np.deg2rad(aeq_deg)\n",
    "\n",
    "#call environment_mod.aeq2alpha\n",
    "alpha_local=env.aeq2alpha(L_shell,lat_rad,aeq_rad)\n",
    "\n",
    "print('latitude:',lat_deg, 'deg')\n",
    "print('L_shell:',L_shell)\n",
    "print('equatorial pitch angle:',aeq_deg, 'deg')\n",
    "print('local pitch angle:',np.rad2deg(alpha_local), 'deg')"
   ]
  },
  {
   "cell_type": "markdown",
   "id": "fa41c112",
   "metadata": {},
   "source": [
    "[Return to top](#top-bullet) "
   ]
  },
  {
   "cell_type": "markdown",
   "id": "e3b277a1",
   "metadata": {},
   "source": [
    "## 14. environment_mod.alpha2aeq <a class=\"anchor\" id=\"alpha2aeq-bullet\"></a>\n",
    "\n",
    "**Routine to translate local pitch angle to equatorial pitch angle**\n",
    "\n",
    "***\n",
    "\n",
    "**<font color='blue'>Description</font>**\n",
    "\n",
    "\n",
    "$$ \\sin^2 \\alpha_{eq} (\\lambda) = \\frac{B_{eq}}{B(\\lambda)} \\sin^2 \\alpha $$\n",
    "\n",
    "***\n",
    "\n",
    "**<font color='red'>Inputs</font>**\n",
    "\n",
    "**L_arg**: L shell\n",
    "\n",
    "**lambda_arg**: magnetic latitude in rad\n",
    "\n",
    "**alpha_arg**: equatorial pitch angle in rad\n",
    "\n",
    "***\n",
    "\n",
    "**<font color='green'>Outputs</font>**\n",
    "\n",
    "\n",
    "**alphaeq0**: local pitch angle in rad\n",
    "\n",
    "***\n",
    "[Return to top](#top-bullet) "
   ]
  },
  {
   "cell_type": "markdown",
   "id": "49422077",
   "metadata": {},
   "source": [
    "### Example"
   ]
  },
  {
   "cell_type": "code",
   "execution_count": 12,
   "id": "7985e1ee",
   "metadata": {},
   "outputs": [
    {
     "name": "stdout",
     "output_type": "stream",
     "text": [
      "latitude: 10 deg\n",
      "L_shell: 4\n",
      "local pitch angle: 30 deg\n",
      "equatorial pitch angle: 27.860993160631715 deg\n"
     ]
    }
   ],
   "source": [
    "#Lattitude of interest\n",
    "lat_deg = 10\n",
    "#convert to rad\n",
    "lat_rad = np.deg2rad(lat_deg)\n",
    "#L of interest\n",
    "L_shell=4\n",
    "#local pitch angle\n",
    "alpha_deg=30\n",
    "#convert to rad\n",
    "alpha_rad=np.deg2rad(alpha_deg)\n",
    "\n",
    "#call environment_mod.aeq_local\n",
    "aeq_local=env.alpha2aeq(L_shell,lat_rad,alpha_rad)\n",
    "\n",
    "print('latitude:',lat_deg, 'deg')\n",
    "print('L_shell:',L_shell)\n",
    "print('local pitch angle:',alpha_deg, 'deg')\n",
    "print('equatorial pitch angle:',np.rad2deg(aeq_local), 'deg')\n"
   ]
  },
  {
   "cell_type": "markdown",
   "id": "b1dcb551",
   "metadata": {},
   "source": [
    "[Return to top](#top-bullet) "
   ]
  },
  {
   "cell_type": "markdown",
   "id": "f13dae29",
   "metadata": {},
   "source": [
    "### Example: Pitch angle mapping per L shell <a class=\"anchor\" id=\"Pitch_angle_mapping-bullet\"></a>"
   ]
  },
  {
   "cell_type": "code",
   "execution_count": 13,
   "id": "3ec4db94",
   "metadata": {},
   "outputs": [
    {
     "data": {
      "image/png": "[encoded data removed]",
      "text/plain": [
       "<Figure size 576x432 with 1 Axes>"
      ]
     },
     "metadata": {
      "needs_background": "light"
     },
     "output_type": "display_data"
    }
   ],
   "source": [
    "import numpy as np\n",
    "import matplotlib.pyplot as plt\n",
    "import matplotlib.mlab as mlab\n",
    "from mpl_toolkits.axes_grid1 import make_axes_locatable\n",
    "from matplotlib.patches import Polygon\n",
    "import matplotlib.colors as colors\n",
    "from matplotlib import ticker, cm\n",
    "\n",
    "\n",
    "H=500 #satellite altitude in km\n",
    "Re=6370 #Earth radius in Re\n",
    "B0=3.12*10**(-5)\n",
    "Rsat=H+Re\n",
    "r=Rsat\n",
    "# Beq=B0*((Re/r)**3)\n",
    "\n",
    "L=[2,3,4,5,6,7,8]\n",
    "lam_rad=[]\n",
    "lam_deg=[]\n",
    "B_ratio=[]\n",
    "a_eq_L2=[]\n",
    "a_eq_L3=[]\n",
    "a_eq_L4=[]\n",
    "a_eq_L5=[]\n",
    "a_eq_L6=[]\n",
    "a_eq_L7=[]\n",
    "a_eq_L8=[]\n",
    "alc=[]\n",
    "Beq=[]\n",
    "\n",
    "for i in range(0,len(L)):\n",
    "    cos_lam=np.sqrt(r/(Re*L[i]))\n",
    "    lam_tmp=np.arccos(cos_lam)\n",
    "    lam_deg_tmp=np.rad2deg(lam_tmp)\n",
    "    lam_rad.append(lam_tmp)\n",
    "    lam_deg.append(lam_deg_tmp)\n",
    "\n",
    "    Beq_tmp=B0*((1/L[i])**3)\n",
    "    Beq.append(Beq_tmp)\n",
    "\n",
    "for i in range(0,len(L)):\n",
    "    fac1=4*(L[i]**6)-3*(L[i]**5)\n",
    "    fac1=np.sqrt(fac1)\n",
    "    fac1=1/fac1\n",
    "    sinalc=np.sqrt(fac1)\n",
    "    alc_tmp=np.arcsin(sinalc)\n",
    "    alc_deg=np.rad2deg(alc_tmp)\n",
    "    alc.append(alc_deg)\n",
    "#     print(alc_deg)\n",
    "\n",
    "\n",
    "# print(lam_rad)\n",
    "\n",
    "for k in range(0,len(lam_rad)):\n",
    "    sin_lam=np.sin(lam_rad[k])\n",
    "    sin_sq=sin_lam**2\n",
    "    clat=np.sin(lam_rad[k])\n",
    "    sqrt=np.sqrt(1+3*sin_sq)\n",
    "    B_lam=B0*((Re/r)**3)*sqrt\n",
    "    \n",
    "    B_ratio_tmp=Beq[k]/B_lam\n",
    "    B_ratio.append(B_ratio_tmp)\n",
    "\n",
    "a_local=np.arange(0,91,1)\n",
    "a_local_rad=np.deg2rad(a_local)\n",
    "\n",
    "#L=2\n",
    "for l in range(0,len(a_local_rad)):\n",
    "    sin_sq_aeq=B_ratio[0]*np.sin(a_local_rad[l])*np.sin(a_local_rad[l])\n",
    "    sin_aeq=np.sqrt(sin_sq_aeq)\n",
    "    aeq=np.arcsin(sin_aeq)\n",
    "    aeq_deg=np.rad2deg(aeq)\n",
    "    a_eq_L2.append(aeq_deg)\n",
    "    # print(np.rad2deg(a_local_rad[l]),aeq_deg)\n",
    "\n",
    "#L=3\n",
    "for l in range(0,len(a_local_rad)):\n",
    "    sin_sq_aeq=B_ratio[1]*np.sin(a_local_rad[l])*np.sin(a_local_rad[l])\n",
    "    sin_aeq=np.sqrt(sin_sq_aeq)\n",
    "    aeq=np.arcsin(sin_aeq)\n",
    "    aeq_deg=np.rad2deg(aeq)\n",
    "    a_eq_L3.append(aeq_deg)\n",
    "    # print(np.rad2deg(a_local_rad[l]),aeq_deg)\n",
    "\n",
    "#L=4\n",
    "for l in range(0,len(a_local_rad)):\n",
    "    sin_sq_aeq=B_ratio[2]*np.sin(a_local_rad[l])*np.sin(a_local_rad[l])\n",
    "    sin_aeq=np.sqrt(sin_sq_aeq)\n",
    "    aeq=np.arcsin(sin_aeq)\n",
    "    aeq_deg=np.rad2deg(aeq)\n",
    "    a_eq_L4.append(aeq_deg)\n",
    "\n",
    "#L=5\n",
    "for l in range(0,len(a_local_rad)):\n",
    "    sin_sq_aeq=B_ratio[3]*np.sin(a_local_rad[l])*np.sin(a_local_rad[l])\n",
    "    sin_aeq=np.sqrt(sin_sq_aeq)\n",
    "    aeq=np.arcsin(sin_aeq)\n",
    "    aeq_deg=np.rad2deg(aeq)\n",
    "    a_eq_L5.append(aeq_deg)\n",
    "\n",
    "#L=6\n",
    "for l in range(0,len(a_local_rad)):\n",
    "    sin_sq_aeq=B_ratio[4]*np.sin(a_local_rad[l])*np.sin(a_local_rad[l])\n",
    "    sin_aeq=np.sqrt(sin_sq_aeq)\n",
    "    aeq=np.arcsin(sin_aeq)\n",
    "    aeq_deg=np.rad2deg(aeq)\n",
    "    a_eq_L6.append(aeq_deg)\n",
    "\n",
    "#L=7\n",
    "for l in range(0,len(a_local_rad)):\n",
    "    sin_sq_aeq=B_ratio[5]*np.sin(a_local_rad[l])*np.sin(a_local_rad[l])\n",
    "    sin_aeq=np.sqrt(sin_sq_aeq)\n",
    "    aeq=np.arcsin(sin_aeq)\n",
    "    aeq_deg=np.rad2deg(aeq)\n",
    "    a_eq_L7.append(aeq_deg)\n",
    "\n",
    "#L=7=8\n",
    "for l in range(0,len(a_local_rad)):\n",
    "    sin_sq_aeq=B_ratio[6]*np.sin(a_local_rad[l])*np.sin(a_local_rad[l])\n",
    "    sin_aeq=np.sqrt(sin_sq_aeq)\n",
    "    aeq=np.arcsin(sin_aeq)\n",
    "    aeq_deg=np.rad2deg(aeq)\n",
    "    a_eq_L8.append(aeq_deg)\n",
    "    \n",
    "fig, ax = plt.subplots(figsize=(8,6))\n",
    "s=5\n",
    "\n",
    "\n",
    "ax.set_xlabel(\"a_local (deg)\",fontsize=16)\n",
    "ax.set_ylabel(\"a_eq (deg)\",fontsize=16)\n",
    "\n",
    "ax.plot(a_local,a_eq_L2,color=\"purple\", label='L=2')\n",
    "ax.plot(a_local,a_eq_L3,color=\"lightcoral\", label='L=3')\n",
    "ax.plot(a_local,a_eq_L4,color=\"red\", label='L=4')\n",
    "ax.plot(a_local,a_eq_L5,color=\"maroon\", label='L=5')\n",
    "ax.plot(a_local,a_eq_L6,color=\"chocolate\", label='L=6')\n",
    "ax.plot(a_local,a_eq_L7,color=\"green\", label='L=7')\n",
    "ax.plot(a_local,a_eq_L8,color=\"gold\", label='L=8')\n",
    "\n",
    "ax.axhline(y=alc[0], color='purple', linestyle='--')\n",
    "ax.axhline(y=alc[1], color='lightcoral', linestyle='--')\n",
    "ax.axhline(y=alc[2], color='red', linestyle='--')\n",
    "ax.axhline(y=alc[3], color='maroon', linestyle='--')\n",
    "ax.axhline(y=alc[4], color='chocolate', linestyle='--')\n",
    "ax.axhline(y=alc[5], color='green', linestyle='--')\n",
    "ax.axhline(y=alc[6], color='gold', linestyle='--')\n",
    "\n",
    "ax.yaxis.get_ticklocs(minor=True)\n",
    "ax.minorticks_on()\n",
    "\n",
    "ax.grid(alpha=.3)\n",
    "ax.set_xlim(0,90)\n",
    "ax.set_ylim(0,None)\n",
    "ax.legend()\n",
    "# ax.set_xlabel('time (sec)')\n",
    "# ax.set_ylabel('$\\mu$ ')\n",
    "# ax2.set_ylabel(\"Latitude [deg]\",color=tableau20[2],fontsize=14)\n",
    "plt.show()"
   ]
  },
  {
   "cell_type": "markdown",
   "id": "0cca36c8",
   "metadata": {},
   "source": [
    "[Return to top](#top-bullet) "
   ]
  },
  {
   "cell_type": "markdown",
   "id": "2ef3f80c",
   "metadata": {},
   "source": [
    "## 15. environment_mod.T_bounce <a class=\"anchor\" id=\"bounce_period-bullet\"></a>\n",
    "\n",
    "**Calculate the bounce period of a trapped particle**\n",
    "\n",
    "***\n",
    "\n",
    "**<font color='blue'>Description</font>**\n",
    "\n",
    "$$\\tau_b \\approx 0.117 L\\frac{c}{u}\\Big[ 1-0.4635(\\sin\\alpha_{eq})^{3/4}\\Big]$$\n",
    "\n",
    "***\n",
    "\n",
    "**<font color='red'>Inputs</font>**\n",
    "\n",
    "**L_arg**: L shell\n",
    "\n",
    "**v_arg**: particle velocity in m/s\n",
    "\n",
    "**aeq_arg**: equatorial pitch angle\n",
    "\n",
    "\n",
    "***\n",
    "\n",
    "**<font color='green'>Outputs</font>**\n",
    "\n",
    "**tmp**: Bounce period in s\n",
    "\n",
    "**Reference**\n",
    "\n",
    "Öztürk, M. Kaan. \"Trajectories of charged particles trapped in Earth’s magnetic field.\" American Journal of Physics 80.5 (2012): 420-428.\n",
    "\n",
    "P. A. Sturrock, Plasma Physics: An Introduction to the Theory of Astro-\n",
    "physical, Geophysical, and Laboratory Plasmas (Cambridge U.P., Cam-\n",
    "bridge, UK, 1994)\n",
    "\n",
    "***\n",
    "\n",
    "[Return to top](#top-bullet) \n",
    "\n",
    "\n"
   ]
  },
  {
   "cell_type": "markdown",
   "id": "7ea68161",
   "metadata": {},
   "source": [
    "### 16. environment_mod.T_drift <a class=\"anchor\" id=\"drift_period-bullet\"></a>\n",
    "\n",
    "**Calculate the drift period of a trapped particle**\n",
    "\n",
    "***\n",
    "\n",
    "**<font color='blue'>Description</font>**\n",
    "\n",
    "$$\\tau_d \\approx \\frac{2\\pi q B_0 R_e^3}{mu^2}\\frac{1}{LR_e}\\Big[1-\\frac{1}{3}(\\sin\\alpha_{eq})^{0.62}\\Big]$$\n",
    "\n",
    "**Inputs**:\n",
    "\n",
    "**pper_arg**: paerpendicular to the magnetic field momentum component\n",
    "\n",
    "**B_arg**: Magnetic field strength\n",
    "\n",
    "**m_arg**: Particle mass\n",
    "\n",
    "\n",
    "***\n",
    "\n",
    "**<font color='red'>Inputs</font>**\n",
    "\n",
    "**tmp**: Drift period in s\n",
    "\n",
    "**Reference**\n",
    "\n",
    "Öztürk, M. Kaan. \"Trajectories of charged particles trapped in Earth’s magnetic field.\" American Journal of Physics 80.5 (2012): 420-428.\n",
    "\n",
    "P. A. Sturrock, Plasma Physics: An Introduction to the Theory of Astro-\n",
    "physical, Geophysical, and Laboratory Plasmas (Cambridge U.P., Cam-\n",
    "bridge, UK, 1994)\n",
    "\n",
    "***\n",
    "\n",
    "[Return to top](#top-bullet) \n",
    "\n",
    "\n"
   ]
  },
  {
   "cell_type": "markdown",
   "id": "3eafeef2",
   "metadata": {},
   "source": [
    "### Example"
   ]
  },
  {
   "cell_type": "code",
   "execution_count": 14,
   "id": "1577d46c",
   "metadata": {},
   "outputs": [
    {
     "name": "stdout",
     "output_type": "stream",
     "text": [
      "cyclotron period: 6.401584793531712e-05 s\n",
      "bounce period: 0.5148365684769513 s\n",
      "drift period: 126.02612828165691 s\n"
     ]
    }
   ],
   "source": [
    "#Kinetic energy in keV\n",
    "EkeV_=168\n",
    "# Latitude of interest\n",
    "lat_deg = 10\n",
    "#convert to rad\n",
    "lat_rad = np.deg2rad(lat_deg)\n",
    "#L shell of interest\n",
    "L_shell=4\n",
    "#equatorial pitch angle\n",
    "aeq_deg=30\n",
    "#convert to rad\n",
    "aeq_rad=np.deg2rad(aeq_deg)\n",
    "\n",
    "#magnetic field strength(environment_mod.Bmag_dipole)\n",
    "Bmag=env.Bmag_dipole(L_shell,lat_rad)\n",
    "\n",
    "#gyrofrequency(environment_mod.omega_cyclotron)\n",
    "wce=env.omega_cyclotron(Bmag,env.const.qe,env.const.me)\n",
    "\n",
    "#gyro period\n",
    "tc=2*np.pi/wce\n",
    "\n",
    "#local pitch angle(environment_mod.aeq2alpha)\n",
    "alpha_local=env.aeq2alpha(L_shell,lat_rad,aeq_rad)\n",
    "\n",
    "#calculate velocities and momentums(environment_mod.momentums)\n",
    "upar_,uper_,ppar_,pper_,gamma_=env.initial_velocity(EkeV_,alpha_local,env.const.me)\n",
    "\n",
    "#velocity magnitude\n",
    "umag=np.sqrt(upar_*upar_+uper_*uper_)\n",
    "\n",
    "#bounce period (environment_mod.bounce_period)\n",
    "tb=env.T_bounce(L_shell,umag,aeq_rad)\n",
    "#drift period (environment_mod.drift_period)\n",
    "td=env.T_drift(Bmag,env.const.me,umag,L_shell,aeq_rad)\n",
    "\n",
    "print('cyclotron period:',tc,'s')\n",
    "print('bounce period:',tb,'s')\n",
    "print('drift period:',td,'s')"
   ]
  },
  {
   "cell_type": "markdown",
   "id": "39a8396c",
   "metadata": {},
   "source": [
    "[Return to top](#top-bullet) "
   ]
  },
  {
   "cell_type": "markdown",
   "id": "db46f5ea",
   "metadata": {},
   "source": [
    "## 17. environment_mod.R_Larmor <a class=\"anchor\" id=\"larmor-bullet\"></a>\n",
    "\n",
    "**Routine to calculate the larmor radius**\n",
    "\n",
    "***\n",
    "\n",
    "**<font color='blue'>Description</font>**\n",
    "\n",
    "$$r_L=\\frac{\\gamma m_s u_\\perp}{q_s B}$$\n",
    "\n",
    "***\n",
    "\n",
    "**<font color='red'>Inputs</font>**\n",
    "\n",
    "**uperp_arg**: perpendicular velocity in m/s\n",
    "\n",
    "**gamma_arg**: Lorentz factor\n",
    "\n",
    "**B_arg**: Magnetic field in T\n",
    "\n",
    "**ms_arg**: particle mass\n",
    "\n",
    "**qs_arg**: particle charge\n",
    "\n",
    "***\n",
    "\n",
    "**<font color='green'>Outputs</font>**\n",
    "\n",
    "\n",
    "**rl_tmp**: Larmor radius in m\n",
    "\n",
    "\n",
    "***\n",
    "\n",
    "**Reference**\n",
    "\n",
    " Parks G K 1991 Physics of Space Plasmas. An Introduction 1st edn (Redwood City, CA: Addison Wesley), p. 87\n",
    "\n",
    "[Return to top](#top-bullet) "
   ]
  },
  {
   "cell_type": "markdown",
   "id": "66fc4989",
   "metadata": {},
   "source": [
    "### Example"
   ]
  },
  {
   "cell_type": "code",
   "execution_count": 15,
   "id": "eaf1bbb9",
   "metadata": {},
   "outputs": [
    {
     "name": "stdout",
     "output_type": "stream",
     "text": [
      "Larmor radius: 1429.7285342095051 m\n"
     ]
    }
   ],
   "source": [
    "#Kinetic energy in keV\n",
    "EkeV_=168\n",
    "# Latitude of interest\n",
    "lat_deg = 10\n",
    "#convert to rad\n",
    "lat_rad = np.deg2rad(lat_deg)\n",
    "#L shell of interest\n",
    "L_shell=4\n",
    "#equatorial pitch angle\n",
    "aeq_deg=30\n",
    "#convert to rad\n",
    "aeq_rad=np.deg2rad(aeq_deg)\n",
    "\n",
    "#magnetic field strength(environment_mod.Bmag_dipole)\n",
    "Bmag=env.Bmag_dipole(L_shell,lat_rad)\n",
    "\n",
    "#local pitch angle(environment_mod.aeq2alpha)\n",
    "alpha_local=env.aeq2alpha(L_shell,lat_rad,aeq_rad)\n",
    "\n",
    "#calculate velocities and momentums(environment_mod.momentums)\n",
    "upar_,uper_,ppar_,pper_,gamma_=env.initial_velocity(EkeV_,alpha_local,env.const.me)\n",
    "\n",
    "#calculate larmor radius(environment_mod.larmor)\n",
    "rl=env.R_Larmor(uper_,gamma_,Bmag,env.const.me,env.const.qe)\n",
    "\n",
    "print('Larmor radius:',rl,'m')"
   ]
  },
  {
   "cell_type": "markdown",
   "id": "118967c4",
   "metadata": {},
   "source": [
    "## 18. environment_mod.mu_adiabatic <a class=\"anchor\" id=\"mu_adiabatic-bullet\"></a>\n",
    "\n",
    "**Routine to calculate the first adiabatic invariant**\n",
    "\n",
    "***\n",
    "\n",
    "**<font color='blue'>Description</font>**\n",
    "\n",
    "$$\\mu=\\frac{p_\\perp^2}{2 m B}$$\n",
    "\n",
    "***\n",
    "\n",
    "**<font color='red'>Inputs</font>**\n",
    "\n",
    "**pper_arg**: perpendicualr to the magnetic field component of momentum\n",
    "\n",
    "**B_arg**: magnetic field strength\n",
    "\n",
    "**m_arg**: particle mass\n",
    "\n",
    "\n",
    "***\n",
    "\n",
    "**<font color='green'>Outputs</font>**\n",
    "\n",
    "**tmp**: first adiabatic invariant\n",
    "\n",
    "\n",
    "***\n",
    "\n",
    "**Reference**\n",
    "\n",
    " Parks G K 1991 Physics of Space Plasmas. An Introduction 1st edn (Redwood City, CA: Addison Wesley), p. 90\n",
    " \n",
    "[Return to top](#top-bullet) "
   ]
  },
  {
   "cell_type": "markdown",
   "id": "f5785a93",
   "metadata": {},
   "source": [
    "### Example"
   ]
  },
  {
   "cell_type": "code",
   "execution_count": 16,
   "id": "2c16ce5f",
   "metadata": {},
   "outputs": [
    {
     "name": "stdout",
     "output_type": "stream",
     "text": [
      "First adiabatic invariant: 1.60723697506637e-08\n"
     ]
    }
   ],
   "source": [
    "EkeV_=168\n",
    "lat_deg = 10\n",
    "lat_rad = np.deg2rad(lat_deg)\n",
    "L_shell=4\n",
    "aeq_deg=30\n",
    "aeq_rad=np.deg2rad(aeq_deg)\n",
    "Bmag=env.Bmag_dipole(L_shell,lat_rad)\n",
    "\n",
    "alpha_local=env.aeq2alpha(L_shell,lat_rad,aeq_rad)\n",
    "\n",
    "upar_,uper_,ppar_,pper_,gamma_=env.initial_velocity(EkeV_,alpha_local,env.const.me)\n",
    "mu_ad=env.mu_adiabatic(pper_,Bmag,env.const.me)\n",
    "\n",
    "print('First adiabatic invariant:',mu_ad)\n"
   ]
  },
  {
   "cell_type": "markdown",
   "id": "dbf03c3b",
   "metadata": {},
   "source": [
    "[Return to top](#top-bullet) "
   ]
  },
  {
   "cell_type": "markdown",
   "id": "0fcf4502",
   "metadata": {},
   "source": [
    "## 19. environment_mod.initial_velocity <a class=\"anchor\" id=\"momentums-bullet\"></a>\n",
    "\n",
    "**Routine to calculate velocities and momentums from energy and pitch angle**\n",
    "\n",
    "***\n",
    "\n",
    "**<font color='blue'>Description</font>**\n",
    "\n",
    "$$E_{joule}=1.602176487 \\times 10^{-16} E_{keV}$$\n",
    "$$\\gamma=\\frac{E_{joule}}{m_e c^2}+1$$\n",
    "$$\\beta=\\sqrt{1-\\frac{1}{\\gamma^2}}$$\n",
    "$$u=\\beta c$$\n",
    "$$u_\\perp=u\\sin\\alpha$$\n",
    "$$u_\\parallel=u\\cos\\alpha$$\n",
    "$$p_\\perp=\\gamma m_s u_\\perp$$\n",
    "$$p_\\parallel=\\gamma m_s u_\\parallel$$\n",
    "***\n",
    "\n",
    "**<font color='red'>Inputs</font>**\n",
    "\n",
    "**Ekev**: energy in keV\n",
    "\n",
    "**alpha**: local pitch angle in rad\n",
    "\n",
    "***\n",
    "\n",
    "**<font color='green'>Outputs</font>**\n",
    "\n",
    "**upar0**: parallel velocity in m/s\n",
    "\n",
    "**uper0**: perpendicular velocity in m/s\n",
    "\n",
    "**ppar0**: parallel momentum in N*s\n",
    "\n",
    "**pper0**: perpendicular momentum in N*s\n",
    "\n",
    "**gamma0**: Lorentz factor\n",
    "\n",
    "***\n",
    "\n",
    "[Return to top](#top-bullet) "
   ]
  },
  {
   "cell_type": "markdown",
   "id": "da818e1a",
   "metadata": {},
   "source": [
    "### Example"
   ]
  },
  {
   "cell_type": "code",
   "execution_count": 17,
   "id": "b68b89a1",
   "metadata": {},
   "outputs": [
    {
     "name": "stdout",
     "output_type": "stream",
     "text": [
      "Energy: 168 kev\n",
      "alpha: 20.0 deg\n",
      "parallel velocity: 185509768.48734844 m/s\n",
      "perpendicular velocity: 67520033.89500917 m/s\n",
      "parallel momentum: 2.245445695265737e-22 N*s\n",
      "perpendicular momentum: 8.17275395737906e-23 N*s\n",
      "Lorentz factor: 1.3287608233233947\n"
     ]
    }
   ],
   "source": [
    "#Kinetic energy in keV\n",
    "EkeV_=168\n",
    "#local pitch angle\n",
    "alpha_=np.deg2rad(20)\n",
    "\n",
    "#call environment_mod.momentums\n",
    "upar_,uper_,ppar_,pper_,gamma_=env.initial_velocity(EkeV_,alpha_,env.const.me)\n",
    "\n",
    "print('Energy:',EkeV_,'kev')\n",
    "print('alpha:',np.rad2deg(alpha_),'deg')\n",
    "print('parallel velocity:',upar_,'m/s')\n",
    "print('perpendicular velocity:',uper_,'m/s')\n",
    "print('parallel momentum:',ppar_,'N*s')\n",
    "print('perpendicular momentum:',pper_,'N*s')\n",
    "print('Lorentz factor:',gamma_)"
   ]
  },
  {
   "cell_type": "markdown",
   "id": "61f3da9c",
   "metadata": {},
   "source": [
    "[Return to top](#top-bullet) "
   ]
  },
  {
   "cell_type": "markdown",
   "id": "05b73837",
   "metadata": {},
   "source": [
    "## 20. environment_mod.loss_cone <a class=\"anchor\" id=\"loss_cone-bullet\"></a>\n",
    "\n",
    "**Routine to calculate the loss cone angle**\n",
    "\n",
    "***\n",
    "\n",
    "**<font color='blue'>Description</font>**\n",
    "\n",
    "$$\\sin\\alpha_{lc}=[L^3((4-3/L)^{1/2}]^{-1/2}$$\n",
    "\n",
    "***\n",
    "\n",
    "**<font color='red'>Inputs</font>**\n",
    "\n",
    "\n",
    "**L_arg**: L shell\n",
    "\n",
    "\n",
    "***\n",
    "\n",
    "**<font color='green'>Outputs</font>**\n",
    "\n",
    "\n",
    "**tmp**: loss cone angle in rad\n",
    "\n",
    "***\n",
    "\n",
    "**Refence**\n",
    "\n",
    "Kivelson, Margaret G., Margaret Galland Kivelson, and Christopher T. Russell, eds. Introduction to space physics. Cambridge university press, 1995.\n",
    "\n",
    "***\n",
    "\n",
    "[Return to top](#top-bullet) "
   ]
  },
  {
   "cell_type": "code",
   "execution_count": 18,
   "id": "93a70871",
   "metadata": {},
   "outputs": [
    {
     "name": "stdout",
     "output_type": "stream",
     "text": [
      "Loss cone: 5.341843503512352 deg\n"
     ]
    }
   ],
   "source": [
    "#L shell of interest\n",
    "Lshell=4\n",
    "\n",
    "#call environment_mod.loss_cone\n",
    "alc=env.loss_cone(Lshell)\n",
    "\n",
    "print('Loss cone:',np.rad2deg(alc),'deg')"
   ]
  },
  {
   "cell_type": "markdown",
   "id": "f6b203de",
   "metadata": {},
   "source": [
    "[Return to top](#top-bullet) "
   ]
  },
  {
   "cell_type": "markdown",
   "id": "89bebcb7",
   "metadata": {},
   "source": [
    "## 21. environment_mod.loss_cone_v2 <a class=\"anchor\" id=\"loss_cone_v2-bullet\"></a>\n",
    "\n",
    "**Another approximation for the calculation of the loss cone**\n",
    "\n",
    "***\n",
    "\n",
    "**<font color='blue'>Description</font>**\n",
    "\n",
    "\n",
    "$$\\sin\\alpha_{lc}=\\sqrt{\\frac{\\zeta_m}{1+3(1-\\zeta_m}}$$\n",
    "\n",
    "with\n",
    "\n",
    "$$\\zeta_m=\\frac{R_e + h_m}{LR_e}$$\n",
    "\n",
    "and $h_m$ is the height above the Earth's surface where the particles are lost (~100km)\n",
    "\n",
    "\n",
    "***\n",
    "\n",
    "**<font color='red'>Inputs</font>**\n",
    "\n",
    "\n",
    "L_arg: L shell\n",
    "\n",
    "h_arg: $h_m$ in km\n",
    "\n",
    "***\n",
    "\n",
    "**<font color='green'>Outputs</font>**\n",
    "\n",
    "**tmp**: loss cone angle in rad\n",
    "\n",
    "***\n",
    "\n",
    "**Refence**\n",
    "\n",
    "Lauben, D. S., Inan, U. S., and Bell, T. F. (2001). Precipitation of radiation belt electrons induced by\n",
    "obliquely propagating lightning-generated whistlers. Journal of Geophysical Research: Space Physics\n",
    "106, 29745–29770\n",
    "\n",
    "***\n",
    "[Return to top](#top-bullet) "
   ]
  },
  {
   "cell_type": "markdown",
   "id": "ee7ec014",
   "metadata": {},
   "source": [
    "### Example"
   ]
  },
  {
   "cell_type": "code",
   "execution_count": 19,
   "id": "3a5a9d3f",
   "metadata": {},
   "outputs": [
    {
     "name": "stdout",
     "output_type": "stream",
     "text": [
      "Loss cone: 5.341974343952732 deg\n"
     ]
    }
   ],
   "source": [
    "#L shell of interest\n",
    "Lshell=4\n",
    "#loss height\n",
    "h_sim=100\n",
    "\n",
    "#call environment_mod.loss_cone_v2\n",
    "alc=env.loss_cone_v2(Lshell,h_sim)\n",
    "\n",
    "print('Loss cone:',np.rad2deg(alc),'deg')"
   ]
  },
  {
   "cell_type": "markdown",
   "id": "f232f2e4",
   "metadata": {},
   "source": [
    "[Return to top](#top-bullet) "
   ]
  },
  {
   "cell_type": "markdown",
   "id": "11769c1c",
   "metadata": {},
   "source": [
    "## 22. environment_mod.debye_length <a class=\"anchor\" id=\"debye_length-bullet\"></a>\n",
    "\n",
    "**Routine to calculate the debye length**\n",
    "\n",
    "***\n",
    "\n",
    "**<font color='blue'>Description</font>**\n",
    "\n",
    "\n",
    "$$\\lambda_D=\\Big(\\frac{\\epsilon_0 k_B T}{n q_e^2}\\Big)^{1/2}$$\n",
    "\n",
    "***\n",
    "\n",
    "**<font color='red'>Inputs</font>**\n",
    "\n",
    "**ne_arg**: electron density in m^-3\n",
    "\n",
    "**Te_arg**: electron temperature in K\n",
    "\n",
    "***\n",
    "\n",
    "**<font color='green'>Outputs</font>**\n",
    "\n",
    "\n",
    "**tmp**: Debye length in m\n",
    "\n",
    "\n",
    "***\n",
    "\n",
    "**Reference**\n",
    "\n",
    " Parks G K 1991 Physics of Space Plasmas. An Introduction 1st edn (Redwood City, CA: Addison Wesley), p. 22\n",
    " \n",
    "[Return to top](#top-bullet) "
   ]
  },
  {
   "cell_type": "markdown",
   "id": "1d47eb01",
   "metadata": {},
   "source": [
    "### Example"
   ]
  },
  {
   "cell_type": "code",
   "execution_count": 20,
   "id": "b886b7b5",
   "metadata": {},
   "outputs": [
    {
     "name": "stdout",
     "output_type": "stream",
     "text": [
      "Debye length: 0.47622398265861565 m\n"
     ]
    }
   ],
   "source": [
    "Te=1000 #K\n",
    "ne=10**7 #m^-3\n",
    "\n",
    "deb_len=env.debye_length(ne,Te)\n",
    "\n",
    "print('Debye length:',deb_len,'m')"
   ]
  },
  {
   "cell_type": "markdown",
   "id": "fbe9f31a",
   "metadata": {},
   "source": [
    "[Return to top](#top-bullet) "
   ]
  },
  {
   "cell_type": "markdown",
   "id": "9270bca0",
   "metadata": {},
   "source": [
    "## 23. environment_mod.const <a class=\"anchor\" id=\"const-bullet\"></a>\n",
    "\n",
    "\n",
    "**File with all the needed constants**\n",
    "\n",
    "***\n",
    "\n",
    "**<font color='blue'>Description</font>**\n",
    "\n",
    "**<font color='green'>Re</font>=** 6378137   *<font color='red'>Earth mean radius in m</font>*\n",
    "\n",
    "**<font color='green'>c_light</font>=** 2.997956376932163e8 *<font color='red'>speed of light in m/s</font>*\n",
    "\n",
    "**<font color='green'>me</font>=** 9.10938291e-31   *<font color='red'>electron mass in kg</font>*\n",
    "\n",
    "**<font color='green'>qe</font>=** 1.602176565e-19 *<font color='red'>electron charge in C</font>*\n",
    "\n",
    "**<font color='green'>qi</font>=** 1.602176565e-19 *<font color='red'>electron charge in C</font>*\n",
    "\n",
    "**<font color='green'>mO</font>=** 2.67616E-026  *<font color='red'>oxygen mass in kg</font>*\n",
    "\n",
    "**<font color='green'>mH</font>=** 1.6726E-027 *<font color='red'>hydrogen mass in kg</font>*\n",
    "\n",
    "**<font color='green'>mHe</font>=** 6.6904E-027 *<font color='red'>helium mass in kg</font>*\n",
    " \n",
    "**<font color='green'>epsilon0</font>=** 8.854187817e-12  *<font color='red'>vacuum dielectric permittivity</font>*\n",
    "\n",
    "**<font color='green'>eps0</font>=** 8.854187817e-12  *<font color='red'>vacuum dielectric permittivity</font>* \n",
    "\n",
    "**<font color='green'>ms</font>=** [me,mH,mHe,mO]  *<font color='red'>vector of masses</font>*\n",
    "\n",
    "**<font color='green'>qs</font>=** [qe,qi,qi,qi]    *<font color='red'>vector of charges</font>*\n",
    "\n",
    "**<font color='green'>kb</font>=** 1.380649e-23 *<font color='red'>Boltzman constant</font>*\n",
    "\n",
    "**<font color='green'>mu0</font>=** 1.2566370614e-6  *<font color='red'>vacuum permeability</font>*"
   ]
  },
  {
   "cell_type": "markdown",
   "id": "14cfe9d0",
   "metadata": {},
   "source": [
    "[Return to top](#top-bullet) "
   ]
  },
  {
   "cell_type": "code",
   "execution_count": null,
   "id": "dfd3e47e",
   "metadata": {},
   "outputs": [],
   "source": []
  }
 ],
 "metadata": {
  "kernelspec": {
   "display_name": "Python 3 (ipykernel)",
   "language": "python",
   "name": "python3"
  },
  "language_info": {
   "codemirror_mode": {
    "name": "ipython",
    "version": 3
   },
   "file_extension": ".py",
   "mimetype": "text/x-python",
   "name": "python",
   "nbconvert_exporter": "python",
   "pygments_lexer": "ipython3",
   "version": "3.6.9"
  }
 },
 "nbformat": 4,
 "nbformat_minor": 5
}
