{
 "cells": [
  {
   "cell_type": "markdown",
   "id": "f8926b66",
   "metadata": {},
   "source": [
    "## Example calls of environment_mod routines"
   ]
  },
  {
   "cell_type": "code",
   "execution_count": 2,
   "id": "8ebcff95",
   "metadata": {},
   "outputs": [
    {
     "name": "stdout",
     "output_type": "stream",
     "text": [
      "/home/tourgaidis/Επιφάνεια εργασίας/WPIT_GIT/WPIT\n"
     ]
    }
   ],
   "source": [
    "import numpy as np\n",
    "import os\n",
    "import sys\n",
    "import inspect\n",
    "import matplotlib.pyplot as plt\n",
    "import PyGCPM\n",
    "import environment_mod as env\n",
    "\n",
    "\n",
    "current_dir =  os.path.abspath(os.path.dirname('__file__'))\n",
    "\n",
    "fpath = os.path.abspath(current_dir + \"/../environment\")\n",
    "sys.path.append(fpath)\n",
    "print(current_dir)"
   ]
  },
  {
   "cell_type": "markdown",
   "id": "57f26fe8",
   "metadata": {},
   "source": [
    " <a class=\"anchor\" id=\"top-bullet\"></a>\n",
    "### Table of Contents\n",
    "\n",
    "* [environment_mod.Bmag_dipole](#Bmag_dipole-bullet)\n",
    "* [environment_mod.carpender_anderson](#carpender_anderson-bullet)\n",
    "\n",
    "* [environment_mod.densities_denton](#densities_denton-bullet)\n",
    "* [environment_mod.cyclotron](#cyclotron-bullet)\n",
    "* [environment_mod.omega_plasma](#omega_plasma-bullet)\n",
    "* [environment_mod.omega_upper_hybrid](#omega_upper_hybrid-bullet)\n",
    "\n",
    "* [environment_mod.omega_lower_hybrid](#omega_lower_hybrid-bullet)\n",
    "* [environment_mod.aeq2alpha](#aeq2alpha-bullet)\n",
    "* [environment_mod.alpha2aeq](#alpha2aeq-bullet)\n",
    "* [environment_mod.Pitch angle mapping](#Pitch_angle_mapping-bullet)\n",
    "* [environment_mod.dwc_ds](#dwc_ds-bullet)\n",
    "* [environment_mod.magLshell](#magLshell-bullet)\n",
    "* [environment_mod.momentums](#momentums-bullet)\n",
    "* [environment_mod.mu_adiabatic](#mu_adiabatic-bullet)\n",
    "* [environment_mod.bounce_period](#bounce_period-bullet)\n",
    "* [environment_mod.drift_period](#drift_period-bullet)\n",
    "* [environment_mod.loss_cone](#loss_cone-bullet)\n",
    "* [environment_mod.debye_length](#debye_length-bullet)\n"
   ]
  },
  {
   "cell_type": "markdown",
   "id": "3d21406c",
   "metadata": {},
   "source": [
    "### 1. environment_mod.Bmag_dipole  <a class=\"anchor\" id=\"Bmag_dipole-bullet\"></a>\n",
    "\n",
    "Routine to calculate the geomagnetic dipole field strength\n",
    "\n",
    "We assume a centered dipole model for the Earth’s magnetic field. The components of B can be written as [Walt,1994]:\n",
    "$$B_r=-2B_0 \\frac{R_e^3}{r^3}sin \\lambda  $$\n",
    "$$ B_{\\lambda}=B_0\\frac{R_e^3}{r^3}cos \\lambda  $$\n",
    "$$B_{\\theta}=0$$\n",
    "and:\n",
    "$$B=\\sqrt{B_r^2+B_{\\lambda}^2}=B_0\\frac{R_e^3}{r^3} \\sqrt{1+3sin^2\\lambda}$$\n",
    "where $r$ and $\\lambda$ are the geocentric radial distance and latitude respectively, $R_e$ is the\n",
    "Earth’s radius (∼ 6370 km), and $B_0$ is the mean value of the field on the equator at\n",
    "the Earth’s surface ∼ $3.12 × 10^{−5} T$. The geomagnetic field described in this way is\n",
    "a good approximation to the real field, since our region of interest $(L \\approx  2−5)$ is far\n",
    "enough away from the Earth’s surface for the rapidly decaying higher order terms\n",
    "to become insignificant, and yet sufficiently close to remain unaltered by solar wind\n",
    "deformation, and other external current systems (e.g., the ring current, magnetopause\n",
    "current).In a centered dipole magnetic field model, the path along a given L shell can be described as:\n",
    "$$r=R_e L\\cos^2 \\lambda$$\n",
    "subsituting in the expression for the magnetic field intensity, we get:\n",
    "$$ B=B_0\\frac{R_e^3}{(R_e L\\cos^2 \\lambda)^3} \\sqrt{1+3sin^2\\lambda}=B_0 \\frac{1}{L^3} \\frac{\\sqrt{1+3sin^2\\lambda}}{\\cos^6 \\lambda}$$\n",
    "\n",
    "**Inputs**:\n",
    "\n",
    "L_arg: L shell\n",
    "\n",
    "lamda_arg: geomagnetic latitude in rad\n",
    "\n",
    "**Outputs**:\n",
    "\n",
    "Geomagnetic field in T\n",
    "\n",
    "[Return to top](#top-bullet) "
   ]
  },
  {
   "cell_type": "code",
   "execution_count": 2,
   "id": "4eeee179",
   "metadata": {},
   "outputs": [
    {
     "data": {
      "image/png": "[encoded data removed]",
      "text/plain": [
       "<Figure size 576x432 with 1 Axes>"
      ]
     },
     "metadata": {
      "needs_background": "light"
     },
     "output_type": "display_data"
    }
   ],
   "source": [
    "\n",
    "lats_deg = np.arange(-60,60,0.1)\n",
    "lats_rad = np.deg2rad(lats_deg)\n",
    "L_shell=4\n",
    "\n",
    "Bmag=env.Bmag_dipole(L_shell,lats_rad)\n",
    "\n",
    "#####Plot######\n",
    "fig, ax = plt.subplots(figsize=(8,6))\n",
    "s=5\n",
    "fonts=15\n",
    "ax.plot(lats_deg,Bmag,c='orange',label='Bmag',linewidth=s)\n",
    "\n",
    "ax.grid(alpha=.3)\n",
    "ax.set_xlim(-90,90)\n",
    "ax.set_xlabel('Latitude (deg)',fontsize=fonts)\n",
    "ax.set_ylabel(r'B (T)',fontsize=fonts)\n",
    "ax.legend()\n",
    "\n",
    "\n",
    "plt.show()\n"
   ]
  },
  {
   "cell_type": "markdown",
   "id": "5eb245cd",
   "metadata": {},
   "source": [
    "[Return to top](#top-bullet) "
   ]
  },
  {
   "cell_type": "markdown",
   "id": "5fdf5a2c",
   "metadata": {},
   "source": [
    "### 2. environment_mod.carpender_anderson <a class=\"anchor\" id=\"carpender_anderson-bullet\"></a>\n",
    "\n",
    "[Carpenter, D. L., and R. R. Anderson. \"An ISEE/whistler model of equatorial electron density in the magnetosphere.\" Journal of Geophysical Research: Space Physics 97.A2 (1992): 1097-1108.]\n",
    "\n",
    "a. Plasmapause inner limit $L_{ppi}$:\n",
    "$$L_{ppi}=5.6-0.46Kp_{max}$$\n",
    "\n",
    "where $Kp_{max}$ is the maximum Kp value in the preceding 24 hours.\n",
    "b. The saturated plasmasphere segment for $2.25 \\leq L \\leq L_{ppi} $:\n",
    "\n",
    "$$ log_{ne}=(-0.3145L+3.9043)+[0.15(cos\\frac{2\\pi(d+9)}{365}-0.5 cos\\frac{4\\pi(d+9)}{365})+0.00127 \\bar{R} -0.0635] e^{-\\frac{L-2}{1.5}}$$\n",
    "\n",
    "c. The plasmapause segment for $L_{ppi} \\leq L \\leq L_{ppo}$:\n",
    "\n",
    "\\begin{equation}\n",
    "  ne=\\begin{cases}\n",
    "    n_e(L_{ppi}) 10 ^{-\\frac{L-L_{ppi}}{0.1}}& 00\\leq t < 06 MLT \\\\\n",
    "    n_e(L_{ppi}) 10 ^{-\\frac{L-L_{ppi}}{0.1+0.011(t-6)}}& 06\\leq t \\leq 15 MLT\n",
    "  \\end{cases}\n",
    "\\end{equation}\n",
    "\n",
    "\n",
    "d. The extended plasma trough for $2.25 \\leq L \\leq 8$:\n",
    "\\begin{equation}\n",
    "  ne=\\begin{cases}\n",
    "   (5800+300t)L^{-4.5}+(1-e^{-\\frac{L-2}{10}})& 00\\leq t < 06 MLT \\\\\n",
    "    (-800+1400t)L^{-4.5}+(1-e^{-\\frac{L-2}{10}})& 06\\leq t \\leq 15 MLT\n",
    "  \\end{cases}\n",
    "\\end{equation}\n",
    "\n",
    "e. The plasmapuse outer limit $L_{ppo}$, determined by solving simultaneously for the plasmapause segment and the extended plasma trough.\n",
    "\n",
    "f. The plasma trough segment for $L_{ppo} \\leq L \\leq 8$:\n",
    "$$ne=ne(L_{ppo})(\\frac{L}{L_{ppo}})^{-4.5}+(1-e^{-\\frac{L-2}{10}})$$\n",
    "\n",
    "\n",
    "**Inputs**:\n",
    "\n",
    "Lsh: L shell\n",
    "\n",
    "Kpmax: the maximum Kp value in the preceding 24 hours\n",
    "\n",
    "day: the day number\n",
    "\n",
    "mlt: the magnetic local time\n",
    "\n",
    "Rb: the 13-month average sunspot number\n",
    "\n",
    "**Outputs**:\n",
    "\n",
    "ne_eq: equatorial electron density\n",
    "\n",
    "[Return to top](#top-bullet) "
   ]
  },
  {
   "cell_type": "code",
   "execution_count": 3,
   "id": "98d193dc",
   "metadata": {},
   "outputs": [
    {
     "data": {
      "image/png": "[encoded data removed]",
      "text/plain": [
       "<Figure size 360x432 with 1 Axes>"
      ]
     },
     "metadata": {
      "needs_background": "light"
     },
     "output_type": "display_data"
    }
   ],
   "source": [
    "\n",
    "\n",
    "Lshell=np.arange(2.2,8,0.1)\n",
    "Kpmax=1\n",
    "day=0\n",
    "mlt=2\n",
    "Rsun=90\n",
    "\n",
    "ne_final=[]\n",
    "\n",
    "for i in range(0,len(Lshell)):\n",
    "    ne_tmp=env.carpender_anderson(Lshell[i],Kpmax,day,mlt,Rsun)\n",
    "#     print(ne_tmp)\n",
    "    ne_final.append(ne_tmp)\n",
    "\n",
    "\n",
    "###Plot##############################################\n",
    "fig, ax = plt.subplots(figsize=(5,6))\n",
    "s=5\n",
    "ax.set_title('Equatorial Electron density')\n",
    "ax.set_xlabel(\"L\",fontsize=14)\n",
    "ax.set_ylabel(\"Density (cm-3)\",fontsize=14)\n",
    "\n",
    "ax.plot(Lshell,ne_final,color=\"tab:green\")\n",
    "\n",
    "ax.yaxis.get_ticklocs(minor=True)\n",
    "ax.minorticks_on()\n",
    "\n",
    "ax.set_yscale('log')\n",
    "ax.grid(alpha=.3)\n",
    "ax.set_ylim([10**(-1), 10**6])\n",
    "ax.set_xlim([2,7])\n",
    "ax.grid(True, which=\"both\",alpha=.8)\n",
    "plt.show()\n",
    "###########################################################"
   ]
  },
  {
   "cell_type": "markdown",
   "id": "5b269079",
   "metadata": {},
   "source": [
    "[Return to top](#top-bullet) "
   ]
  },
  {
   "cell_type": "markdown",
   "id": "aa4a07bf",
   "metadata": {},
   "source": [
    "### 3. environment.densities_denton <a class=\"anchor\" id=\"densities_denton-bullet\"></a>\n",
    "Routine to calculate the electron density along a magnetic field line after [Denton et al., 2002]\n",
    "\n",
    "$$n_e=n_{eq}\\cos^{-4}\\lambda$$\n",
    "\n",
    "\n",
    "\n",
    "**Inputs**:\n",
    "\n",
    "ne0_arg: electron number density\n",
    "\n",
    "lamda_arg: geomagnetic latitude in rad\n",
    "\n",
    "\n",
    "\n",
    "**Outputs**:\n",
    "\n",
    "n_e_tmp: electron number density\n",
    "\n",
    "\n",
    "*Denton, R. E., J. Goldstein, and J. D. Menietti (2002), Field line depen-\n",
    "dence of magnetospheric electron density, Geophys. Res. Lett., 29(24),\n",
    "2205, doi:10.1029/2002GL015963.\n",
    "\n",
    "[Return to top](#top-bullet) "
   ]
  },
  {
   "cell_type": "code",
   "execution_count": 4,
   "id": "4481dcfa",
   "metadata": {},
   "outputs": [
    {
     "data": {
      "image/png": "[encoded data removed]",
      "text/plain": [
       "<Figure size 360x432 with 1 Axes>"
      ]
     },
     "metadata": {
      "needs_background": "light"
     },
     "output_type": "display_data"
    }
   ],
   "source": [
    "\n",
    "lats_deg = np.arange(-60,60,0.1)\n",
    "lats_rad = np.deg2rad(lats_deg)\n",
    "L_shell=4\n",
    "Kpmax=1\n",
    "day=0\n",
    "mlt=2\n",
    "Rsun=90\n",
    "ne_eq_L4=env.carpender_anderson(L_shell,Kpmax,day,mlt,Rsun)\n",
    "ne_L4=[]\n",
    "\n",
    "for i in range(0,len(lats_rad)):\n",
    "    netmp=env.densities_denton(ne_eq_L4,lats_rad[i])\n",
    "    ne_L4.append(netmp)\n",
    "    \n",
    "###Plot##############################################\n",
    "fig, ax = plt.subplots(figsize=(5,6))\n",
    "s=5\n",
    "ax.set_title('Electron density along L=4')\n",
    "ax.set_xlabel(\"latitude (deg)\",fontsize=14)\n",
    "ax.set_ylabel(\"Density (cm-3)\",fontsize=14)\n",
    "\n",
    "ax.plot(lats_deg,ne_L4,color=\"tab:red\")\n",
    "\n",
    "ax.yaxis.get_ticklocs(minor=True)\n",
    "ax.minorticks_on()\n",
    "\n",
    "# ax.set_yscale('log')\n",
    "ax.grid(alpha=.3)\n",
    "# ax.set_ylim([10**(-1), 10**6])\n",
    "# ax.set_xlim([2,7])\n",
    "ax.grid(True, which=\"both\",alpha=.8)\n",
    "plt.show()\n",
    "###########################################################    "
   ]
  },
  {
   "cell_type": "markdown",
   "id": "86d6b134",
   "metadata": {},
   "source": [
    "[Return to top](#top-bullet) "
   ]
  },
  {
   "cell_type": "markdown",
   "id": "86bc1689",
   "metadata": {},
   "source": [
    "### 4. environment.densities_ozhogin  <a class=\"anchor\" id=\"densities_ozhogin-bullet\"></a>\n",
    "Routine to calculate the electron density along a magnetic field line after [Ozhogin et al., 2012]\n",
    "\n",
    "$$n_{eq}(L)=10^{4.4693-0.1903*L}$$\n",
    "\n",
    "$$n_e(L,\\lambda)=n_{eq}(L) \\cos^{-0.75} \\Big(\\frac{\\pi}{2}\\frac{\\lambda}{\\lambda_{inv}}\\Big)$$\n",
    "\n",
    "$$\\lambda_{inv}=arccos\\sqrt{\\frac{1}{L}}$$\n",
    "\n",
    "**Inputs**:\n",
    "\n",
    "L_arg: Lshell\n",
    "\n",
    "lamda_arg: geomagnetic latitude in rad\n",
    "\n",
    "\n",
    "\n",
    "**Outputs**:\n",
    "\n",
    "neqtmp: equatorial electron number density\n",
    "\n",
    "n_lamtmp: electron number density at latitude\n",
    "\n",
    "\n",
    "*Ozhogin, P., et al. \"Field‐aligned distribution of the plasmaspheric electron density: An empirical model derived from the IMAGE RPI measurements.\" Journal of Geophysical Research: Space Physics 117.A6 (2012).\n",
    "\n",
    "[Return to top](#top-bullet) "
   ]
  },
  {
   "cell_type": "code",
   "execution_count": 5,
   "id": "72b949f9",
   "metadata": {},
   "outputs": [
    {
     "data": {
      "image/png": "[encoded data removed]",
      "text/plain": [
       "<Figure size 360x432 with 1 Axes>"
      ]
     },
     "metadata": {
      "needs_background": "light"
     },
     "output_type": "display_data"
    }
   ],
   "source": [
    "\n",
    "lats_deg = np.arange(-60,60,0.1)\n",
    "lats_rad = np.deg2rad(lats_deg)\n",
    "L_shell=4\n",
    "\n",
    "ne_L4_ozh=[]\n",
    "ne_eq_L4_ozh=[]\n",
    "for i in range(0,len(lats_rad)):\n",
    "    netmp=env.densities_ozhogin(L_shell,lats_rad[i])\n",
    "    ne_L4_ozh.append(netmp[1])\n",
    "    ne_eq_L4_ozh.append(netmp[0])\n",
    "###Plot##############################################\n",
    "fig, ax = plt.subplots(figsize=(5,6))\n",
    "s=5\n",
    "ax.set_title('Electron density along L=4')\n",
    "ax.set_xlabel(\"latitude (deg)\",fontsize=14)\n",
    "ax.set_ylabel(\"Density (cm-3)\",fontsize=14)\n",
    "\n",
    "ax.plot(lats_deg,ne_L4_ozh,color=\"tab:red\")\n",
    "\n",
    "ax.yaxis.get_ticklocs(minor=True)\n",
    "ax.minorticks_on()\n",
    "\n",
    "# ax.set_yscale('log')\n",
    "ax.grid(alpha=.3)\n",
    "# ax.set_ylim([10**(-1), 10**6])\n",
    "# ax.set_xlim([2,7])\n",
    "ax.grid(True, which=\"both\",alpha=.8)\n",
    "plt.show()\n",
    "###########################################################    \n",
    "\n"
   ]
  },
  {
   "cell_type": "markdown",
   "id": "3f13d0a2",
   "metadata": {},
   "source": [
    "[Return to top](#top-bullet) "
   ]
  },
  {
   "cell_type": "markdown",
   "id": "1f4e0505",
   "metadata": {},
   "source": [
    "### 5. environment_mod.omega_cyclotron <a class=\"anchor\" id=\"cyclotron-bullet\"></a>\n",
    "\n",
    "\n",
    "Routine to calculate the gyrofrequency of a particle\n",
    "$$\\Omega_{s}=\\frac{q_s B}{m_s}$$\n",
    "\n",
    "**Inputs**:\n",
    "\n",
    "B_arg: Geomagnetic field strength in T\n",
    "\n",
    "q_arg: particle charge in Cb\n",
    "\n",
    "m_arg: particle mass in kg\n",
    "\n",
    "**Outputs**:\n",
    "\n",
    "omega_tmp: particle gyrofrequency in rad/s\n",
    "\n",
    "fc_tmp: particle gyrofrequency in Hz\n",
    "[Return to top](#top-bullet) "
   ]
  },
  {
   "cell_type": "markdown",
   "id": "16aa5d40",
   "metadata": {},
   "source": [
    "### 6. environment_mod.omega_plasma <a class=\"anchor\" id=\"omega_plasma-bullet\"></a>\n",
    "\n",
    "\n",
    "Routine to calculate the plasma frequency\n",
    "$$\\omega_{ps}=\\frac{N_{s}q_{s}^2}{\\epsilon_{0}m_{s}}$$\n",
    "\n",
    "**Inputs**:\n",
    "\n",
    "n_arg: particle number density in $m^{-3}$\n",
    "\n",
    "q_arg: particle charge in Cb\n",
    "\n",
    "m_arg: particle mass in kg\n",
    "\n",
    "**Outputs**:\n",
    "\n",
    "omegap_tmp: plasma frequency in rad/s\n",
    "\n",
    "fp_tmp: plasma frequency in Hz\n",
    "\n",
    "[Return to top](#top-bullet) "
   ]
  },
  {
   "cell_type": "markdown",
   "id": "ec7db83e",
   "metadata": {},
   "source": [
    "### 7. environment_mod.omega_upper_hybrid <a class=\"anchor\" id=\"omega_upper_hybrid-bullet\"></a>\n",
    "\n",
    "Routine to calculate the upper hybrid resonance frequency\n",
    "\n",
    "$$\\omega_{uh}=\\frac{\\omega_{ce}^2+\\omega_{pe}^2+\\omega_{ci}^2+\\omega_{pi}^2}{2}+\\frac{1}{2}\\Bigg[ (\\omega_{ce}^2+\\omega_{pe}^2-\\omega_{ci}^2-\\omega_{pi}^2)^2 +4\\omega_{pe}^2\\omega_{pi}^2 \\Bigg]$$\n",
    "\n",
    "**Inputs**:\n",
    "wce_arg: electron gyrofrequency \n",
    "\n",
    "wpe_arg: electron plasma frequency \n",
    "\n",
    "wci_arg: ion gyrofrequency \n",
    "\n",
    "wpi_arg: ion plasma frequency \n",
    "\n",
    "**Outputs**:\n",
    "\n",
    "wuh_tmp: upper hybrid resonance frequency\n",
    "\n",
    "[Return to top](#top-bullet) "
   ]
  },
  {
   "cell_type": "markdown",
   "id": "c2f666c7",
   "metadata": {},
   "source": [
    "### 8. environment_mod.omega_lower_hybrid <a class=\"anchor\" id=\"omega_lower_hybrid-bullet\"></a>\n",
    "\n",
    "Routine to calculate the lower hybrid resonance frequency\n",
    "\n",
    "$$\\omega_{uh}=\\frac{\\omega_{ce}^2+\\omega_{pe}^2+\\omega_{ci}^2+\\omega_{pi}^2}{2}-\\frac{1}{2}\\Bigg[ (\\omega_{ce}^2+\\omega_{pe}^2-\\omega_{ci}^2-\\omega_{pi}^2)^2 +4\\omega_{pe}^2\\omega_{pi}^2 \\Bigg]$$\n",
    "\n",
    "or for full ion distribution [**environment_mod.f_lower_hybrid**]\n",
    "\n",
    "\n",
    "$$f_{lh}^2=\\frac{1}{M_{eff}}\\frac{f_{ce}^2f_{pe}^2}{f_{ce}^2+f_{pe}^2}$$\n",
    "\n",
    "$$\\frac{1}{M_{eff}}=\\frac{m_e}{n_e} \\sum_{ions} \\frac{n_i}{m_i}$$\n",
    "\n",
    "or simplified [**environment_mod.omega_lower_hybrid_v2**]\n",
    "\n",
    "$$\\frac{1}{\\omega_{lh}^2}=\\frac{1}{\\omega_{ce}\\omega_{ci}}+\\frac{1}{\\omega_{pi}^2}$$\n",
    "\n",
    "**Inputs**:\n",
    "wce_arg: electron gyrofrequency \n",
    "\n",
    "wpe_arg: electron plasma frequency \n",
    "\n",
    "wci_arg: ion gyrofrequency \n",
    "\n",
    "wpi_arg: ion plasma frequency \n",
    "\n",
    "**Outputs**:\n",
    "\n",
    "wuh_tmp: lower hybrid resonance frequency\n",
    "\n",
    "[Return to top](#top-bullet) "
   ]
  },
  {
   "cell_type": "code",
   "execution_count": 6,
   "id": "d686695b",
   "metadata": {},
   "outputs": [
    {
     "data": {
      "image/png": "[encoded data removed]",
      "text/plain": [
       "<Figure size 576x432 with 1 Axes>"
      ]
     },
     "metadata": {
      "needs_background": "light"
     },
     "output_type": "display_data"
    }
   ],
   "source": [
    "\n",
    "lats_deg = np.arange(-60,60,0.1)\n",
    "lats_rad = np.deg2rad(lats_deg)\n",
    "L_shell=4\n",
    "\n",
    "Bmag=env.Bmag_dipole(L_shell,lats_rad)\n",
    "\n",
    "\n",
    "\n",
    "wce=env.omega_cyclotron(Bmag,env.const.qe,env.const.me)\n",
    "\n",
    "wcH=env.omega_cyclotron(Bmag,env.const.qi,env.const.mH)\n",
    "ne0=ne_eq_L4\n",
    "ne=env.densities_denton(ne0,lats_rad)\n",
    "wpe=env.omega_plasma(ne,env.const.qe,env.const.me)\n",
    "wpH=env.omega_plasma(ne,env.const.qi,env.const.mH)\n",
    "\n",
    "wlhr=env.omega_lh(wce,wpe,wcH,wpH)\n",
    "wuhr=env.omega_uh(wce,wpe)\n",
    "\n",
    "\n",
    "\n",
    "\n",
    "###plot###############################\n",
    "fig, ax = plt.subplots(figsize=(8,6))\n",
    "s=2\n",
    "fonts=15\n",
    "ax.plot(lats_deg,wce,label='wce',linewidth=s)\n",
    "ax.plot(lats_deg,wcH,label='wcH',linewidth=s)\n",
    "ax.plot(lats_deg,wpe,label='wpe',linewidth=s)\n",
    "ax.plot(lats_deg,wpH,label='wpH',linewidth=s)\n",
    "ax.plot(lats_deg,wuhr,label='wuhr',linewidth=s)\n",
    "ax.plot(lats_deg,wlhr,label='wlhr',linewidth=s)\n",
    "\n",
    "ax.set_yscale('log')\n",
    "ax.grid(alpha=.3)\n",
    "ax.set_xlim(-90,90)\n",
    "ax.set_xlabel('Latitude (deg)',fontsize=fonts)\n",
    "ax.set_ylabel(r'Frequency (rad/s)',fontsize=fonts)\n",
    "ax.legend()\n",
    "# ax.set_ylim(0,5)\n",
    "\n",
    "plt.show()\n",
    "\n"
   ]
  },
  {
   "cell_type": "markdown",
   "id": "dc00efca",
   "metadata": {},
   "source": [
    "[Return to top](#top-bullet) "
   ]
  },
  {
   "cell_type": "markdown",
   "id": "238c2e71",
   "metadata": {},
   "source": [
    "### 9. environment_mod.aeq2alpha <a class=\"anchor\" id=\"aeq2alpha-bullet\"></a>\n",
    "\n",
    "\n",
    "Routine to translate equatorial pitch angle to local pitch angle\n",
    "\n",
    "A charged particle moving in the Earth’s magnetic field (in the absence of the wave\n",
    "field) experiences three different types of periodic motion [Walt, 1994, p.36] occurring\n",
    "on three different timescales: rapid gyration about the static magnetic field line\n",
    "(∼ $10^{−4}$ sec), bounce motion along the magnetic field line between northern and\n",
    "southern hemispheres (∼ $1$ sec), and a longitudinal drift about the Earth (∼ $10^3$ sec). \n",
    "Associated with each of these periodic movements are adiabatic invariants, which\n",
    "play the role of ‘constants of motion’ and are obtained using the Hamilton-Jacobi theory [Goldstein et al., 2002, p.430] by integrating the canonical momentum around\n",
    "the orbit path as follows:\n",
    "$$ J_n =  \\oint [m_s \\vec{u}+q_s \\vec{A}] \\cdot d \\vec{l}$$\n",
    "where $d\\vec{l}$ is an element of the particle path around the orbit, and $m_s$ , $q_s$ , and $\\vec{v}$ are\n",
    "the mass, charge and velocity of a particle of species s respectively. We focus on the\n",
    "first adiabatic invariant since it occurs on the time\n",
    "scales of the wave-particle interaction. Thus the quantity conserved along the\n",
    "electron’s helical trajectory is:\n",
    "$$J_1=M=\\frac{p_{\\perp}^2}{2m_{s0}B} \\propto \\frac{\\sin^2 \\alpha}{B} $$\n",
    "which is referred to as the first adiabatic invariant or magnetic moment , where $p_{\\perp}$ is the perpendicular component of the electron momentum, $m_{s0}$ is\n",
    "the particle rest mass, $B_0$ is the magnetic field intensity, and $\\alpha$ is the electron pitch\n",
    "defined as $\\alpha=\\tan^{-1}(u_{\\perp}/u_z)$. The velocity components parallel ($u_z$) and perpendicular ($u_{\\perp}$) to the magnetic field can be specified using as:\n",
    "$$u_z(\\lambda)=u\\cos \\alpha (\\lambda)$$\n",
    "$$u_{\\perp}(\\lambda)=u\\sin \\alpha (\\lambda)$$\n",
    "\n",
    "$$ \\sin^2 \\alpha (\\lambda) = \\frac{B(\\lambda)}{B_{eq}} \\sin^2 \\alpha_{eq} $$\n",
    "\n",
    "**Inputs**:\n",
    "\n",
    "L_arg: L shell\n",
    "\n",
    "lambda_arg: magnetic latitude in rad\n",
    "\n",
    "aeq_arg: equatorial pitch angle in rad\n",
    "**Outputs**:\n",
    "\n",
    "alpha0: local pitch angle in rad\n",
    "\n",
    "[Return to top](#top-bullet) "
   ]
  },
  {
   "cell_type": "code",
   "execution_count": 7,
   "id": "062dbfc9",
   "metadata": {},
   "outputs": [
    {
     "name": "stdout",
     "output_type": "stream",
     "text": [
      "latitude: 10 deg\n",
      "L_shell: 4\n",
      "equatorial pitch angle: 30 deg\n",
      "local pitch angle: 32.34093633311206 deg\n"
     ]
    }
   ],
   "source": [
    "\n",
    "lat_deg = 10\n",
    "lat_rad = np.deg2rad(lat_deg)\n",
    "L_shell=4\n",
    "aeq_deg=30\n",
    "aeq_rad=np.deg2rad(aeq_deg)\n",
    "\n",
    "alpha_local=env.aeq2alpha(L_shell,lat_rad,aeq_rad)\n",
    "print('latitude:',lat_deg, 'deg')\n",
    "print('L_shell:',L_shell)\n",
    "print('equatorial pitch angle:',aeq_deg, 'deg')\n",
    "print('local pitch angle:',np.rad2deg(alpha_local), 'deg')"
   ]
  },
  {
   "cell_type": "markdown",
   "id": "01e71251",
   "metadata": {},
   "source": [
    "[Return to top](#top-bullet) "
   ]
  },
  {
   "cell_type": "markdown",
   "id": "59a34c1c",
   "metadata": {},
   "source": [
    "### 10. environment_mod.alpha2aeq <a class=\"anchor\" id=\"alpha2aeq-bullet\"></a>\n",
    "\n",
    "\n",
    "Routine to translate local pitch angle to equatorial pitch angle\n",
    "\n",
    "A charged particle moving in the Earth’s magnetic field (in the absence of the wave\n",
    "field) experiences three different types of periodic motion [Walt, 1994, p.36] occurring\n",
    "on three different timescales: rapid gyration about the static magnetic field line\n",
    "(∼ $10^{−4}$ sec), bounce motion along the magnetic field line between northern and\n",
    "southern hemispheres (∼ $1$ sec), and a longitudinal drift about the Earth (∼ $10^3$ sec). \n",
    "Associated with each of these periodic movements are adiabatic invariants, which\n",
    "play the role of ‘constants of motion’ and are obtained using the Hamilton-Jacobi theory [Goldstein et al., 2002, p.430] by integrating the canonical momentum around\n",
    "the orbit path as follows:\n",
    "$$ J_n =  \\oint [m_s \\vec{u}+q_s \\vec{A}] \\cdot d \\vec{l}$$\n",
    "where $d\\vec{l}$ is an element of the particle path around the orbit, and $m_s$ , $q_s$ , and $\\vec{v}$ are\n",
    "the mass, charge and velocity of a particle of species s respectively. We focus on the\n",
    "first adiabatic invariant since it occurs on the time\n",
    "scales of the wave-particle interaction. Thus the quantity conserved along the\n",
    "electron’s helical trajectory is:\n",
    "$$J_1=M=\\frac{p_{\\perp}^2}{2m_{s0}B} \\propto \\frac{\\sin^2 \\alpha}{B} $$\n",
    "which is referred to as the first adiabatic invariant or magnetic moment , where $p_{\\perp}$ is the perpendicular component of the electron momentum, $m_{s0}$ is\n",
    "the particle rest mass, $B_0$ is the magnetic field intensity, and $\\alpha$ is the electron pitch\n",
    "defined as $\\alpha=\\tan^{-1}(u_{\\perp}/u_z)$. The velocity components parallel ($u_z$) and perpendicular ($u_{\\perp}$) to the magnetic field can be specified using as:\n",
    "$$u_z(\\lambda)=u\\cos \\alpha (\\lambda)$$\n",
    "$$u_{\\perp}(\\lambda)=u\\sin \\alpha (\\lambda)$$\n",
    "\n",
    "$$ \\sin^2 \\alpha (\\lambda) = \\frac{B(\\lambda)}{B_{eq}} \\sin^2 \\alpha_{eq} $$\n",
    "\n",
    "**Inputs**:\n",
    "\n",
    "L_arg: L shell\n",
    "\n",
    "lambda_arg: magnetic latitude in rad\n",
    "\n",
    "alpha_arg: equatorial pitch angle in rad\n",
    "**Outputs**:\n",
    "\n",
    "alphaeq0: local pitch angle in rad\n",
    "\n",
    "[Return to top](#top-bullet) "
   ]
  },
  {
   "cell_type": "code",
   "execution_count": 8,
   "id": "9368afad",
   "metadata": {},
   "outputs": [
    {
     "name": "stdout",
     "output_type": "stream",
     "text": [
      "latitude: 10 deg\n",
      "L_shell: 4\n",
      "local pitch angle: 30 deg\n",
      "equatorial pitch angle: 27.860993160631715 deg\n"
     ]
    }
   ],
   "source": [
    "\n",
    "\n",
    "lat_deg = 10\n",
    "lat_rad = np.deg2rad(lat_deg)\n",
    "L_shell=4\n",
    "alpha_deg=30\n",
    "alpha_rad=np.deg2rad(alpha_deg)\n",
    "\n",
    "aeq_local=env.alpha2aeq(L_shell,lat_rad,alpha_rad)\n",
    "print('latitude:',lat_deg, 'deg')\n",
    "print('L_shell:',L_shell)\n",
    "print('local pitch angle:',alpha_deg, 'deg')\n",
    "print('equatorial pitch angle:',np.rad2deg(aeq_local), 'deg')\n"
   ]
  },
  {
   "cell_type": "markdown",
   "id": "9f96a987",
   "metadata": {},
   "source": [
    "[Return to top](#top-bullet) "
   ]
  },
  {
   "cell_type": "markdown",
   "id": "aa4328dc",
   "metadata": {},
   "source": [
    "### Pitch angle mapping <a class=\"anchor\" id=\"Pitch_angle_mapping-bullet\"></a>"
   ]
  },
  {
   "cell_type": "code",
   "execution_count": 9,
   "id": "d51c948c",
   "metadata": {},
   "outputs": [
    {
     "name": "stdout",
     "output_type": "stream",
     "text": [
      "16.330085932197345\n",
      "8.408538076942063\n",
      "5.341843503512351\n",
      "3.7766995492044364\n",
      "2.8513992365999554\n",
      "2.2510068089138744\n",
      "1.8354177581404638\n"
     ]
    },
    {
     "data": {
      "image/png": "[encoded data removed]",
      "text/plain": [
       "<Figure size 432x288 with 1 Axes>"
      ]
     },
     "metadata": {
      "needs_background": "light"
     },
     "output_type": "display_data"
    }
   ],
   "source": [
    "import numpy as np\n",
    "import matplotlib.pyplot as plt\n",
    "import matplotlib.mlab as mlab\n",
    "from mpl_toolkits.axes_grid1 import make_axes_locatable\n",
    "from matplotlib.patches import Polygon\n",
    "import matplotlib.colors as colors\n",
    "from matplotlib import ticker, cm\n",
    "\n",
    "\n",
    "H=500 #satellite altitude in km\n",
    "Re=6370 #Earth radius in Re\n",
    "B0=3.12*10**(-5)\n",
    "Rsat=H+Re\n",
    "r=Rsat\n",
    "# Beq=B0*((Re/r)**3)\n",
    "\n",
    "L=[2,3,4,5,6,7,8]\n",
    "lam_rad=[]\n",
    "lam_deg=[]\n",
    "B_ratio=[]\n",
    "a_eq_L2=[]\n",
    "a_eq_L3=[]\n",
    "a_eq_L4=[]\n",
    "a_eq_L5=[]\n",
    "a_eq_L6=[]\n",
    "a_eq_L7=[]\n",
    "a_eq_L8=[]\n",
    "alc=[]\n",
    "Beq=[]\n",
    "\n",
    "for i in range(0,len(L)):\n",
    "    cos_lam=np.sqrt(r/(Re*L[i]))\n",
    "    lam_tmp=np.arccos(cos_lam)\n",
    "    lam_deg_tmp=np.rad2deg(lam_tmp)\n",
    "    lam_rad.append(lam_tmp)\n",
    "    lam_deg.append(lam_deg_tmp)\n",
    "\n",
    "    Beq_tmp=B0*((1/L[i])**3)\n",
    "    Beq.append(Beq_tmp)\n",
    "\n",
    "for i in range(0,len(L)):\n",
    "    fac1=4*(L[i]**6)-3*(L[i]**5)\n",
    "    fac1=np.sqrt(fac1)\n",
    "    fac1=1/fac1\n",
    "    sinalc=np.sqrt(fac1)\n",
    "    alc_tmp=np.arcsin(sinalc)\n",
    "    alc_deg=np.rad2deg(alc_tmp)\n",
    "    alc.append(alc_deg)\n",
    "    print(alc_deg)\n",
    "\n",
    "\n",
    "# print(lam_rad)\n",
    "\n",
    "for k in range(0,len(lam_rad)):\n",
    "    sin_lam=np.sin(lam_rad[k])\n",
    "    sin_sq=sin_lam**2\n",
    "    clat=np.sin(lam_rad[k])\n",
    "    sqrt=np.sqrt(1+3*sin_sq)\n",
    "    B_lam=B0*((Re/r)**3)*sqrt\n",
    "    \n",
    "    B_ratio_tmp=Beq[k]/B_lam\n",
    "    B_ratio.append(B_ratio_tmp)\n",
    "\n",
    "a_local=np.arange(0,91,1)\n",
    "a_local_rad=np.deg2rad(a_local)\n",
    "\n",
    "#L=2\n",
    "for l in range(0,len(a_local_rad)):\n",
    "    sin_sq_aeq=B_ratio[0]*np.sin(a_local_rad[l])*np.sin(a_local_rad[l])\n",
    "    sin_aeq=np.sqrt(sin_sq_aeq)\n",
    "    aeq=np.arcsin(sin_aeq)\n",
    "    aeq_deg=np.rad2deg(aeq)\n",
    "    a_eq_L2.append(aeq_deg)\n",
    "    # print(np.rad2deg(a_local_rad[l]),aeq_deg)\n",
    "\n",
    "#L=3\n",
    "for l in range(0,len(a_local_rad)):\n",
    "    sin_sq_aeq=B_ratio[1]*np.sin(a_local_rad[l])*np.sin(a_local_rad[l])\n",
    "    sin_aeq=np.sqrt(sin_sq_aeq)\n",
    "    aeq=np.arcsin(sin_aeq)\n",
    "    aeq_deg=np.rad2deg(aeq)\n",
    "    a_eq_L3.append(aeq_deg)\n",
    "    # print(np.rad2deg(a_local_rad[l]),aeq_deg)\n",
    "\n",
    "#L=4\n",
    "for l in range(0,len(a_local_rad)):\n",
    "    sin_sq_aeq=B_ratio[2]*np.sin(a_local_rad[l])*np.sin(a_local_rad[l])\n",
    "    sin_aeq=np.sqrt(sin_sq_aeq)\n",
    "    aeq=np.arcsin(sin_aeq)\n",
    "    aeq_deg=np.rad2deg(aeq)\n",
    "    a_eq_L4.append(aeq_deg)\n",
    "\n",
    "#L=5\n",
    "for l in range(0,len(a_local_rad)):\n",
    "    sin_sq_aeq=B_ratio[3]*np.sin(a_local_rad[l])*np.sin(a_local_rad[l])\n",
    "    sin_aeq=np.sqrt(sin_sq_aeq)\n",
    "    aeq=np.arcsin(sin_aeq)\n",
    "    aeq_deg=np.rad2deg(aeq)\n",
    "    a_eq_L5.append(aeq_deg)\n",
    "\n",
    "#L=6\n",
    "for l in range(0,len(a_local_rad)):\n",
    "    sin_sq_aeq=B_ratio[4]*np.sin(a_local_rad[l])*np.sin(a_local_rad[l])\n",
    "    sin_aeq=np.sqrt(sin_sq_aeq)\n",
    "    aeq=np.arcsin(sin_aeq)\n",
    "    aeq_deg=np.rad2deg(aeq)\n",
    "    a_eq_L6.append(aeq_deg)\n",
    "\n",
    "#L=7\n",
    "for l in range(0,len(a_local_rad)):\n",
    "    sin_sq_aeq=B_ratio[5]*np.sin(a_local_rad[l])*np.sin(a_local_rad[l])\n",
    "    sin_aeq=np.sqrt(sin_sq_aeq)\n",
    "    aeq=np.arcsin(sin_aeq)\n",
    "    aeq_deg=np.rad2deg(aeq)\n",
    "    a_eq_L7.append(aeq_deg)\n",
    "\n",
    "#L=7=8\n",
    "for l in range(0,len(a_local_rad)):\n",
    "    sin_sq_aeq=B_ratio[6]*np.sin(a_local_rad[l])*np.sin(a_local_rad[l])\n",
    "    sin_aeq=np.sqrt(sin_sq_aeq)\n",
    "    aeq=np.arcsin(sin_aeq)\n",
    "    aeq_deg=np.rad2deg(aeq)\n",
    "    a_eq_L8.append(aeq_deg)\n",
    "    \n",
    "fig, ax = plt.subplots()\n",
    "s=5\n",
    "\n",
    "\n",
    "ax.set_xlabel(\"a_local (deg)\",fontsize=14)\n",
    "ax.set_ylabel(\"a_eq (deg)\",fontsize=14)\n",
    "\n",
    "ax.plot(a_local,a_eq_L2,color=\"purple\", label='L=2')\n",
    "ax.plot(a_local,a_eq_L3,color=\"lightcoral\", label='L=3')\n",
    "ax.plot(a_local,a_eq_L4,color=\"red\", label='L=4')\n",
    "ax.plot(a_local,a_eq_L5,color=\"maroon\", label='L=5')\n",
    "ax.plot(a_local,a_eq_L6,color=\"chocolate\", label='L=6')\n",
    "ax.plot(a_local,a_eq_L7,color=\"green\", label='L=7')\n",
    "ax.plot(a_local,a_eq_L8,color=\"gold\", label='L=8')\n",
    "\n",
    "ax.axhline(y=alc[0], color='purple', linestyle='--')\n",
    "ax.axhline(y=alc[1], color='lightcoral', linestyle='--')\n",
    "ax.axhline(y=alc[2], color='red', linestyle='--')\n",
    "ax.axhline(y=alc[3], color='maroon', linestyle='--')\n",
    "ax.axhline(y=alc[4], color='chocolate', linestyle='--')\n",
    "ax.axhline(y=alc[5], color='green', linestyle='--')\n",
    "ax.axhline(y=alc[6], color='gold', linestyle='--')\n",
    "\n",
    "ax.yaxis.get_ticklocs(minor=True)\n",
    "ax.minorticks_on()\n",
    "\n",
    "ax.grid(alpha=.3)\n",
    "ax.set_xlim(0,90)\n",
    "ax.set_ylim(0,None)\n",
    "ax.legend()\n",
    "# ax.set_xlabel('time (sec)')\n",
    "# ax.set_ylabel('$\\mu$ ')\n",
    "# ax2.set_ylabel(\"Latitude [deg]\",color=tableau20[2],fontsize=14)\n",
    "plt.show()"
   ]
  },
  {
   "cell_type": "markdown",
   "id": "060538b8",
   "metadata": {},
   "source": [
    "[Return to top](#top-bullet) "
   ]
  },
  {
   "cell_type": "markdown",
   "id": "cd2057e5",
   "metadata": {},
   "source": [
    "### 11. environment_mod.dwc_ds <a class=\"anchor\" id=\"dwc_ds-bullet\"></a>\n",
    "\n",
    "\n",
    "Routine to calculate the first derivative of gyrofrequency with respect to the distance along the magnetic field line\n",
    "/\n",
    "$$ds=L R_e (1+ 3 \\sin^2 \\lambda)^{1/2} \\cos \\lambda d \\lambda \\tag{1} $$ [Tao et al, 2012].\n",
    "\n",
    "$$ \\omega_H = \\frac {q_e B}{m_e} = \\frac {q_e B_0}{m_e} \\frac{1}{L^3} \\frac{\\sqrt{1+3\\sin^2 \\lambda}}{\\cos^6 \\lambda}= \\xi \\frac{\\sqrt{1+3\\sin^2 \\lambda}}{\\cos^6 \\lambda} \\tag{2} $$\n",
    "\n",
    "\n",
    "$$\\frac{\\partial \\omega_H}{\\partial s}= \\frac{\\partial \\omega_H}{\\partial \\lambda} \\frac{\\partial \\lambda}{\\partial s}  \\tag{3} $$\n",
    "$$ \\frac{\\partial \\omega_H}{\\partial \\lambda}= \\xi \\frac{\\partial}{\\partial \\lambda} \\frac{\\sqrt{1+3\\sin^2 \\lambda}}{\\cos^6 \\lambda} = \\xi \\frac{\\cos^6 \\lambda \\frac{\\partial}{\\partial \\lambda} \\sqrt{1+3\\sin^2 \\lambda}-\\sqrt{1+3\\sin^2 \\lambda}\\frac{\\partial}{\\partial \\lambda}\\cos^6 \\lambda  }{\\cos^{12} \\lambda}=$$\n",
    "$$=\\xi \\Big[ \\frac{\\frac{1}{2\\sqrt{1+3\\sin^2 \\lambda}}\\frac{\\partial}{\\partial \\lambda}(1+3\\sin^2\\lambda)}{\\cos^6 \\lambda} - \\frac{\\sqrt{1+3\\sin^2 \\lambda }6 \\cos^5 \\lambda \\frac{\\partial}{\\partial \\lambda} \\cos \\lambda}{\\cos^{12} \\lambda} \\Big] =$$\n",
    "$$=\\xi \\Big[ \\frac{6 \\sin \\lambda \\cos \\lambda}{2 \\cos^6 \\lambda \\sqrt{1+3\\sin^2 \\lambda} } - \\frac{\\sqrt{1+3\\sin^2 \\lambda} 6 \\cos^5 \\lambda (-\\sin \\lambda)}{\\cos^{12} \\lambda} \\Big] =$$\n",
    "$$=\\xi \\Big[ \\frac{3 \\sin \\lambda \\cos \\lambda}{\\cos^6 \\lambda \\sqrt{1+3\\sin^2 \\lambda}} + \\frac{6 \\sin \\lambda \\sqrt{1+3\\sin^2 \\lambda}}{\\cos^6 \\lambda \\cos\\lambda} \\Big] = $$\n",
    "$$=3 \\xi \\frac{\\sqrt{1+3\\sin^2 \\lambda}}{\\cos^6 \\lambda} \\Big[ \\frac{\\sin \\lambda \\cos \\lambda}{\\sqrt{1+3\\sin^2 \\lambda}^2}+ \\frac{2\\sin\\lambda}{\\cos\\lambda} \\Big] = $$\n",
    "$$=3 \\omega_H \\sin \\lambda \\cos\\lambda \\Big[ \\frac{1}{\\sqrt{1+3\\sin^2 \\lambda}^2} + \\frac{2}{\\cos^2 \\lambda} \\Big] $$\n",
    "Thus:\n",
    "$$\\frac{\\partial \\omega_H}{\\partial s}= \\frac{1}{R_e L \\cos \\lambda \\sqrt{1+3\\sin^2 \\lambda}} 3 \\omega_H \\sin \\lambda \\cos \\lambda \\Bigg[ \\frac{1}{\\sqrt{1+3\\sin^2 \\lambda}^2} + \\frac{2}{\\cos^2 \\lambda} \\Bigg] =$$\n",
    "$$\\frac{\\partial \\omega_H}{\\partial s}=\\frac{3 \\omega_H}{R_e L} \\frac{\\sin \\lambda}{\\sqrt{1+3\\sin^2 \\lambda}} \\Bigg[ \\frac{1}{\\sqrt{1+3\\sin^2 \\lambda}^2} + \\frac{2}{\\cos^2 \\lambda} \\Bigg] $$\n",
    "\n",
    "**Inputs**:\n",
    "\n",
    "wc_arg: gyrofrequency in rad/s\n",
    "\n",
    "lamda_arg: magnetic latitude in rad\n",
    "\n",
    "L_arg: L shell\n",
    "\n",
    "**Outputs**:\n",
    "\n",
    "dwce_ds_arg: first derivative of gyrofrequency\n",
    "\n",
    "[Return to top](#top-bullet) "
   ]
  },
  {
   "cell_type": "code",
   "execution_count": 10,
   "id": "8260b1c7",
   "metadata": {},
   "outputs": [
    {
     "data": {
      "image/png": "[encoded data removed]",
      "text/plain": [
       "<Figure size 576x432 with 1 Axes>"
      ]
     },
     "metadata": {
      "needs_background": "light"
     },
     "output_type": "display_data"
    }
   ],
   "source": [
    "\n",
    "lats_deg = np.arange(-60,60,0.1)\n",
    "lats_rad = np.deg2rad(lats_deg)\n",
    "L_shell=4\n",
    "\n",
    "Bmag=env.Bmag_dipole(L_shell,lats_rad)\n",
    "wce=env.omega_cyclotron(Bmag,env.const.qe,env.const.me)[0]\n",
    "\n",
    "dwceds=env.dwc_ds(wce,lats_rad,L_shell)\n",
    "\n",
    "###plot###############################\n",
    "fig, ax = plt.subplots(figsize=(8,6))\n",
    "s=2\n",
    "fonts=15\n",
    "\n",
    "ax.plot(lats_deg,dwceds,label='dwceds',linewidth=s)\n",
    "# ax.set_yscale('log')\n",
    "ax.grid(alpha=.3)\n",
    "ax.set_xlim(-90,90)\n",
    "ax.set_xlabel('Latitude (deg)',fontsize=fonts)\n",
    "ax.set_ylabel(r'dw/ds',fontsize=fonts)\n",
    "ax.legend()\n",
    "# ax.set_ylim(0,5)\n",
    "\n",
    "plt.show()"
   ]
  },
  {
   "cell_type": "markdown",
   "id": "8c2ed3f9",
   "metadata": {},
   "source": [
    "[Return to top](#top-bullet) "
   ]
  },
  {
   "cell_type": "markdown",
   "id": "17ecf5ea",
   "metadata": {},
   "source": [
    "### 12. environment_mod.magLshell <a class=\"anchor\" id=\"magLshell-bullet\"></a>\n",
    "\n",
    "\n",
    "Routine to calculate the current L shell at position\n",
    "$$L=\\frac{r}{R_e \\cos^2\\lambda}$$\n",
    "\n",
    "**Inputs**:\n",
    "\n",
    "r_arg: geocentric distance in m\n",
    "\n",
    "lat_arg: magnetic latitude in rad\n",
    "\n",
    "\n",
    "**Outputs**:\n",
    "\n",
    "L_tmp: Lshell\n",
    "\n",
    "[Return to top](#top-bullet) "
   ]
  },
  {
   "cell_type": "code",
   "execution_count": 11,
   "id": "e8fc4b5e",
   "metadata": {},
   "outputs": [
    {
     "name": "stdout",
     "output_type": "stream",
     "text": [
      "geocentric distance 10000.0 km\n",
      "magnetic latitude 10.0 deg\n",
      "current L shell 1.6166024720475014\n"
     ]
    }
   ],
   "source": [
    "\n",
    "rgeo=10000e3\n",
    "lat_mag=np.deg2rad(10)\n",
    "Lsh= env.magLshell(rgeo,lat_mag)\n",
    "\n",
    "print('geocentric distance', rgeo/1000, 'km')\n",
    "print('magnetic latitude', np.rad2deg(lat_mag), 'deg')\n",
    "print('current L shell', Lsh)"
   ]
  },
  {
   "cell_type": "markdown",
   "id": "bfd8deb8",
   "metadata": {},
   "source": [
    "[Return to top](#top-bullet) "
   ]
  },
  {
   "cell_type": "markdown",
   "id": "dad19ec2",
   "metadata": {},
   "source": [
    "### 13. environment_mod.momentums <a class=\"anchor\" id=\"momentums-bullet\"></a>\n",
    "\n",
    "\n",
    "Routine to calculate velocities and momentums from energy and pitch angle\n",
    "\n",
    "$$\\gamma=\\frac{E}{m_e c^2}+1$$\n",
    "$$\\beta=\\sqrt{1-\\frac{1}{\\gamma^2}}$$\n",
    "$$u=\\beta c$$\n",
    "\n",
    "**Inputs**:\n",
    "\n",
    "Ekev: energy in keV\n",
    "\n",
    "alpha: local pitch angle in rad\n",
    "\n",
    "\n",
    "**Outputs**:\n",
    "\n",
    "upar0: parallel velocity in m/s\n",
    "\n",
    "uper0: perpendicular velocity in m/s\n",
    "\n",
    "ppar0: parallel momentum in N*s\n",
    "\n",
    "pper0: perpendicular momentum in N*s\n",
    "\n",
    "gamma0: Lorentz factor\n",
    "\n",
    "[Return to top](#top-bullet) "
   ]
  },
  {
   "cell_type": "code",
   "execution_count": 12,
   "id": "f052eb79",
   "metadata": {},
   "outputs": [
    {
     "name": "stdout",
     "output_type": "stream",
     "text": [
      "Energy: 168 kev\n",
      "alpha: 20.0 deg\n",
      "parallel velocity: 185509768.48734844 m/s\n",
      "perpendicular velocity: 67520033.89500917 m/s\n",
      "parallel momentum: 2.245445695265737e-22 N*s\n",
      "perpendicular momentum: 8.17275395737906e-23 N*s\n",
      "Lorentz factor: 1.3287608233233947\n"
     ]
    }
   ],
   "source": [
    "\n",
    "EkeV_=168\n",
    "alpha_=np.deg2rad(20)\n",
    "\n",
    "upar_,uper_,ppar_,pper_,gamma_=env.momentums(EkeV_,alpha_,env.const.me)\n",
    "\n",
    "print('Energy:',EkeV_,'kev')\n",
    "print('alpha:',np.rad2deg(alpha_),'deg')\n",
    "print('parallel velocity:',upar_,'m/s')\n",
    "print('perpendicular velocity:',uper_,'m/s')\n",
    "print('parallel momentum:',ppar_,'N*s')\n",
    "print('perpendicular momentum:',pper_,'N*s')\n",
    "print('Lorentz factor:',gamma_)"
   ]
  },
  {
   "cell_type": "markdown",
   "id": "2425f1ca",
   "metadata": {},
   "source": [
    "[Return to top](#top-bullet) "
   ]
  },
  {
   "cell_type": "markdown",
   "id": "eda98bb3",
   "metadata": {},
   "source": [
    "### 14. environment_mod.mu_adiabatic <a class=\"anchor\" id=\"mu_adiabatic-bullet\"></a>\n",
    "\n",
    "$$\\mu=\\frac{p_\\perp^2}{2 m B}$$\n",
    "\n",
    "**Inputs**:\n",
    "\n",
    "pper_arg:\n",
    "\n",
    "B_arg: \n",
    "\n",
    "m_arg:\n",
    "\n",
    "\n",
    "**Outputs**:\n",
    "\n",
    "[Return to top](#top-bullet) "
   ]
  },
  {
   "cell_type": "code",
   "execution_count": 13,
   "id": "76dcb768",
   "metadata": {},
   "outputs": [
    {
     "name": "stdout",
     "output_type": "stream",
     "text": [
      "First adiabatic invariant: 1.60723697506637e-08\n"
     ]
    }
   ],
   "source": [
    "EkeV_=168\n",
    "lat_deg = 10\n",
    "lat_rad = np.deg2rad(lat_deg)\n",
    "L_shell=4\n",
    "aeq_deg=30\n",
    "aeq_rad=np.deg2rad(aeq_deg)\n",
    "Bmag=env.Bmag_dipole(L_shell,lat_rad)\n",
    "\n",
    "alpha_local=env.aeq2alpha(L_shell,lat_rad,aeq_rad)\n",
    "\n",
    "upar_,uper_,ppar_,pper_,gamma_=env.momentums(EkeV_,alpha_local,env.const.me)\n",
    "mu_ad=env.mu_adiabatic(pper_,Bmag,env.const.me)\n",
    "\n",
    "print('First adiabatic invariant:',mu_ad)\n"
   ]
  },
  {
   "cell_type": "markdown",
   "id": "61576cc2",
   "metadata": {},
   "source": [
    "[Return to top](#top-bullet) "
   ]
  },
  {
   "cell_type": "markdown",
   "id": "04e95124",
   "metadata": {},
   "source": [
    "### 15. environment_mod.bounce_period <a class=\"anchor\" id=\"bounce_period-bullet\"></a>\n",
    "\n",
    "$$\\tau_b \\approx 0.117 L\\frac{c}{u}\\Big[ 1-0.4635(\\sin\\alpha_{eq})^{3/4}\\Big]$$\n",
    "\n",
    "**Inputs**:\n",
    "\n",
    "L_arg:\n",
    "\n",
    "v_arg: \n",
    "\n",
    "aeq_arg:\n",
    "\n",
    "\n",
    "**Outputs**:\n",
    "\n",
    "\n",
    "Öztürk, M. Kaan. \"Trajectories of charged particles trapped in Earth’s magnetic field.\" American Journal of Physics 80.5 (2012): 420-428.\n",
    "\n",
    "P. A. Sturrock, Plasma Physics: An Introduction to the Theory of Astro-\n",
    "physical, Geophysical, and Laboratory Plasmas (Cambridge U.P., Cam-\n",
    "bridge, UK, 1994)\n",
    "\n",
    "[Return to top](#top-bullet) \n",
    "\n",
    "\n"
   ]
  },
  {
   "cell_type": "markdown",
   "id": "574db185",
   "metadata": {},
   "source": [
    "### 16. environment_mod.drift_period <a class=\"anchor\" id=\"drift_period-bullet\"></a>\n",
    "\n",
    "$$\\tau_d \\approx \\frac{2\\pi q B_0 R_e^3}{mu^2}\\frac{1}{LR_e}\\Big[1-\\frac{1}{3}(\\sin\\alpha_{eq})^{0.62}\\Big]$$\n",
    "\n",
    "**Inputs**:\n",
    "\n",
    "pper_arg:\n",
    "\n",
    "B_arg: \n",
    "\n",
    "m_arg:\n",
    "\n",
    "\n",
    "**Outputs**:\n",
    "\n",
    "Öztürk, M. Kaan. \"Trajectories of charged particles trapped in Earth’s magnetic field.\" American Journal of Physics 80.5 (2012): 420-428.\n",
    "\n",
    "P. A. Sturrock, Plasma Physics: An Introduction to the Theory of Astro-\n",
    "physical, Geophysical, and Laboratory Plasmas (Cambridge U.P., Cam-\n",
    "bridge, UK, 1994)\n",
    "\n",
    "[Return to top](#top-bullet) \n",
    "\n",
    "\n"
   ]
  },
  {
   "cell_type": "code",
   "execution_count": 14,
   "id": "d01cca10",
   "metadata": {},
   "outputs": [
    {
     "name": "stdout",
     "output_type": "stream",
     "text": [
      "cyclotron period: 6.401584793531712e-05 s\n",
      "bounce period: 0.5148365684769513 s\n",
      "drift period: 126.02612828165691 s\n"
     ]
    }
   ],
   "source": [
    "EkeV_=168\n",
    "lat_deg = 10\n",
    "lat_rad = np.deg2rad(lat_deg)\n",
    "L_shell=4\n",
    "aeq_deg=30\n",
    "aeq_rad=np.deg2rad(aeq_deg)\n",
    "Bmag=env.Bmag_dipole(L_shell,lat_rad)\n",
    "\n",
    "wce=env.omega_cyclotron(Bmag,env.const.qe,env.const.me)\n",
    "tc=2*np.pi/wce\n",
    "\n",
    "alpha_local=env.aeq2alpha(L_shell,lat_rad,aeq_rad)\n",
    "\n",
    "upar_,uper_,ppar_,pper_,gamma_=env.momentums(EkeV_,alpha_local,env.const.me)\n",
    "\n",
    "umag=np.sqrt(upar_*upar_+uper_*uper_)\n",
    "\n",
    "tb=env.bounce_period(L_shell,umag,aeq_rad)\n",
    "td=env.drift_period(Bmag,env.const.me,umag,L_shell,aeq_rad)\n",
    "\n",
    "print('cyclotron period:',tc,'s')\n",
    "print('bounce period:',tb,'s')\n",
    "print('drift period:',td,'s')"
   ]
  },
  {
   "cell_type": "code",
   "execution_count": null,
   "id": "924b9cf2",
   "metadata": {},
   "outputs": [],
   "source": []
  },
  {
   "cell_type": "markdown",
   "id": "e0a7938c",
   "metadata": {},
   "source": [
    "[Return to top](#top-bullet) "
   ]
  },
  {
   "cell_type": "markdown",
   "id": "ceb3b920",
   "metadata": {},
   "source": [
    "### 17. environment_mod.loss_cone <a class=\"anchor\" id=\"loss_cone-bullet\"></a>\n",
    "\n",
    "$$\\sin\\alpha_{lc}=[L^3((4-3/L)^{1/2}]^{-1/2}$$\n",
    "\n",
    "**Inputs**:\n",
    "\n",
    "pper_arg:\n",
    "\n",
    "B_arg: \n",
    "\n",
    "m_arg:\n",
    "\n",
    "\n",
    "**Outputs**:\n",
    "\n",
    "Kivelsonn Introduction to Space Physics\n",
    "\n",
    "[Return to top](#top-bullet) "
   ]
  },
  {
   "cell_type": "code",
   "execution_count": 15,
   "id": "07ee2391",
   "metadata": {},
   "outputs": [
    {
     "name": "stdout",
     "output_type": "stream",
     "text": [
      "Loss cone: 5.341843503512352 deg\n"
     ]
    }
   ],
   "source": [
    "Lshell=4\n",
    "\n",
    "alc=env.loss_cone(Lshell)\n",
    "\n",
    "print('Loss cone:',np.rad2deg(alc),'deg')"
   ]
  },
  {
   "cell_type": "markdown",
   "id": "3b10792d",
   "metadata": {},
   "source": [
    "[Return to top](#top-bullet) "
   ]
  },
  {
   "cell_type": "markdown",
   "id": "d609164f",
   "metadata": {},
   "source": [
    "### 18. environment_mod.debye_length <a class=\"anchor\" id=\"debye_length-bullet\"></a>\n",
    "\n",
    "$$\\lambda_D=\\Big(\\frac{\\epsilon_0 k_B T}{n q_e^2}\\Big)^{1/2}$$\n",
    "\n",
    "**Inputs**:\n",
    "\n",
    "pper_arg:\n",
    "\n",
    "B_arg: \n",
    "\n",
    "m_arg:\n",
    "\n",
    "\n",
    "**Outputs**:\n",
    "\n",
    "[Return to top](#top-bullet) "
   ]
  },
  {
   "cell_type": "code",
   "execution_count": 16,
   "id": "ee742294",
   "metadata": {},
   "outputs": [
    {
     "name": "stdout",
     "output_type": "stream",
     "text": [
      "Debye length: 0.47622398265861565 m\n"
     ]
    }
   ],
   "source": [
    "Te=1000 #K\n",
    "ne=10**7 #m^-3\n",
    "\n",
    "deb_len=env.debye_length(ne,Te)\n",
    "\n",
    "print('Debye length:',deb_len,'m')"
   ]
  },
  {
   "cell_type": "markdown",
   "id": "9baf17cd",
   "metadata": {},
   "source": [
    "[Return to top](#top-bullet) "
   ]
  }
 ],
 "metadata": {
  "kernelspec": {
   "display_name": "Python 3 (ipykernel)",
   "language": "python",
   "name": "python3"
  },
  "language_info": {
   "codemirror_mode": {
    "name": "ipython",
    "version": 3
   },
   "file_extension": ".py",
   "mimetype": "text/x-python",
   "name": "python",
   "nbconvert_exporter": "python",
   "pygments_lexer": "ipython3",
   "version": "3.6.9"
  }
 },
 "nbformat": 4,
 "nbformat_minor": 5
}
