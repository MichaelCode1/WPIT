{
 "cells": [
  {
   "cell_type": "markdown",
   "id": "59e69e5b",
   "metadata": {},
   "source": [
    "## Example calls of waveproperties_mod routines"
   ]
  },
  {
   "cell_type": "code",
   "execution_count": 3,
   "id": "b4d81843",
   "metadata": {},
   "outputs": [],
   "source": [
    "import numpy as np\n",
    "import os\n",
    "import sys\n",
    "import inspect\n",
    "import matplotlib.pyplot as plt\n",
    "import PyGCPM\n",
    "\n",
    "\n",
    "current_dir =  os.path.abspath(os.path.dirname('__file__'))\n",
    "\n",
    "fpath = os.path.abspath(current_dir + \"/../environment\")\n",
    "fpath2 = os.path.abspath(current_dir + \"/../wave_properties\")\n",
    "sys.path.append(fpath)\n",
    "sys.path.append(fpath2)\n",
    "import  const\n",
    "# print(current_dir)\n",
    "# print(fpath)\n"
   ]
  },
  {
   "cell_type": "markdown",
   "id": "2716867b",
   "metadata": {},
   "source": [
    " <a class=\"anchor\" id=\"top-bullet\"></a>\n",
    "### Table of Contents\n",
    "\n",
    "* [Landau_mod.landau_damping](#landau_damping-bullet)\n"
   ]
  },
  {
   "cell_type": "markdown",
   "id": "32c1fc56",
   "metadata": {},
   "source": [
    "### 7. Landau_mod.landau_damping <a class=\"anchor\" id=\"landau_damping-bullet\"></a>\n",
    "\n",
    "### Landau Damping\n",
    "\n",
    "We utilize a kinetic approach to determine the small correction\n",
    "of the wave refractive index that comes about due to the presence of suprather-\n",
    "mal particles. This correction manifests itself as an imaginary part, leading to the\n",
    "damping of the wave for typical distributions of suprathermal electrons in the inner\n",
    "magnetosphere. <br>\n",
    "Landau\n",
    "damping was first applied to the whistler mode by Kennel (1966), and subsequently\n",
    "generalized by Brinca (1972). While the derivation is detailed, applications of the\n",
    "Brinca equations are heavily dependent on the temperature profile used (Thorne and\n",
    "Horne, 1994; Bell , 2002). Within this work we use a modified temperature profile\n",
    "from Golden et al. (2010), which combines results from Bell (2002) and Bortnik et al.\n",
    "(2007). <br>\n",
    "Landau damping, originating in a seminal work by Landau (1946), is a resonant\n",
    "interaction between a wave and the distribution of electrons and ions comprising\n",
    "the background medium. The Landau mechanism is an interaction with parallel\n",
    "streaming particles and the wave’s electric field. Resonant particles are accelerated\n",
    "or decelerated by the wave’s electric field; if a majority of the resonant electrons have\n",
    "velocities slightly below that of the wave, the wavefront imparts some net energy\n",
    "to the plasma, and the wave is attenuated. Conversely, if the majority of resonant\n",
    "particles are moving faster than the wave, some of their energy can be imparted to\n",
    "the wavefront, inducing wave growth (Chen, 1983; Kulkarni , 2009; Harid , 2015).\n",
    "<br>\n",
    "The extent to which a wave is amplified or damped is heavily dependent on the\n",
    "energy distribution of background electrons. The energy distribution, or temperature\n",
    "profile, is specified as a normalized function in phase space – a function of position\n",
    "and velocity, which is normalized to 1: <br>\n",
    "\n",
    "$$ f = f(\\vec{r},\\vec{u},t)=f(\\vec{r},u_{\\perp},u_{\\parallel},t)$$\n",
    "$$\\int_{0}^{\\infty} f d u_{\\perp}=1 $$\n",
    "\n",
    "Particles constituting any realistic plasma at a finite temperature are not cold (i.e.,\n",
    "$<u^2> \\neq 0$), but in fact have a distribution of velocities that can affect a propagating\n",
    "whistler wave. To account for the effects on the wave of a distribution of particles, we use the so-called ‘hot-plasma’ theory to re-derive the refractive index μ of the wave\n",
    "as a function of frequency, using the more general Vlasov equation together with\n",
    "Maxwell’s equations [Kennel, 1966], rather than the momentum transport equation\n",
    "(2.5) used for the cold plasma analysis.\n",
    "The solution of the Vlasov-Maxwell equations leads to a refractive index with\n",
    "an infinite number of poles in the complex plane, corresponding to the resonance\n",
    "condition expressed in (2.27). The effect of the poles can be determined using a\n",
    "contour integration method around the poles, yielding a small imaginary component\n",
    "to the refractive index, indicating that near resonance, there exists the possibility of\n",
    "damping or growth of the wave.\n",
    "Writing the total refractive index as $n = \\mu − i \\chi$ or\n",
    "$k = k_r + ik_i$ , the imaginary part can be expressed as [Brinca, 1972]:\n",
    "\n",
    "$$\\chi = - \\frac{ck_i}{\\omega} \n",
    "       = \\frac{A_N}{4\\mu(2A\\mu^2-B)} \\Bigg[ \\frac{\\mu^2 \\sin^2 \\theta -P}{2(S-\\mu^2) } \\Gamma_1 \\Big[  (R-\\mu^2) J_{m_1} + (L- \\mu^2 ) J_{m+1} \\Big]^2 G_1 - 2 \\Big[ (S-\\mu^2 \\cos^2 \\theta)(S-\\mu^2)-D^2\\Big] \\Lambda_1 J_m G_2 - 2 \\mu^2 \\sin \\theta \\cos \\theta \\Gamma_1 \\Big[ (R-\\mu^2) J_{m-1} + (L-\\mu^2 ) J_{m+1} \\Big]^2 G2 \\Bigg]$$\n",
    "\n",
    "where the symbols A, B, C, D, L, P , R, and S are the Stix parameters, $A_N$ is the normalization constant ,the argument of the Bessel functions $J_i$ is $\\beta$ and the\n",
    "operators $\\Gamma_1$ and $\\Lambda_1$ are defined as:\n",
    "\n",
    "$$\\Gamma_1= \\frac{2 \\pi^2 \\omega_{pe}^2 }{\\omega k_z} \\sum_{m=-\\infty}^{\\infty} \\int_{0}^{\\infty}\n",
    " u_{\\perp}^2 d u_{\\perp} \\int_{-\\infty}^{\\infty} du_z \\delta (u_z-u_z^{res})   $$\n",
    "\n",
    "$$\\Lambda_1= \\frac{2 \\pi^2 \\omega_{pe}^2 }{\\omega k_z} \\sum_{m=-\\infty}^{\\infty} \\int_{0}^{\\infty}\n",
    " u_{\\perp} d u_{\\perp} \\int_{-\\infty}^{\\infty} u_z du_z \\delta (u_z-u_z^{res})   $$\n",
    " \n",
    "$$G_1=\\Big( 1- \\frac{k_zu_z}{\\omega} \\Big) \\frac{\\partial f}{\\partial u_{\\perp}} + \\frac{k_zu_{\\perp}}{\\omega} \\frac{\\partial f}{\\partial u_{z}} $$\n",
    "\n",
    "$$G2=J_m \\Big[ \\Big( 1+ \\frac{m \\omega_H}{k_z}\\Big) \\frac{\\partial f}{\\partial u_{z}} - m \\frac{\\omega_H u_z}{\\omega u_{\\perp}} \\frac{\\partial f}{\\partial u_{\\perp}} \\Big]$$\n",
    "\n",
    "and f represents the electron dis-\n",
    "tribution function, given as:\n",
    "\n",
    "$$f(u_{\\perp},u_z)=\\frac{A_N u_{\\perp}^{2p}}{(u_{\\perp}^2 + u_{z}^2 +u_{0}^2)^q} $$\n",
    "$$ \\int_{0}^{2\\pi}  d \\phi \\int_{0}^{\\infty}  u_{\\perp} d u_{\\perp} \\int_{-\\infty}^{\\infty} f du_z = 1 $$\n",
    "\n",
    "The normalization defines $A_N$ and the mean square velocity determines $u_0$ . In\n",
    "our work we use the suprathermal particle distribution given by $f (v) = 2 \\times 10^5 v^{−4}\n",
    "cm^{−6} s^3$ [Bell et al., 2002] and the normalization factor $A_N$ reduces to $A N = 2\\times10^5 /n_e$ ,\n",
    "where both numerator and denominator must be expressed in similar units.\n",
    "\n",
    "\n",
    "**Inputs**:\n",
    "\n",
    "ray_file: Stanford's 3D Ray tracer output\n",
    "\n",
    "\n",
    "\n",
    "**Outputs**:\n",
    "\n",
    "ray_file_damp:csv ray file with appended damping values\n",
    "\n"
   ]
  },
  {
   "cell_type": "code",
   "execution_count": 4,
   "id": "bb388e2f",
   "metadata": {},
   "outputs": [
    {
     "name": "stdout",
     "output_type": "stream",
     "text": [
      "step of total steps:\n",
      "4.01171883137814e-11 1.0 0.999886820762711\n",
      "done\n",
      "Finished with Landau damping\n",
      "3610\n",
      "Start plotting...\n"
     ]
    },
    {
     "data": {
      "image/png": "[encoded data removed]",
      "text/plain": [
       "<Figure size 504x504 with 1 Axes>"
      ]
     },
     "metadata": {
      "needs_background": "light"
     },
     "output_type": "display_data"
    },
    {
     "name": "stdout",
     "output_type": "stream",
     "text": [
      "Saving file...\n",
      "L2_freq2464_psi89_lat_-5_damping.csv\n"
     ]
    }
   ],
   "source": [
    "from Landau_mod import landau_damping  \n",
    "\n",
    "\n",
    "ray_file='example_rays/freq2464_psi-89_L2_lamda_-5_v2.ray'\n",
    "    \n",
    "landau_damping(ray_file)"
   ]
  },
  {
   "cell_type": "markdown",
   "id": "e95dc238",
   "metadata": {},
   "source": [
    "[Return to top](#top-bullet) "
   ]
  },
  {
   "cell_type": "code",
   "execution_count": null,
   "id": "2a6c2b71",
   "metadata": {},
   "outputs": [],
   "source": []
  }
 ],
 "metadata": {
  "kernelspec": {
   "display_name": "Python 3 (ipykernel)",
   "language": "python",
   "name": "python3"
  },
  "language_info": {
   "codemirror_mode": {
    "name": "ipython",
    "version": 3
   },
   "file_extension": ".py",
   "mimetype": "text/x-python",
   "name": "python",
   "nbconvert_exporter": "python",
   "pygments_lexer": "ipython3",
   "version": "3.6.9"
  }
 },
 "nbformat": 4,
 "nbformat_minor": 5
}
